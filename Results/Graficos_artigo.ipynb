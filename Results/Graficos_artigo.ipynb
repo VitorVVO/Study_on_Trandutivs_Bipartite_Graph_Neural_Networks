{
  "nbformat": 4,
  "nbformat_minor": 0,
  "metadata": {
    "colab": {
      "provenance": [],
      "collapsed_sections": [
        "wc_E5XFkJKxK",
        "hCQOlgkbciiP",
        "uJGJozDnJSlk",
        "RUteLKG1mgR4",
        "9_a6wN_GmgR4",
        "IXANYfdDmgR4",
        "Mt4VvgK6C4VP",
        "nomRvYkXC4VP",
        "Q8j2fynGC4VP",
        "8tFy_ElamyVB",
        "FmzsuX7CmyVG",
        "0pZO7BqcpJX3",
        "ABSyT1WFpxmH",
        "ISITytHTpxmL",
        "ISDW6mwhpxmM",
        "yWs-FT_fpxmM",
        "rF1U9w4npyod",
        "P_9V2YQ3pyon",
        "GgmoxiBDpyon",
        "cNv725DMpyon",
        "Dfxj20-SsoLg",
        "YqfBB93zsoLl",
        "MxD0tGbGsoLl",
        "7Is0u96OsoLl",
        "bzQbY3X4soLm"
      ]
    },
    "kernelspec": {
      "name": "python3",
      "display_name": "Python 3"
    },
    "language_info": {
      "name": "python"
    }
  },
  "cells": [
    {
      "cell_type": "markdown",
      "source": [
        "# Imports"
      ],
      "metadata": {
        "id": "jzjnmCygvtk3"
      }
    },
    {
      "cell_type": "code",
      "execution_count": null,
      "metadata": {
        "id": "k6UAcLdm_sR8"
      },
      "outputs": [],
      "source": [
        "import pandas as pd\n",
        "import numpy as np\n",
        "import matplotlib as mpl\n",
        "import matplotlib.pyplot as plt\n",
        "from matplotlib.lines import Line2D\n",
        "import os,errno"
      ]
    },
    {
      "cell_type": "code",
      "source": [
        "from google.colab import drive\n",
        "drive.mount('/content/drive')"
      ],
      "metadata": {
        "id": "39ccaX7dnIjZ"
      },
      "execution_count": null,
      "outputs": []
    },
    {
      "cell_type": "markdown",
      "source": [
        "# Functions"
      ],
      "metadata": {
        "id": "7jujTgfRZM2u"
      }
    },
    {
      "cell_type": "code",
      "source": [
        "SMALL_SIZE = 16\n",
        "MEDIUM_SIZE = 26\n",
        "BIGGER_SIZE = 34\n",
        "\n",
        "plt.rc('font', size=MEDIUM_SIZE)          # controls default text sizes\n",
        "plt.rc('axes', titlesize=MEDIUM_SIZE)     # fontsize of the axes title\n",
        "plt.rc('xtick', labelsize=MEDIUM_SIZE)    # fontsize of the tick labels\n",
        "plt.rc('ytick', labelsize=MEDIUM_SIZE)    # fontsize of the tick labels\n",
        "plt.rc('legend', fontsize=BIGGER_SIZE)     # legend fontsize\n",
        "plt.rc('figure', titlesize=BIGGER_SIZE, titleweight=\"bold\")  # fontsize of the figure title\n",
        "plt.rc('lines', linewidth=2.6, markersize=16)"
      ],
      "metadata": {
        "id": "RlQ09BqSVhaL"
      },
      "execution_count": null,
      "outputs": []
    },
    {
      "cell_type": "code",
      "source": [
        "def extract_labels(index):\n",
        "    labels=[]\n",
        "    for i in index:\n",
        "        split = i.split('_')\n",
        "        if len(split)==3:\n",
        "            dataset_name = split[0]\n",
        "            labels.append(split[1]+'_'+split[2])\n",
        "        if len(split)==4:\n",
        "            dataset_name = split[0]+'_'+split[1]\n",
        "            labels.append(split[2]+'_'+split[3])\n",
        "    return dataset_name,labels"
      ],
      "metadata": {
        "id": "HXas-Z_GZOnc"
      },
      "execution_count": null,
      "outputs": []
    },
    {
      "cell_type": "code",
      "source": [
        "def plot_single_graph(dataframe,dataframe_name,y_label):\n",
        "    for i in range(12):\n",
        "        l = i*6\n",
        "        df = dataframe.iloc[l:l+6]\n",
        "\n",
        "        if l==0:\n",
        "            df = df.drop('30', axis=1)\n",
        "\n",
        "            dataset_name,labels = extract_labels(df.index)\n",
        "\n",
        "            fig, ax = plt.subplots(figsize=(12,6), layout='constrained')\n",
        "            ax.plot(df.iloc[0], label=labels[0], marker ='.')\n",
        "            ax.plot(df.iloc[1], label=labels[1], marker ='.')\n",
        "            ax.plot(df.iloc[2], label=labels[2], marker ='.')\n",
        "            ax.plot(df.iloc[3], label=labels[3], marker ='.')\n",
        "            ax.plot(df.iloc[4], label=labels[4], marker ='.')\n",
        "            ax.plot(df.iloc[5], label=labels[5], marker ='.')\n",
        "            ax.set_xlabel('Number of rotulated data')\n",
        "            ax.set_ylabel('Accuracy')\n",
        "            ax.set_title(dataset_name)\n",
        "            plt.grid(True)\n",
        "            # ax.legend()\n",
        "\n",
        "            fig.savefig(output_path+'/'+dataset_name+'.pdf')\n",
        "\n",
        "        else:\n",
        "\n",
        "            dataset_name,labels = extract_labels(df.index)\n",
        "\n",
        "            fig, ax = plt.subplots(figsize=(12,6), layout='constrained')\n",
        "            ax.plot(df.iloc[0], label=labels[0], marker ='.')\n",
        "            ax.plot(df.iloc[1], label=labels[1], marker ='.')\n",
        "            ax.plot(df.iloc[2], label=labels[2], marker ='.')\n",
        "            ax.plot(df.iloc[3], label=labels[3], marker ='.')\n",
        "            ax.plot(df.iloc[4], label=labels[4], marker ='.')\n",
        "            ax.plot(df.iloc[5], label=labels[5], marker ='.')\n",
        "            ax.set_xlabel('Number of rotulated data',fontsize=BIGGER_SIZE)\n",
        "            ax.set_ylabel(y_label)\n",
        "            ax.set_title(dataset_name)\n",
        "            plt.grid(True)\n",
        "            #ax.legend( bbox_to_anchor=(0.5, -0.05), fancybox=True, shadow=True, ncol=3)\n",
        "\n",
        "            fig.savefig(output_path+'/'+dataset_name+'.pdf')"
      ],
      "metadata": {
        "id": "kCMYIS3XbSs1"
      },
      "execution_count": null,
      "outputs": []
    },
    {
      "cell_type": "code",
      "source": [
        "def plot_graph_comb(dataframe,dataframe_name,y_label):\n",
        "    fig, axs = plt.subplots(6, 2, figsize=(24, 32))\n",
        "    i=0\n",
        "    for ax1 in axs:\n",
        "        for ax in ax1:\n",
        "            l = i*6\n",
        "            df = dataframe.iloc[l:l+6]\n",
        "\n",
        "            if l==0:\n",
        "                df = df.drop('30', axis=1)\n",
        "\n",
        "                dataset_name,labels = extract_labels(df.index)\n",
        "\n",
        "                ax.plot(df.iloc[0], label=labels[0], marker ='.')\n",
        "                ax.plot(df.iloc[1], label=labels[1], marker ='.')\n",
        "                ax.plot(df.iloc[2], label=labels[2], marker ='.')\n",
        "                ax.plot(df.iloc[3], label=labels[3], marker ='.')\n",
        "                ax.plot(df.iloc[4], label=labels[4], marker ='.')\n",
        "                ax.plot(df.iloc[5], label=labels[5], marker ='.')\n",
        "                ax.set_xlabel('Number of rotulated data')\n",
        "                ax.set_ylabel(y_label)\n",
        "                ax.set_title(dataset_name)\n",
        "                ax.grid(True)\n",
        "                # ax.legend()\n",
        "\n",
        "            else:\n",
        "\n",
        "                dataset_name,labels = extract_labels(df.index)\n",
        "\n",
        "                ax.plot(df.iloc[0], label=labels[0], marker ='.')\n",
        "                ax.plot(df.iloc[1], label=labels[1], marker ='.')\n",
        "                ax.plot(df.iloc[2], label=labels[2], marker ='.')\n",
        "                ax.plot(df.iloc[3], label=labels[3], marker ='.')\n",
        "                ax.plot(df.iloc[4], label=labels[4], marker ='.')\n",
        "                ax.plot(df.iloc[5], label=labels[5], marker ='.')\n",
        "                ax.set_xlabel('Number of rotulated data')\n",
        "                ax.set_ylabel(y_label)\n",
        "                ax.set_title(dataset_name)\n",
        "                ax.grid(True)\n",
        "                # if(i==12):\n",
        "                #     ax.legend( bbox_to_anchor=(0.5, -0.05), fancybox=True, shadow=True, ncol=3)\n",
        "\n",
        "            i+=1\n",
        "\n",
        "    handles, labels = plt.gca().get_legend_handles_labels()\n",
        "    fig.legend(handles, labels, loc='lower center', bbox_to_anchor=(0.5, -0.05), fancybox=True, shadow=True, ncol=3)\n",
        "    plt.tight_layout()\n",
        "    plt.show()\n",
        "\n",
        "    fig.savefig(output_path+'/'+dataframe_name+'_all_datsets.pdf', bbox_inches='tight')"
      ],
      "metadata": {
        "id": "HTMLJH3XbPXk"
      },
      "execution_count": null,
      "outputs": []
    },
    {
      "cell_type": "code",
      "source": [
        "def plot_graph_comp(dataframe,dataframe_old,dataframe_name,y_label, label_g1, label_g2):\n",
        "    fig, axs = plt.subplots(6, 2, figsize=(24, 32))\n",
        "    i=0\n",
        "    for ax1 in axs:\n",
        "        for ax in ax1:\n",
        "            l = i*6\n",
        "            df = dataframe.iloc[l:(l+6)]\n",
        "            df_old = dataframe_old.iloc[l:(l+6)]\n",
        "\n",
        "\n",
        "            if l==0:\n",
        "                df = df.drop('30', axis=1)\n",
        "                df_old = df_old.drop('30', axis=1)\n",
        "\n",
        "                dataset_name,labels = extract_labels(df.index)\n",
        "\n",
        "                # GAT - verde\n",
        "                ax.plot(df.iloc[0], label=label_g1+\"_GAT\", marker ='.', color = '#229954') #D4E6F1\n",
        "                ax.plot(df.iloc[2], label=label_g1+\"_GAT\", marker ='.', color = '#229954') #7FB3D5\n",
        "                ax.plot(df.iloc[4], label=label_g1+\"_GAT\", marker ='.', color = '#229954') #2980B9\n",
        "                #GCN - Amarela\n",
        "                ax.plot(df.iloc[1], label=label_g1+\"_GCN\", marker ='.', color = '#F1C40F')   #A9CCE3\n",
        "                ax.plot(df.iloc[3], label=label_g1+\"_GCN\", marker ='.', color = '#F1C40F')   #5499C7\n",
        "                ax.plot(df.iloc[5], label=label_g1+\"_GCN\", marker ='.', color = '#F1C40F')   #2471A3\n",
        "\n",
        "                # dit = {}\n",
        "                # for x in range(6):\n",
        "                #     for (j, v) in zip(df.iloc[x].index.to_list(),df.iloc[x].values):\n",
        "                #         if j in dit.keys():\n",
        "                #             dit[j]+=v\n",
        "                #         else:\n",
        "                #             dit[j]=v\n",
        "\n",
        "                # for j in df.iloc[0].index.to_list():\n",
        "                #     ax.text(j, (dit[j]/6)-0.075, \"%.2f\" % (dit[j]/6), ha=\"center\", color = '#229954')# (dit[i]/6)-0.05\n",
        "\n",
        "                dataset_name_old,labels_old = extract_labels(df_old.index)\n",
        "\n",
        "                # GAT - Azul\n",
        "                ax.plot(df_old.iloc[0], label=label_g2+\"_GAT\", marker ='.', color = '#3498DB')\n",
        "                ax.plot(df_old.iloc[2], label=label_g2+\"_GAT\", marker ='.', color = '#3498DB')\n",
        "                ax.plot(df_old.iloc[4], label=label_g2+\"_GAT\", marker ='.', color = '#3498DB')\n",
        "                # GCN - vermelho\n",
        "                ax.plot(df_old.iloc[1], label=label_g2+\"_GCN\", marker ='.', color = '#E74C3C') #D98880\n",
        "                ax.plot(df_old.iloc[3], label=label_g2+\"_GCN\", marker ='.', color = '#E74C3C') #C0392B\n",
        "                ax.plot(df_old.iloc[5], label=label_g2+\"_GCN\", marker ='.', color = '#E74C3C') #922B21\n",
        "\n",
        "                # dit = {}\n",
        "                # for x in range(6):\n",
        "                #     for (j, v) in zip(df_old.iloc[x].index.to_list(),df_old.iloc[x].values):\n",
        "                #         if j in dit.keys():\n",
        "                #             dit[j]+=v\n",
        "                #         else:\n",
        "                #             dit[j]=v\n",
        "\n",
        "                # for j in df_old.iloc[0].index.to_list():\n",
        "                #     ax.text(j, (dit[j]/6)+0.05, \"%.2f\" % (dit[j]/6), ha=\"center\", color = '#3498DB')# (dit[i]/6)-0.05\n",
        "\n",
        "                ax.set_xlabel('Number of rotulated data')\n",
        "                ax.set_ylabel(y_label)\n",
        "                ax.set_title(dataset_name)\n",
        "                plt.grid(True)\n",
        "                #ax.legend()\n",
        "\n",
        "            else:\n",
        "\n",
        "                dataset_name,labels = extract_labels(df.index)\n",
        "\n",
        "                # GAT - verde\n",
        "                ax.plot(df.iloc[0], label=label_g1+\"_GAT\", marker ='.', color = '#229954') #D4E6F1\n",
        "                ax.plot(df.iloc[2], label=label_g1+\"_GAT\", marker ='.', color = '#229954') #7FB3D5\n",
        "                ax.plot(df.iloc[4], label=label_g1+\"_GAT\", marker ='.', color = '#229954') #2980B9\n",
        "                #GCN - Amarela\n",
        "                ax.plot(df.iloc[1], label=label_g1+\"_GCN\", marker ='.', color = '#F1C40F')   #A9CCE3\n",
        "                ax.plot(df.iloc[3], label=label_g1+\"_GCN\", marker ='.', color = '#F1C40F')   #5499C7\n",
        "                ax.plot(df.iloc[5], label=label_g1+\"_GCN\", marker ='.', color = '#F1C40F')   #2471A3\n",
        "\n",
        "                # dit = {}\n",
        "                # for x in range(6):\n",
        "                #     for (j, v) in zip(df.iloc[x].index.to_list(),df.iloc[x].values):\n",
        "                #         if j in dit.keys():\n",
        "                #             dit[j]+=v\n",
        "                #         else:\n",
        "                #             dit[j]=v\n",
        "\n",
        "                # for j in df.iloc[0].index.to_list():\n",
        "                #     ax.text(j, (dit[j]/6)-0.075, \"%.2f\" % (dit[j]/6), ha=\"center\", color = '#229954')# (dit[i]/6)-0.05\n",
        "\n",
        "                dataset_name_old,labels_old = extract_labels(df_old.index)\n",
        "\n",
        "                # GAT - Azul\n",
        "                ax.plot(df_old.iloc[0], label=label_g2+\"_GAT\", marker ='.', color = '#3498DB')\n",
        "                ax.plot(df_old.iloc[2], label=label_g2+\"_GAT\", marker ='.', color = '#3498DB')\n",
        "                ax.plot(df_old.iloc[4], label=label_g2+\"_GAT\", marker ='.', color = '#3498DB')\n",
        "                # GCN - vermelho\n",
        "                ax.plot(df_old.iloc[1], label=label_g2+\"_GCN\", marker ='.', color = '#E74C3C') #D98880\n",
        "                ax.plot(df_old.iloc[3], label=label_g2+\"_GCN\", marker ='.', color = '#E74C3C') #C0392B\n",
        "                ax.plot(df_old.iloc[5], label=label_g2+\"_GCN\", marker ='.', color = '#E74C3C') #922B21\n",
        "\n",
        "                # dit = {}\n",
        "                # for x in range(6):\n",
        "                #     for (j, v) in zip(df_old.iloc[x].index.to_list(),df_old.iloc[x].values):\n",
        "                #         if j in dit.keys():\n",
        "                #             dit[j]+=v\n",
        "                #         else:\n",
        "                #             dit[j]=v\n",
        "\n",
        "                # for j in df_old.iloc[0].index.to_list():\n",
        "\n",
        "            i+=1\n",
        "\n",
        "            ax.set_xlabel('Number of rotulated data')\n",
        "            ax.set_ylabel(y_label)\n",
        "            ax.set_title(dataset_name)\n",
        "            ax.grid(True)\n",
        "            handles, labels = ax.get_legend_handles_labels()\n",
        "            by_label = dict(zip(labels, handles))\n",
        "            #ax.legend(by_label.values(), by_label.keys())\n",
        "            #ax.legend()\n",
        "\n",
        "    handles, labels = plt.gca().get_legend_handles_labels()\n",
        "    # print(handles)\n",
        "    # print(labels)\n",
        "    handles= handles[0::3]\n",
        "    labels= labels[0::3]\n",
        "    fig.legend(handles, labels, loc='lower center', bbox_to_anchor=(0.5, -0.025), fancybox=True, shadow=True, ncol=4)\n",
        "    plt.tight_layout()\n",
        "    plt.show()\n",
        "\n",
        "    fig.savefig(output_path+'/'+dataframe_name+'_all_datsets_comp.pdf', bbox_inches='tight')"
      ],
      "metadata": {
        "id": "c74QaTB0bXIc"
      },
      "execution_count": null,
      "outputs": []
    },
    {
      "cell_type": "markdown",
      "source": [
        "# TRAD"
      ],
      "metadata": {
        "id": "wc_E5XFkJKxK"
      }
    },
    {
      "cell_type": "code",
      "source": [
        "input_path ='/content/drive/MyDrive/Resultados/TRAD/tabelas/'\n",
        "output_path ='/content/drive/MyDrive/Resultados/TRAD/tabelas/imgs/'"
      ],
      "metadata": {
        "id": "kkunedO4JXaX"
      },
      "execution_count": null,
      "outputs": []
    },
    {
      "cell_type": "markdown",
      "source": [
        "## cria dir"
      ],
      "metadata": {
        "id": "hCQOlgkbciiP"
      }
    },
    {
      "cell_type": "code",
      "source": [
        " # cria dirrotio para keyphrase\n",
        "try:\n",
        "    os.makedirs(input_path+\"/imgs/\")\n",
        "except OSError as e:\n",
        "    if e.errno != errno.EEXIST:\n",
        "        raise"
      ],
      "metadata": {
        "id": "_jTyEVMrcg9p"
      },
      "execution_count": null,
      "outputs": []
    },
    {
      "cell_type": "markdown",
      "source": [
        "## load"
      ],
      "metadata": {
        "id": "uJGJozDnJSlk"
      }
    },
    {
      "cell_type": "code",
      "source": [
        "df_acc = pd.read_csv(input_path+\"/mean/df_acc.csv\", index_col='Dataframe')  # acuracia\n",
        "df_pre = pd.read_csv(input_path+\"/mean/df_pre.csv\", index_col='Dataframe')  # precision\n",
        "df_rec = pd.read_csv(input_path+\"/mean/df_rec.csv\", index_col='Dataframe')  # recall\n",
        "df_f1  = pd.read_csv(input_path+\"/mean/df_f1.csv\", index_col='Dataframe')   # f1-score\n",
        "df_sup = pd.read_csv(input_path+\"/mean/df_sup.csv\", index_col='Dataframe')  # support\n",
        "df_time= pd.read_csv(input_path+\"/mean/df_time.csv\", index_col='Dataframe') # time"
      ],
      "metadata": {
        "id": "xrG4oSF9JRsH"
      },
      "execution_count": null,
      "outputs": []
    },
    {
      "cell_type": "markdown",
      "source": [
        "## plot"
      ],
      "metadata": {
        "id": "6nVRamljdTvs"
      }
    },
    {
      "cell_type": "code",
      "source": [
        "plot_graph_comb(df_f1,'df_f1','F1-Score')"
      ],
      "metadata": {
        "id": "B7t5-va0k4Fr"
      },
      "execution_count": null,
      "outputs": []
    },
    {
      "cell_type": "code",
      "source": [
        "plot_graph_comb(df_acc,'df_acc','Accuracy')"
      ],
      "metadata": {
        "id": "tU0mlwkNgnxj"
      },
      "execution_count": null,
      "outputs": []
    },
    {
      "cell_type": "code",
      "source": [
        "plot_graph_comb(df_pre,'df_pre','Precision')"
      ],
      "metadata": {
        "id": "7_rL2zvRlcVq"
      },
      "execution_count": null,
      "outputs": []
    },
    {
      "cell_type": "code",
      "source": [
        "plot_graph_comb(df_rec,'df_rec', 'Recall')"
      ],
      "metadata": {
        "id": "r9jc3PaNldP7"
      },
      "execution_count": null,
      "outputs": []
    },
    {
      "cell_type": "code",
      "source": [
        "plot_graph_comb(df_sup,'df_sup', 'Suppórt')"
      ],
      "metadata": {
        "id": "ryNb72_Sov4R"
      },
      "execution_count": null,
      "outputs": []
    },
    {
      "cell_type": "code",
      "source": [
        "plot_graph_comb(df_time, 'df_time','Time')"
      ],
      "metadata": {
        "id": "K8_idITQov4R"
      },
      "execution_count": null,
      "outputs": []
    },
    {
      "cell_type": "markdown",
      "source": [
        "# TRAD - 80"
      ],
      "metadata": {
        "id": "gla3HAplmgR3"
      }
    },
    {
      "cell_type": "code",
      "source": [
        "input_path ='/content/drive/MyDrive/Resultados/TRAD/tabelas_80/'\n",
        "output_path ='/content/drive/MyDrive/Resultados/TRAD/tabelas_80/imgs/'"
      ],
      "metadata": {
        "id": "xPjsuGdQmgR4"
      },
      "execution_count": null,
      "outputs": []
    },
    {
      "cell_type": "markdown",
      "source": [
        "## cria dir"
      ],
      "metadata": {
        "id": "RUteLKG1mgR4"
      }
    },
    {
      "cell_type": "code",
      "source": [
        " # cria dirrotio para keyphrase\n",
        "try:\n",
        "    os.makedirs(input_path+\"/imgs/\")\n",
        "except OSError as e:\n",
        "    if e.errno != errno.EEXIST:\n",
        "        raise"
      ],
      "metadata": {
        "id": "1EXWfUprmgR4"
      },
      "execution_count": null,
      "outputs": []
    },
    {
      "cell_type": "markdown",
      "source": [
        "## load"
      ],
      "metadata": {
        "id": "9_a6wN_GmgR4"
      }
    },
    {
      "cell_type": "code",
      "source": [
        "df_acc = pd.read_csv(input_path+\"/mean/df_acc.csv\", index_col='Dataframe')  # acuracia\n",
        "df_pre = pd.read_csv(input_path+\"/mean/df_pre.csv\", index_col='Dataframe')  # precision\n",
        "df_rec = pd.read_csv(input_path+\"/mean/df_rec.csv\", index_col='Dataframe')  # recall\n",
        "df_f1  = pd.read_csv(input_path+\"/mean/df_f1.csv\", index_col='Dataframe')   # f1-score\n",
        "df_sup = pd.read_csv(input_path+\"/mean/df_sup.csv\", index_col='Dataframe')  # support\n",
        "df_time= pd.read_csv(input_path+\"/mean/df_time.csv\", index_col='Dataframe') # time"
      ],
      "metadata": {
        "id": "BfxpR45QmgR4"
      },
      "execution_count": null,
      "outputs": []
    },
    {
      "cell_type": "markdown",
      "source": [
        "## plot"
      ],
      "metadata": {
        "id": "IXANYfdDmgR4"
      }
    },
    {
      "cell_type": "code",
      "source": [
        "plot_graph_comb(df_f1,'df_f1','F1-Score')"
      ],
      "metadata": {
        "id": "dEp0bYO9mgR4"
      },
      "execution_count": null,
      "outputs": []
    },
    {
      "cell_type": "code",
      "source": [
        "plot_graph_comb(df_acc,'df_acc','Accuracy')"
      ],
      "metadata": {
        "id": "8nSU1DnGmgR4"
      },
      "execution_count": null,
      "outputs": []
    },
    {
      "cell_type": "code",
      "source": [
        "plot_graph_comb(df_pre,'df_pre','Precision')"
      ],
      "metadata": {
        "id": "sDJwcsMHmgR4"
      },
      "execution_count": null,
      "outputs": []
    },
    {
      "cell_type": "code",
      "source": [
        "plot_graph_comb(df_rec,'df_rec', 'Recall')"
      ],
      "metadata": {
        "id": "2qLmcCt0mgR4"
      },
      "execution_count": null,
      "outputs": []
    },
    {
      "cell_type": "code",
      "source": [
        "plot_graph_comb(df_sup,'df_sup', 'Suppórt')"
      ],
      "metadata": {
        "id": "yBdUFV8fonOf"
      },
      "execution_count": null,
      "outputs": []
    },
    {
      "cell_type": "code",
      "source": [
        "plot_graph_comb(df_time, 'df_time','Time')"
      ],
      "metadata": {
        "id": "gK_lnGOfmgR4"
      },
      "execution_count": null,
      "outputs": []
    },
    {
      "cell_type": "markdown",
      "source": [
        "# TRAD_PERCENT - 80 60 40 20"
      ],
      "metadata": {
        "id": "Mt4VvgK6C4VP"
      }
    },
    {
      "cell_type": "code",
      "source": [
        "input_path ='/content/drive/MyDrive/Resultados/TRAD_PERCENT/tabelas/'\n",
        "output_path ='/content/drive/MyDrive/Resultados/TRAD_PERCENT/tabelas/imgs/'"
      ],
      "metadata": {
        "id": "oeRe0TE1C4VP"
      },
      "execution_count": null,
      "outputs": []
    },
    {
      "cell_type": "markdown",
      "source": [
        "## cria dir"
      ],
      "metadata": {
        "id": "TPKt_GVrC4VP"
      }
    },
    {
      "cell_type": "code",
      "source": [
        " # cria dirrotio para keyphrase\n",
        "try:\n",
        "    os.makedirs(input_path+\"/imgs/\")\n",
        "except OSError as e:\n",
        "    if e.errno != errno.EEXIST:\n",
        "        raise"
      ],
      "metadata": {
        "id": "C7GSehsBC4VP"
      },
      "execution_count": null,
      "outputs": []
    },
    {
      "cell_type": "markdown",
      "source": [
        "## load"
      ],
      "metadata": {
        "id": "nomRvYkXC4VP"
      }
    },
    {
      "cell_type": "code",
      "source": [
        "df_acc = pd.read_csv(input_path+\"/mean/df_acc.csv\", index_col='Dataframe')  # acuracia\n",
        "df_pre = pd.read_csv(input_path+\"/mean/df_pre.csv\", index_col='Dataframe')  # precision\n",
        "df_rec = pd.read_csv(input_path+\"/mean/df_rec.csv\", index_col='Dataframe')  # recall\n",
        "df_f1  = pd.read_csv(input_path+\"/mean/df_f1.csv\", index_col='Dataframe')   # f1-score\n",
        "df_sup = pd.read_csv(input_path+\"/mean/df_sup.csv\", index_col='Dataframe')  # support\n",
        "df_time= pd.read_csv(input_path+\"/mean/df_time.csv\", index_col='Dataframe') # time"
      ],
      "metadata": {
        "id": "x_EAUUjwC4VP"
      },
      "execution_count": null,
      "outputs": []
    },
    {
      "cell_type": "markdown",
      "source": [
        "## plot"
      ],
      "metadata": {
        "id": "Q8j2fynGC4VP"
      }
    },
    {
      "cell_type": "code",
      "source": [
        "plot_graph_comb(df_f1,'df_f1','F1-Score')"
      ],
      "metadata": {
        "id": "HODxIRMwC4VQ"
      },
      "execution_count": null,
      "outputs": []
    },
    {
      "cell_type": "code",
      "source": [
        "plot_graph_comb(df_acc,'df_acc','Accuracy')"
      ],
      "metadata": {
        "id": "U2xh6OzzC4VQ"
      },
      "execution_count": null,
      "outputs": []
    },
    {
      "cell_type": "code",
      "source": [
        "plot_graph_comb(df_pre,'df_pre','Precision')"
      ],
      "metadata": {
        "id": "CDvTnVWbC4VQ"
      },
      "execution_count": null,
      "outputs": []
    },
    {
      "cell_type": "code",
      "source": [
        "plot_graph_comb(df_rec,'df_rec', 'Recall')"
      ],
      "metadata": {
        "id": "ou2fhwvrC4VQ"
      },
      "execution_count": null,
      "outputs": []
    },
    {
      "cell_type": "code",
      "source": [
        "plot_graph_comb(df_sup,'df_sup', 'Suppórt')"
      ],
      "metadata": {
        "id": "dqGYwEqvC4VQ"
      },
      "execution_count": null,
      "outputs": []
    },
    {
      "cell_type": "code",
      "source": [
        "plot_graph_comb(df_time, 'df_time','Time')"
      ],
      "metadata": {
        "id": "N4I-JttoC4VQ"
      },
      "execution_count": null,
      "outputs": []
    },
    {
      "cell_type": "markdown",
      "source": [
        "# COARSENING"
      ],
      "metadata": {
        "id": "8tFy_ElamyVB"
      }
    },
    {
      "cell_type": "code",
      "source": [
        "input_path ='/content/drive/MyDrive/Resultados/COARSENING/tabelas/'\n",
        "old_input_path ='/content/drive/MyDrive/Resultados/TRAD/tabelas/'\n",
        "output_path ='/content/drive/MyDrive/Resultados/COARSENING/tabelas/imgs/'"
      ],
      "metadata": {
        "id": "p442rfi4myVG"
      },
      "execution_count": null,
      "outputs": []
    },
    {
      "cell_type": "markdown",
      "source": [
        "## cria dir"
      ],
      "metadata": {
        "id": "koAeO_wtmyVG"
      }
    },
    {
      "cell_type": "code",
      "source": [
        " # cria dirrotio para keyphrase\n",
        "try:\n",
        "    os.makedirs(input_path+\"/imgs/\")\n",
        "except OSError as e:\n",
        "    if e.errno != errno.EEXIST:\n",
        "        raise"
      ],
      "metadata": {
        "id": "WhZKBZVwmyVG"
      },
      "execution_count": null,
      "outputs": []
    },
    {
      "cell_type": "markdown",
      "source": [
        "## load"
      ],
      "metadata": {
        "id": "FmzsuX7CmyVG"
      }
    },
    {
      "cell_type": "code",
      "source": [
        "df_acc = pd.read_csv(input_path+\"/mean/df_acc.csv\", index_col='Dataframe')  # acuracia\n",
        "df_pre = pd.read_csv(input_path+\"/mean/df_pre.csv\", index_col='Dataframe')  # precision\n",
        "df_rec = pd.read_csv(input_path+\"/mean/df_rec.csv\", index_col='Dataframe')  # recall\n",
        "df_f1  = pd.read_csv(input_path+\"/mean/df_f1.csv\", index_col='Dataframe')   # f1-score\n",
        "df_sup = pd.read_csv(input_path+\"/mean/df_sup.csv\", index_col='Dataframe')  # support\n",
        "df_time= pd.read_csv(input_path+\"/mean/df_time.csv\", index_col='Dataframe') # time\n",
        "\n",
        "df_acc_old = pd.read_csv(old_input_path+\"/mean/df_acc.csv\", index_col='Dataframe')  # acuracia\n",
        "df_pre_old = pd.read_csv(old_input_path+\"/mean/df_pre.csv\", index_col='Dataframe')  # precision\n",
        "df_rec_old = pd.read_csv(old_input_path+\"/mean/df_rec.csv\", index_col='Dataframe')  # recall\n",
        "df_f1_old  = pd.read_csv(old_input_path+\"/mean/df_f1.csv\", index_col='Dataframe')   # f1-score\n",
        "df_sup_old = pd.read_csv(old_input_path+\"/mean/df_sup.csv\", index_col='Dataframe')  # support\n",
        "df_time_old= pd.read_csv(old_input_path+\"/mean/df_time.csv\", index_col='Dataframe') # time"
      ],
      "metadata": {
        "id": "b7EUulPpmyVG"
      },
      "execution_count": null,
      "outputs": []
    },
    {
      "cell_type": "markdown",
      "source": [
        "## plot"
      ],
      "metadata": {
        "id": "0pZO7BqcpJX3"
      }
    },
    {
      "cell_type": "code",
      "source": [
        "plot_graph_comb(df_f1,'df_f1','F1-Score')"
      ],
      "metadata": {
        "id": "qGgq_MUfpJX3"
      },
      "execution_count": null,
      "outputs": []
    },
    {
      "cell_type": "code",
      "source": [
        "plot_graph_comb(df_acc,'df_acc','Accuracy')"
      ],
      "metadata": {
        "id": "Lr2YSSnCpJX3"
      },
      "execution_count": null,
      "outputs": []
    },
    {
      "cell_type": "code",
      "source": [
        "plot_graph_comb(df_pre,'df_pre','Precision')"
      ],
      "metadata": {
        "id": "szs1-byYpJX3"
      },
      "execution_count": null,
      "outputs": []
    },
    {
      "cell_type": "code",
      "source": [
        "plot_graph_comb(df_rec,'df_rec', 'Recall')"
      ],
      "metadata": {
        "id": "g5R5XSH3pJX4"
      },
      "execution_count": null,
      "outputs": []
    },
    {
      "cell_type": "code",
      "source": [
        "plot_graph_comb(df_sup,'df_sup', 'Suppórt')"
      ],
      "metadata": {
        "id": "SjdSoG4ypJX4"
      },
      "execution_count": null,
      "outputs": []
    },
    {
      "cell_type": "code",
      "source": [
        "plot_graph_comb(df_time, 'df_time','Time')"
      ],
      "metadata": {
        "id": "V2VYVdxFpJX4"
      },
      "execution_count": null,
      "outputs": []
    },
    {
      "cell_type": "markdown",
      "source": [
        "## plot - comp"
      ],
      "metadata": {
        "id": "Ws8yO2zvmyVG"
      }
    },
    {
      "cell_type": "code",
      "source": [
        "plot_graph_comp(df_f1,df_f1_old,'df_f1','F1-Score','Coarsened','Traditional')"
      ],
      "metadata": {
        "id": "DiaY1l5amyVG"
      },
      "execution_count": null,
      "outputs": []
    },
    {
      "cell_type": "code",
      "source": [
        "plot_graph_comp(df_acc, df_acc_old,'df_acc','Accuracy','Coarsened','Traditional')"
      ],
      "metadata": {
        "id": "PtefEV21myVG"
      },
      "execution_count": null,
      "outputs": []
    },
    {
      "cell_type": "code",
      "source": [
        "plot_graph_comp(df_pre,df_pre_old,'df_pre', 'Precision','Coarsened','Traditional')"
      ],
      "metadata": {
        "id": "mOvXU82hmyVH"
      },
      "execution_count": null,
      "outputs": []
    },
    {
      "cell_type": "code",
      "source": [
        "plot_graph_comp(df_rec,df_rec_old,'df_rec', 'Recall','Coarsened','Traditional')"
      ],
      "metadata": {
        "id": "zPyxxQwlmyVH"
      },
      "execution_count": null,
      "outputs": []
    },
    {
      "cell_type": "code",
      "source": [
        "plot_graph_comp(df_sup,df_sup_old,'df_sup', 'Suppórt','Coarsened','Traditional')"
      ],
      "metadata": {
        "id": "IRhu73yEo2Xe"
      },
      "execution_count": null,
      "outputs": []
    },
    {
      "cell_type": "code",
      "source": [
        "plot_graph_comp(df_time,df_time_old, 'df_time','Time','Coarsened','Traditional')"
      ],
      "metadata": {
        "id": "T6JZUmYRmyVH"
      },
      "execution_count": null,
      "outputs": []
    },
    {
      "cell_type": "markdown",
      "source": [
        "# LLM_10"
      ],
      "metadata": {
        "id": "ABSyT1WFpxmH"
      }
    },
    {
      "cell_type": "code",
      "source": [
        "input_path ='/content/drive/MyDrive/Resultados/LLM/10/tabelas/'\n",
        "old_input_path ='/content/drive/MyDrive/Resultados/TRAD/tabelas/'\n",
        "output_path ='/content/drive/MyDrive/Resultados/LLM/10/tabelas/imgs/'\n",
        "graph_label = 'LLM_10'"
      ],
      "metadata": {
        "id": "HTrXzf6QpxmL"
      },
      "execution_count": null,
      "outputs": []
    },
    {
      "cell_type": "markdown",
      "source": [
        "## cria dir"
      ],
      "metadata": {
        "id": "ISITytHTpxmL"
      }
    },
    {
      "cell_type": "code",
      "source": [
        " # cria dirrotio para keyphrase\n",
        "try:\n",
        "    os.makedirs(input_path+\"/imgs/\")\n",
        "except OSError as e:\n",
        "    if e.errno != errno.EEXIST:\n",
        "        raise"
      ],
      "metadata": {
        "id": "thILswAepxmM"
      },
      "execution_count": null,
      "outputs": []
    },
    {
      "cell_type": "markdown",
      "source": [
        "## load"
      ],
      "metadata": {
        "id": "ISDW6mwhpxmM"
      }
    },
    {
      "cell_type": "code",
      "source": [
        "df_acc = pd.read_csv(input_path+\"/mean/df_acc.csv\", index_col='Dataframe')  # acuracia\n",
        "df_pre = pd.read_csv(input_path+\"/mean/df_pre.csv\", index_col='Dataframe')  # precision\n",
        "df_rec = pd.read_csv(input_path+\"/mean/df_rec.csv\", index_col='Dataframe')  # recall\n",
        "df_f1  = pd.read_csv(input_path+\"/mean/df_f1.csv\", index_col='Dataframe')   # f1-score\n",
        "df_sup = pd.read_csv(input_path+\"/mean/df_sup.csv\", index_col='Dataframe')  # support\n",
        "df_time= pd.read_csv(input_path+\"/mean/df_time.csv\", index_col='Dataframe') # time\n",
        "\n",
        "df_acc_old = pd.read_csv(old_input_path+\"/mean/df_acc.csv\", index_col='Dataframe')  # acuracia\n",
        "df_pre_old = pd.read_csv(old_input_path+\"/mean/df_pre.csv\", index_col='Dataframe')  # precision\n",
        "df_rec_old = pd.read_csv(old_input_path+\"/mean/df_rec.csv\", index_col='Dataframe')  # recall\n",
        "df_f1_old  = pd.read_csv(old_input_path+\"/mean/df_f1.csv\", index_col='Dataframe')   # f1-score\n",
        "df_sup_old = pd.read_csv(old_input_path+\"/mean/df_sup.csv\", index_col='Dataframe')  # support\n",
        "df_time_old= pd.read_csv(old_input_path+\"/mean/df_time.csv\", index_col='Dataframe') # time"
      ],
      "metadata": {
        "id": "YfgH_15SpxmM"
      },
      "execution_count": null,
      "outputs": []
    },
    {
      "cell_type": "markdown",
      "source": [
        "## plot"
      ],
      "metadata": {
        "id": "yWs-FT_fpxmM"
      }
    },
    {
      "cell_type": "code",
      "source": [
        "plot_graph_comb(df_f1,'df_f1','F1-Score')"
      ],
      "metadata": {
        "id": "F49BjdOrpxmM"
      },
      "execution_count": null,
      "outputs": []
    },
    {
      "cell_type": "code",
      "source": [
        "plot_graph_comb(df_acc,'df_acc','Accuracy')"
      ],
      "metadata": {
        "id": "9-FuFDnHpxmM"
      },
      "execution_count": null,
      "outputs": []
    },
    {
      "cell_type": "code",
      "source": [
        "plot_graph_comb(df_pre,'df_pre','Precision')"
      ],
      "metadata": {
        "id": "fc16CpXEpxmM"
      },
      "execution_count": null,
      "outputs": []
    },
    {
      "cell_type": "code",
      "source": [
        "plot_graph_comb(df_rec,'df_rec', 'Recall')"
      ],
      "metadata": {
        "id": "GPM6_PnSpxmM"
      },
      "execution_count": null,
      "outputs": []
    },
    {
      "cell_type": "code",
      "source": [
        "plot_graph_comb(df_sup,'df_sup', 'Suppórt')"
      ],
      "metadata": {
        "id": "zC90XL78pxmM"
      },
      "execution_count": null,
      "outputs": []
    },
    {
      "cell_type": "code",
      "source": [
        "plot_graph_comb(df_time, 'df_time','Time')"
      ],
      "metadata": {
        "id": "hdDlV2yWpxmM"
      },
      "execution_count": null,
      "outputs": []
    },
    {
      "cell_type": "markdown",
      "source": [
        "## plot - comp"
      ],
      "metadata": {
        "id": "_QUBT4vxpxmM"
      }
    },
    {
      "cell_type": "code",
      "source": [
        "plot_graph_comp(df_f1,df_f1_old,'df_f1','F1-Score',graph_label,'Traditional')"
      ],
      "metadata": {
        "id": "YIJVYMz7ta5c"
      },
      "execution_count": null,
      "outputs": []
    },
    {
      "cell_type": "code",
      "source": [
        "plot_graph_comp(df_acc, df_acc_old,'df_acc','Accuracy',graph_label,'Traditional')"
      ],
      "metadata": {
        "id": "yx1gWjtuta5g"
      },
      "execution_count": null,
      "outputs": []
    },
    {
      "cell_type": "code",
      "source": [
        "plot_graph_comp(df_pre,df_pre_old,'df_pre', 'Precision',graph_label,'Traditional')"
      ],
      "metadata": {
        "id": "nzuF6XH3ta5g"
      },
      "execution_count": null,
      "outputs": []
    },
    {
      "cell_type": "code",
      "source": [
        "plot_graph_comp(df_rec,df_rec_old,'df_rec', 'Recall',graph_label,'Traditional')"
      ],
      "metadata": {
        "id": "OBOmStr7ta5g"
      },
      "execution_count": null,
      "outputs": []
    },
    {
      "cell_type": "code",
      "source": [
        "plot_graph_comp(df_sup,df_sup_old,'df_sup', 'Suppórt',graph_label,'Traditional')"
      ],
      "metadata": {
        "id": "omLCR7pTta5g"
      },
      "execution_count": null,
      "outputs": []
    },
    {
      "cell_type": "code",
      "source": [
        "plot_graph_comp(df_time,df_time_old, 'df_time','Time',graph_label,'Traditional')"
      ],
      "metadata": {
        "id": "sRZExpxSta5g"
      },
      "execution_count": null,
      "outputs": []
    },
    {
      "cell_type": "markdown",
      "source": [
        "# LLM_50"
      ],
      "metadata": {
        "id": "rF1U9w4npyod"
      }
    },
    {
      "cell_type": "code",
      "source": [
        "input_path ='/content/drive/MyDrive/Resultados/LLM/50/tabelas/'\n",
        "old_input_path ='/content/drive/MyDrive/Resultados/TRAD/tabelas/'\n",
        "output_path ='/content/drive/MyDrive/Resultados/LLM/50/tabelas/imgs/'\n",
        "graph_label = 'LLM_50'"
      ],
      "metadata": {
        "id": "lKT2d7Rhpyom"
      },
      "execution_count": null,
      "outputs": []
    },
    {
      "cell_type": "markdown",
      "source": [
        "## cria dir"
      ],
      "metadata": {
        "id": "P_9V2YQ3pyon"
      }
    },
    {
      "cell_type": "code",
      "source": [
        " # cria dirrotio para keyphrase\n",
        "try:\n",
        "    os.makedirs(input_path+\"/imgs/\")\n",
        "except OSError as e:\n",
        "    if e.errno != errno.EEXIST:\n",
        "        raise"
      ],
      "metadata": {
        "id": "r76y54AOpyon"
      },
      "execution_count": null,
      "outputs": []
    },
    {
      "cell_type": "markdown",
      "source": [
        "## load"
      ],
      "metadata": {
        "id": "GgmoxiBDpyon"
      }
    },
    {
      "cell_type": "code",
      "source": [
        "df_acc = pd.read_csv(input_path+\"/mean/df_acc.csv\", index_col='Dataframe')  # acuracia\n",
        "df_pre = pd.read_csv(input_path+\"/mean/df_pre.csv\", index_col='Dataframe')  # precision\n",
        "df_rec = pd.read_csv(input_path+\"/mean/df_rec.csv\", index_col='Dataframe')  # recall\n",
        "df_f1  = pd.read_csv(input_path+\"/mean/df_f1.csv\", index_col='Dataframe')   # f1-score\n",
        "df_sup = pd.read_csv(input_path+\"/mean/df_sup.csv\", index_col='Dataframe')  # support\n",
        "df_time= pd.read_csv(input_path+\"/mean/df_time.csv\", index_col='Dataframe') # time\n",
        "\n",
        "df_acc_old = pd.read_csv(old_input_path+\"/mean/df_acc.csv\", index_col='Dataframe')  # acuracia\n",
        "df_pre_old = pd.read_csv(old_input_path+\"/mean/df_pre.csv\", index_col='Dataframe')  # precision\n",
        "df_rec_old = pd.read_csv(old_input_path+\"/mean/df_rec.csv\", index_col='Dataframe')  # recall\n",
        "df_f1_old  = pd.read_csv(old_input_path+\"/mean/df_f1.csv\", index_col='Dataframe')   # f1-score\n",
        "df_sup_old = pd.read_csv(old_input_path+\"/mean/df_sup.csv\", index_col='Dataframe')  # support\n",
        "df_time_old= pd.read_csv(old_input_path+\"/mean/df_time.csv\", index_col='Dataframe') # time"
      ],
      "metadata": {
        "id": "gesq1i5Bpyon"
      },
      "execution_count": null,
      "outputs": []
    },
    {
      "cell_type": "markdown",
      "source": [
        "## plot"
      ],
      "metadata": {
        "id": "cNv725DMpyon"
      }
    },
    {
      "cell_type": "code",
      "source": [
        "plot_graph_comb(df_f1,'df_f1','F1-Score')"
      ],
      "metadata": {
        "id": "gcPNBYxqpyon"
      },
      "execution_count": null,
      "outputs": []
    },
    {
      "cell_type": "code",
      "source": [
        "plot_graph_comb(df_acc,'df_acc','Accuracy')"
      ],
      "metadata": {
        "id": "Qh0-XKvnpyon"
      },
      "execution_count": null,
      "outputs": []
    },
    {
      "cell_type": "code",
      "source": [
        "plot_graph_comb(df_pre,'df_pre','Precision')"
      ],
      "metadata": {
        "id": "Pa-AvwZbpyon"
      },
      "execution_count": null,
      "outputs": []
    },
    {
      "cell_type": "code",
      "source": [
        "plot_graph_comb(df_rec,'df_rec', 'Recall')"
      ],
      "metadata": {
        "id": "Okr0pQnLpyon"
      },
      "execution_count": null,
      "outputs": []
    },
    {
      "cell_type": "code",
      "source": [
        "plot_graph_comb(df_sup,'df_sup', 'Suppórt')"
      ],
      "metadata": {
        "id": "DSzxbaSapyon"
      },
      "execution_count": null,
      "outputs": []
    },
    {
      "cell_type": "code",
      "source": [
        "plot_graph_comb(df_time, 'df_time','Time')"
      ],
      "metadata": {
        "id": "2yf0qZGLpyon"
      },
      "execution_count": null,
      "outputs": []
    },
    {
      "cell_type": "markdown",
      "source": [
        "\n"
      ],
      "metadata": {
        "id": "9-RVwaf3_fmp"
      }
    },
    {
      "cell_type": "markdown",
      "source": [
        "## plot - comp"
      ],
      "metadata": {
        "id": "h1btbILPtTCn"
      }
    },
    {
      "cell_type": "code",
      "source": [
        "plot_graph_comp(df_f1,df_f1_old,'df_f1','F1-Score',graph_label,'Traditional')"
      ],
      "metadata": {
        "id": "r8AcpwZktTCr"
      },
      "execution_count": null,
      "outputs": []
    },
    {
      "cell_type": "code",
      "source": [
        "plot_graph_comp(df_acc, df_acc_old,'df_acc','Accuracy',graph_label,'Traditional')"
      ],
      "metadata": {
        "id": "v1t2pqzitTCr"
      },
      "execution_count": null,
      "outputs": []
    },
    {
      "cell_type": "code",
      "source": [
        "plot_graph_comp(df_pre,df_pre_old,'df_pre', 'Precision',graph_label,'Traditional')"
      ],
      "metadata": {
        "id": "tJFpWNH6tTCr"
      },
      "execution_count": null,
      "outputs": []
    },
    {
      "cell_type": "code",
      "source": [
        "plot_graph_comp(df_rec,df_rec_old,'df_rec', 'Recall',graph_label,'Traditional')"
      ],
      "metadata": {
        "id": "ZoxL0r5FtTCr"
      },
      "execution_count": null,
      "outputs": []
    },
    {
      "cell_type": "code",
      "source": [
        "plot_graph_comp(df_sup,df_sup_old,'df_sup', 'Suppórt',graph_label,'Traditional')"
      ],
      "metadata": {
        "id": "2GjYMYYTtTCr"
      },
      "execution_count": null,
      "outputs": []
    },
    {
      "cell_type": "code",
      "source": [
        "plot_graph_comp(df_time,df_time_old, 'df_time','Time',graph_label,'Traditional')"
      ],
      "metadata": {
        "id": "rVA9z16htTCs"
      },
      "execution_count": null,
      "outputs": []
    },
    {
      "cell_type": "markdown",
      "source": [
        "# LLM_100"
      ],
      "metadata": {
        "id": "Dfxj20-SsoLg"
      }
    },
    {
      "cell_type": "code",
      "source": [
        "input_path ='/content/drive/MyDrive/Resultados/LLM/100/tabelas/'\n",
        "old_input_path ='/content/drive/MyDrive/Resultados/TRAD/tabelas/'\n",
        "output_path ='/content/drive/MyDrive/Resultados/LLM/100/tabelas/imgs/'\n",
        "graph_label = 'LLM_100'"
      ],
      "metadata": {
        "id": "Kv6FgppIsoLk"
      },
      "execution_count": null,
      "outputs": []
    },
    {
      "cell_type": "markdown",
      "source": [
        "## cria dir"
      ],
      "metadata": {
        "id": "YqfBB93zsoLl"
      }
    },
    {
      "cell_type": "code",
      "source": [
        " # cria dirrotio para keyphrase\n",
        "try:\n",
        "    os.makedirs(input_path+\"/imgs/\")\n",
        "except OSError as e:\n",
        "    if e.errno != errno.EEXIST:\n",
        "        raise"
      ],
      "metadata": {
        "id": "PMqDQshssoLl"
      },
      "execution_count": null,
      "outputs": []
    },
    {
      "cell_type": "markdown",
      "source": [
        "## load"
      ],
      "metadata": {
        "id": "MxD0tGbGsoLl"
      }
    },
    {
      "cell_type": "code",
      "source": [
        "df_acc = pd.read_csv(input_path+\"/mean/df_acc.csv\", index_col='Dataframe')  # acuracia\n",
        "df_pre = pd.read_csv(input_path+\"/mean/df_pre.csv\", index_col='Dataframe')  # precision\n",
        "df_rec = pd.read_csv(input_path+\"/mean/df_rec.csv\", index_col='Dataframe')  # recall\n",
        "df_f1  = pd.read_csv(input_path+\"/mean/df_f1.csv\", index_col='Dataframe')   # f1-score\n",
        "df_sup = pd.read_csv(input_path+\"/mean/df_sup.csv\", index_col='Dataframe')  # support\n",
        "df_time= pd.read_csv(input_path+\"/mean/df_time.csv\", index_col='Dataframe') # time\n",
        "\n",
        "df_acc_old = pd.read_csv(old_input_path+\"/mean/df_acc.csv\", index_col='Dataframe')  # acuracia\n",
        "df_pre_old = pd.read_csv(old_input_path+\"/mean/df_pre.csv\", index_col='Dataframe')  # precision\n",
        "df_rec_old = pd.read_csv(old_input_path+\"/mean/df_rec.csv\", index_col='Dataframe')  # recall\n",
        "df_f1_old  = pd.read_csv(old_input_path+\"/mean/df_f1.csv\", index_col='Dataframe')   # f1-score\n",
        "df_sup_old = pd.read_csv(old_input_path+\"/mean/df_sup.csv\", index_col='Dataframe')  # support\n",
        "df_time_old= pd.read_csv(old_input_path+\"/mean/df_time.csv\", index_col='Dataframe') # time"
      ],
      "metadata": {
        "id": "8ZII7AQhsoLl"
      },
      "execution_count": null,
      "outputs": []
    },
    {
      "cell_type": "markdown",
      "source": [
        "## plot"
      ],
      "metadata": {
        "id": "7Is0u96OsoLl"
      }
    },
    {
      "cell_type": "code",
      "source": [
        "plot_graph_comb(df_f1,'df_f1','F1-Score')"
      ],
      "metadata": {
        "id": "5JiqccwnsoLl"
      },
      "execution_count": null,
      "outputs": []
    },
    {
      "cell_type": "code",
      "source": [
        "plot_graph_comb(df_acc,'df_acc','Accuracy')"
      ],
      "metadata": {
        "id": "ATkOKyRCsoLl"
      },
      "execution_count": null,
      "outputs": []
    },
    {
      "cell_type": "code",
      "source": [
        "plot_graph_comb(df_pre,'df_pre','Precision')"
      ],
      "metadata": {
        "id": "Ql5CPgKfsoLm"
      },
      "execution_count": null,
      "outputs": []
    },
    {
      "cell_type": "code",
      "source": [
        "plot_graph_comb(df_rec,'df_rec', 'Recall')"
      ],
      "metadata": {
        "id": "IxKJD8ygsoLm"
      },
      "execution_count": null,
      "outputs": []
    },
    {
      "cell_type": "code",
      "source": [
        "plot_graph_comb(df_sup,'df_sup', 'Support')"
      ],
      "metadata": {
        "id": "cD0VD8RGsoLm"
      },
      "execution_count": null,
      "outputs": []
    },
    {
      "cell_type": "code",
      "source": [
        "plot_graph_comb(df_time, 'df_time','Time')"
      ],
      "metadata": {
        "id": "5PP_W4rBsoLm"
      },
      "execution_count": null,
      "outputs": []
    },
    {
      "cell_type": "markdown",
      "source": [
        "## plot - comp"
      ],
      "metadata": {
        "id": "bzQbY3X4soLm"
      }
    },
    {
      "cell_type": "code",
      "source": [
        "plot_graph_comp(df_f1,df_f1_old,'df_f1','F1-Score',graph_label,'Traditional')"
      ],
      "metadata": {
        "id": "_sksj73VsoLm"
      },
      "execution_count": null,
      "outputs": []
    },
    {
      "cell_type": "code",
      "source": [
        "plot_graph_comp(df_acc, df_acc_old,'df_acc','Accuracy',graph_label,'Traditional')"
      ],
      "metadata": {
        "id": "BJAojXETsoLm"
      },
      "execution_count": null,
      "outputs": []
    },
    {
      "cell_type": "code",
      "source": [
        "plot_graph_comp(df_pre,df_pre_old,'df_pre', 'Precision',graph_label,'Traditional')"
      ],
      "metadata": {
        "id": "8xIUSlHIsoLm"
      },
      "execution_count": null,
      "outputs": []
    },
    {
      "cell_type": "code",
      "source": [
        "plot_graph_comp(df_rec,df_rec_old,'df_rec', 'Recall',graph_label,'Traditional')"
      ],
      "metadata": {
        "id": "ZDwniNu3soLm"
      },
      "execution_count": null,
      "outputs": []
    },
    {
      "cell_type": "code",
      "source": [
        "plot_graph_comp(df_sup,df_sup_old,'df_sup', 'Suppórt',graph_label,'Traditional')"
      ],
      "metadata": {
        "id": "xlAdAImfsoLn"
      },
      "execution_count": null,
      "outputs": []
    },
    {
      "cell_type": "code",
      "source": [
        "plot_graph_comp(df_time,df_time_old, 'df_time','Time',graph_label,'Traditional')"
      ],
      "metadata": {
        "id": "NCSOQdT6soLn"
      },
      "execution_count": null,
      "outputs": []
    }
  ]
}