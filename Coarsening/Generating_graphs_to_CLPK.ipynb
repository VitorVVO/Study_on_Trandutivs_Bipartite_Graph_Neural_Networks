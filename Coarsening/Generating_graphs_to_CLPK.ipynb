{
  "cells": [
    {
      "cell_type": "code",
      "execution_count": null,
      "metadata": {
        "id": "DDgn0_O42cvh"
      },
      "outputs": [],
      "source": [
        "dataset_name = \"CSTR\""
      ]
    },
    {
      "cell_type": "markdown",
      "metadata": {
        "id": "Qtpe_CYHnTqU"
      },
      "source": [
        "# Imports, load data , training functions and database creation"
      ]
    },
    {
      "cell_type": "markdown",
      "metadata": {
        "id": "f9sKW8iq7Tny"
      },
      "source": [
        "## Imports"
      ]
    },
    {
      "cell_type": "code",
      "execution_count": null,
      "metadata": {
        "colab": {
          "base_uri": "https://localhost:8080/"
        },
        "id": "39ccaX7dnIjZ",
        "outputId": "5947e9cd-cada-4151-b601-51c54874c6b3"
      },
      "outputs": [
        {
          "output_type": "stream",
          "name": "stdout",
          "text": [
            "Mounted at /content/drive\n"
          ]
        }
      ],
      "source": [
        "from google.colab import drive\n",
        "drive.mount('/content/drive')"
      ]
    },
    {
      "cell_type": "code",
      "execution_count": null,
      "metadata": {
        "id": "4Ut43TXtnIjY"
      },
      "outputs": [],
      "source": [
        "import pandas as pd\n",
        "import numpy as np\n",
        "import matplotlib as plt\n",
        "import os, errno\n",
        "import networkx as nx\n",
        "from networkx.algorithms import bipartite\n",
        "import json\n",
        "import yaml\n",
        "import ast\n",
        "from sklearn.metrics import classification_report\n",
        "from sklearn.neighbors import NearestNeighbors\n",
        "import pickle\n",
        "import json\n",
        "\n",
        "import tensorflow as tf"
      ]
    },
    {
      "cell_type": "code",
      "execution_count": null,
      "metadata": {
        "colab": {
          "base_uri": "https://localhost:8080/"
        },
        "id": "ifuE7A2bn9vp",
        "outputId": "0772a6d4-2bed-4dfa-8627-eb820d1076e4"
      },
      "outputs": [
        {
          "output_type": "stream",
          "name": "stdout",
          "text": [
            "2.4.0+cu121\n",
            "\u001b[2K     \u001b[90m━━━━━━━━━━━━━━━━━━━━━━━━━━━━━━━━━━━━━━━━\u001b[0m \u001b[32m10.9/10.9 MB\u001b[0m \u001b[31m28.5 MB/s\u001b[0m eta \u001b[36m0:00:00\u001b[0m\n",
            "\u001b[2K     \u001b[90m━━━━━━━━━━━━━━━━━━━━━━━━━━━━━━━━━━━━━━━━\u001b[0m \u001b[32m5.1/5.1 MB\u001b[0m \u001b[31m32.8 MB/s\u001b[0m eta \u001b[36m0:00:00\u001b[0m\n",
            "\u001b[?25h  Installing build dependencies ... \u001b[?25l\u001b[?25hdone\n",
            "  Getting requirements to build wheel ... \u001b[?25l\u001b[?25hdone\n",
            "  Preparing metadata (pyproject.toml) ... \u001b[?25l\u001b[?25hdone\n",
            "  Building wheel for torch-geometric (pyproject.toml) ... \u001b[?25l\u001b[?25hdone\n"
          ]
        }
      ],
      "source": [
        "import torch\n",
        "\n",
        "os.environ['TORCH'] = torch.__version__\n",
        "print(torch.__version__)\n",
        "\n",
        "!pip install -q torch-scatter -f https://data.pyg.org/whl/torch-${TORCH}.html\n",
        "!pip install -q torch-sparse -f https://data.pyg.org/whl/torch-${TORCH}.html\n",
        "!pip install -q git+https://github.com/pyg-team/pytorch_geometric.git"
      ]
    },
    {
      "cell_type": "code",
      "execution_count": null,
      "metadata": {
        "id": "441Hk5OlRRIY"
      },
      "outputs": [],
      "source": [
        "import torch_geometric\n",
        "import torch.nn.functional as F\n",
        "import torch_geometric.transforms as T\n",
        "from torch_geometric.utils.convert import from_networkx\n",
        "from torch_geometric.nn import SAGEConv, GATConv, Linear, to_hetero"
      ]
    },
    {
      "cell_type": "code",
      "execution_count": null,
      "metadata": {
        "id": "D53m3GFKNaBR"
      },
      "outputs": [],
      "source": [
        "# device = torch.device(\"cuda:0\" if torch.cuda.is_available() else \"cpu\")\n",
        "# device"
      ]
    },
    {
      "cell_type": "markdown",
      "metadata": {
        "id": "S-0aDh52nO-S"
      },
      "source": [
        "## load data"
      ]
    },
    {
      "cell_type": "code",
      "execution_count": null,
      "metadata": {
        "id": "U9jGp-CqW4H9"
      },
      "outputs": [],
      "source": [
        " # cria diretorio para keypharse\n",
        "try:\n",
        "    os.makedirs(\"/content/drive/MyDrive/mestrado_v2/processed_datasets/\"+dataset_name)\n",
        "except OSError as e:\n",
        "    if e.errno != errno.EEXIST:\n",
        "        raise"
      ]
    },
    {
      "cell_type": "code",
      "execution_count": null,
      "metadata": {
        "id": "-mntPGsInN7X"
      },
      "outputs": [],
      "source": [
        "df = pd.read_pickle(\"/content/drive/MyDrive/Mestrado_Grafos/processed_datasets/\"+dataset_name+\"/\"+dataset_name+\".csv\")"
      ]
    },
    {
      "cell_type": "code",
      "execution_count": null,
      "metadata": {
        "colab": {
          "base_uri": "https://localhost:8080/"
        },
        "id": "_9OxRWYh64rn",
        "outputId": "9e9b8767-1687-4dbc-f061-d77a22cca9f1"
      },
      "outputs": [
        {
          "output_type": "execute_result",
          "data": {
            "text/plain": [
              "   id file_name                                               text  \\\n",
              "0   0   126.txt  Rhetorical (Rhet) is a programming / knowledge...   \n",
              "1   1     5.txt  Reduction is the operation of transforming a p...   \n",
              "2   2    48.txt  For years, researchers have used knowledge-int...   \n",
              "3   3    81.txt  Proceedings of a workshop held in conjunction ...   \n",
              "4   4    25.txt  The Medication Advisor is the latest project o...   \n",
              "\n",
              "                     class                                         keyphrase2  \\\n",
              "0  ArtificiallIntelligence  [(rhetorical rhet, 0.7475), (rhet programming,...   \n",
              "1  ArtificiallIntelligence  [(parsing complexity, 0.5977), (transformed gr...   \n",
              "2  ArtificiallIntelligence  [(disambiguating parsing, 0.7122), (syntactic ...   \n",
              "3  ArtificiallIntelligence  [(machine learning, 0.6059), (tahoe city, 0.39...   \n",
              "4  ArtificiallIntelligence  [(medication advisor, 0.5975), (conversational...   \n",
              "\n",
              "                                          keyphrase3  \\\n",
              "0  [(rhetorical rhet programming, 0.8299), (rhet ...   \n",
              "1  [(complexity resulting grammar, 0.675), (minim...   \n",
              "2  [(techniques disambiguating parsing, 0.7356), ...   \n",
              "3  [(machine learning july, 0.663), (conference m...   \n",
              "4  [(medications medication advisor, 0.62), (cons...   \n",
              "\n",
              "                                         keyphrase23  \\\n",
              "0  [(rhetorical rhet programming, 0.8299), (rheto...   \n",
              "1  [(complexity resulting grammar, 0.675), (minim...   \n",
              "2  [(techniques disambiguating parsing, 0.7356), ...   \n",
              "3  [(machine learning july, 0.663), (machine lear...   \n",
              "4  [(medications medication advisor, 0.62), (cons...   \n",
              "\n",
              "                                     text_embeddings  \\\n",
              "0  [-0.022039127, 0.02312275, -0.076888025, -0.06...   \n",
              "1  [0.074621424, -0.007094671, 0.051812325, -0.03...   \n",
              "2  [-0.014407578, -0.077485226, 0.083884224, 0.01...   \n",
              "3  [-0.036386, -0.08516384, 0.06518213, 0.0014036...   \n",
              "4  [-0.050106738, -0.013832041, 0.03398316, -0.02...   \n",
              "\n",
              "                               keyphrase2_embeddings  \\\n",
              "0  [[0.0059065777, 0.040003918, 0.0011322909, -0....   \n",
              "1  [[0.0426418, -0.013719074, 0.02755835, -0.0075...   \n",
              "2  [[0.014474175, -0.027266933, 0.07052159, -0.02...   \n",
              "3  [[-0.024391863, 0.0032444268, 0.054267664, -0....   \n",
              "4  [[-0.030672388, 0.007967623, -0.023997275, 0.0...   \n",
              "\n",
              "                               keyphrase3_embeddings  \\\n",
              "0  [[-0.045958184, 0.03794197, -0.027850023, -0.0...   \n",
              "1  [[0.07436234, -0.0029446871, 0.052716985, 0.03...   \n",
              "2  [[0.022918042, -0.01977642, 0.047498055, -0.01...   \n",
              "3  [[-0.075079046, -0.10737129, 0.06574192, 0.002...   \n",
              "4  [[-0.020701267, 0.003092026, -0.024871623, 0.0...   \n",
              "\n",
              "                              keyphrase23_embeddings  \\\n",
              "0  [[-0.045958184, 0.03794197, -0.027850023, -0.0...   \n",
              "1  [[0.07436234, -0.0029446871, 0.052716985, 0.03...   \n",
              "2  [[0.022918042, -0.01977642, 0.047498055, -0.01...   \n",
              "3  [[-0.075079046, -0.10737129, 0.06574192, 0.002...   \n",
              "4  [[-0.020701267, 0.003092026, -0.024871623, 0.0...   \n",
              "\n",
              "                                sentences_embeddings  \n",
              "0  [[0.0026859022, 0.0066884025, -0.07187084, -0....  \n",
              "1  [[0.008135828, 0.0732408, 0.030002978, -0.0219...  \n",
              "2  [[0.013398974, -0.025847042, 0.0290076, 0.0357...  \n",
              "3  [[-0.036386, -0.08516384, 0.06518213, 0.001403...  \n",
              "4  [[-0.05715183, -0.03530269, 0.015551494, -0.00...  "
            ],
            "text/html": [
              "\n",
              "  <div id=\"df-010a5a94-bd6e-4b86-92b2-c2117f21b8e3\" class=\"colab-df-container\">\n",
              "    <div>\n",
              "<style scoped>\n",
              "    .dataframe tbody tr th:only-of-type {\n",
              "        vertical-align: middle;\n",
              "    }\n",
              "\n",
              "    .dataframe tbody tr th {\n",
              "        vertical-align: top;\n",
              "    }\n",
              "\n",
              "    .dataframe thead th {\n",
              "        text-align: right;\n",
              "    }\n",
              "</style>\n",
              "<table border=\"1\" class=\"dataframe\">\n",
              "  <thead>\n",
              "    <tr style=\"text-align: right;\">\n",
              "      <th></th>\n",
              "      <th>id</th>\n",
              "      <th>file_name</th>\n",
              "      <th>text</th>\n",
              "      <th>class</th>\n",
              "      <th>keyphrase2</th>\n",
              "      <th>keyphrase3</th>\n",
              "      <th>keyphrase23</th>\n",
              "      <th>text_embeddings</th>\n",
              "      <th>keyphrase2_embeddings</th>\n",
              "      <th>keyphrase3_embeddings</th>\n",
              "      <th>keyphrase23_embeddings</th>\n",
              "      <th>sentences_embeddings</th>\n",
              "    </tr>\n",
              "  </thead>\n",
              "  <tbody>\n",
              "    <tr>\n",
              "      <th>0</th>\n",
              "      <td>0</td>\n",
              "      <td>126.txt</td>\n",
              "      <td>Rhetorical (Rhet) is a programming / knowledge...</td>\n",
              "      <td>ArtificiallIntelligence</td>\n",
              "      <td>[(rhetorical rhet, 0.7475), (rhet programming,...</td>\n",
              "      <td>[(rhetorical rhet programming, 0.8299), (rhet ...</td>\n",
              "      <td>[(rhetorical rhet programming, 0.8299), (rheto...</td>\n",
              "      <td>[-0.022039127, 0.02312275, -0.076888025, -0.06...</td>\n",
              "      <td>[[0.0059065777, 0.040003918, 0.0011322909, -0....</td>\n",
              "      <td>[[-0.045958184, 0.03794197, -0.027850023, -0.0...</td>\n",
              "      <td>[[-0.045958184, 0.03794197, -0.027850023, -0.0...</td>\n",
              "      <td>[[0.0026859022, 0.0066884025, -0.07187084, -0....</td>\n",
              "    </tr>\n",
              "    <tr>\n",
              "      <th>1</th>\n",
              "      <td>1</td>\n",
              "      <td>5.txt</td>\n",
              "      <td>Reduction is the operation of transforming a p...</td>\n",
              "      <td>ArtificiallIntelligence</td>\n",
              "      <td>[(parsing complexity, 0.5977), (transformed gr...</td>\n",
              "      <td>[(complexity resulting grammar, 0.675), (minim...</td>\n",
              "      <td>[(complexity resulting grammar, 0.675), (minim...</td>\n",
              "      <td>[0.074621424, -0.007094671, 0.051812325, -0.03...</td>\n",
              "      <td>[[0.0426418, -0.013719074, 0.02755835, -0.0075...</td>\n",
              "      <td>[[0.07436234, -0.0029446871, 0.052716985, 0.03...</td>\n",
              "      <td>[[0.07436234, -0.0029446871, 0.052716985, 0.03...</td>\n",
              "      <td>[[0.008135828, 0.0732408, 0.030002978, -0.0219...</td>\n",
              "    </tr>\n",
              "    <tr>\n",
              "      <th>2</th>\n",
              "      <td>2</td>\n",
              "      <td>48.txt</td>\n",
              "      <td>For years, researchers have used knowledge-int...</td>\n",
              "      <td>ArtificiallIntelligence</td>\n",
              "      <td>[(disambiguating parsing, 0.7122), (syntactic ...</td>\n",
              "      <td>[(techniques disambiguating parsing, 0.7356), ...</td>\n",
              "      <td>[(techniques disambiguating parsing, 0.7356), ...</td>\n",
              "      <td>[-0.014407578, -0.077485226, 0.083884224, 0.01...</td>\n",
              "      <td>[[0.014474175, -0.027266933, 0.07052159, -0.02...</td>\n",
              "      <td>[[0.022918042, -0.01977642, 0.047498055, -0.01...</td>\n",
              "      <td>[[0.022918042, -0.01977642, 0.047498055, -0.01...</td>\n",
              "      <td>[[0.013398974, -0.025847042, 0.0290076, 0.0357...</td>\n",
              "    </tr>\n",
              "    <tr>\n",
              "      <th>3</th>\n",
              "      <td>3</td>\n",
              "      <td>81.txt</td>\n",
              "      <td>Proceedings of a workshop held in conjunction ...</td>\n",
              "      <td>ArtificiallIntelligence</td>\n",
              "      <td>[(machine learning, 0.6059), (tahoe city, 0.39...</td>\n",
              "      <td>[(machine learning july, 0.663), (conference m...</td>\n",
              "      <td>[(machine learning july, 0.663), (machine lear...</td>\n",
              "      <td>[-0.036386, -0.08516384, 0.06518213, 0.0014036...</td>\n",
              "      <td>[[-0.024391863, 0.0032444268, 0.054267664, -0....</td>\n",
              "      <td>[[-0.075079046, -0.10737129, 0.06574192, 0.002...</td>\n",
              "      <td>[[-0.075079046, -0.10737129, 0.06574192, 0.002...</td>\n",
              "      <td>[[-0.036386, -0.08516384, 0.06518213, 0.001403...</td>\n",
              "    </tr>\n",
              "    <tr>\n",
              "      <th>4</th>\n",
              "      <td>4</td>\n",
              "      <td>25.txt</td>\n",
              "      <td>The Medication Advisor is the latest project o...</td>\n",
              "      <td>ArtificiallIntelligence</td>\n",
              "      <td>[(medication advisor, 0.5975), (conversational...</td>\n",
              "      <td>[(medications medication advisor, 0.62), (cons...</td>\n",
              "      <td>[(medications medication advisor, 0.62), (cons...</td>\n",
              "      <td>[-0.050106738, -0.013832041, 0.03398316, -0.02...</td>\n",
              "      <td>[[-0.030672388, 0.007967623, -0.023997275, 0.0...</td>\n",
              "      <td>[[-0.020701267, 0.003092026, -0.024871623, 0.0...</td>\n",
              "      <td>[[-0.020701267, 0.003092026, -0.024871623, 0.0...</td>\n",
              "      <td>[[-0.05715183, -0.03530269, 0.015551494, -0.00...</td>\n",
              "    </tr>\n",
              "  </tbody>\n",
              "</table>\n",
              "</div>\n",
              "    <div class=\"colab-df-buttons\">\n",
              "\n",
              "  <div class=\"colab-df-container\">\n",
              "    <button class=\"colab-df-convert\" onclick=\"convertToInteractive('df-010a5a94-bd6e-4b86-92b2-c2117f21b8e3')\"\n",
              "            title=\"Convert this dataframe to an interactive table.\"\n",
              "            style=\"display:none;\">\n",
              "\n",
              "  <svg xmlns=\"http://www.w3.org/2000/svg\" height=\"24px\" viewBox=\"0 -960 960 960\">\n",
              "    <path d=\"M120-120v-720h720v720H120Zm60-500h600v-160H180v160Zm220 220h160v-160H400v160Zm0 220h160v-160H400v160ZM180-400h160v-160H180v160Zm440 0h160v-160H620v160ZM180-180h160v-160H180v160Zm440 0h160v-160H620v160Z\"/>\n",
              "  </svg>\n",
              "    </button>\n",
              "\n",
              "  <style>\n",
              "    .colab-df-container {\n",
              "      display:flex;\n",
              "      gap: 12px;\n",
              "    }\n",
              "\n",
              "    .colab-df-convert {\n",
              "      background-color: #E8F0FE;\n",
              "      border: none;\n",
              "      border-radius: 50%;\n",
              "      cursor: pointer;\n",
              "      display: none;\n",
              "      fill: #1967D2;\n",
              "      height: 32px;\n",
              "      padding: 0 0 0 0;\n",
              "      width: 32px;\n",
              "    }\n",
              "\n",
              "    .colab-df-convert:hover {\n",
              "      background-color: #E2EBFA;\n",
              "      box-shadow: 0px 1px 2px rgba(60, 64, 67, 0.3), 0px 1px 3px 1px rgba(60, 64, 67, 0.15);\n",
              "      fill: #174EA6;\n",
              "    }\n",
              "\n",
              "    .colab-df-buttons div {\n",
              "      margin-bottom: 4px;\n",
              "    }\n",
              "\n",
              "    [theme=dark] .colab-df-convert {\n",
              "      background-color: #3B4455;\n",
              "      fill: #D2E3FC;\n",
              "    }\n",
              "\n",
              "    [theme=dark] .colab-df-convert:hover {\n",
              "      background-color: #434B5C;\n",
              "      box-shadow: 0px 1px 3px 1px rgba(0, 0, 0, 0.15);\n",
              "      filter: drop-shadow(0px 1px 2px rgba(0, 0, 0, 0.3));\n",
              "      fill: #FFFFFF;\n",
              "    }\n",
              "  </style>\n",
              "\n",
              "    <script>\n",
              "      const buttonEl =\n",
              "        document.querySelector('#df-010a5a94-bd6e-4b86-92b2-c2117f21b8e3 button.colab-df-convert');\n",
              "      buttonEl.style.display =\n",
              "        google.colab.kernel.accessAllowed ? 'block' : 'none';\n",
              "\n",
              "      async function convertToInteractive(key) {\n",
              "        const element = document.querySelector('#df-010a5a94-bd6e-4b86-92b2-c2117f21b8e3');\n",
              "        const dataTable =\n",
              "          await google.colab.kernel.invokeFunction('convertToInteractive',\n",
              "                                                    [key], {});\n",
              "        if (!dataTable) return;\n",
              "\n",
              "        const docLinkHtml = 'Like what you see? Visit the ' +\n",
              "          '<a target=\"_blank\" href=https://colab.research.google.com/notebooks/data_table.ipynb>data table notebook</a>'\n",
              "          + ' to learn more about interactive tables.';\n",
              "        element.innerHTML = '';\n",
              "        dataTable['output_type'] = 'display_data';\n",
              "        await google.colab.output.renderOutput(dataTable, element);\n",
              "        const docLink = document.createElement('div');\n",
              "        docLink.innerHTML = docLinkHtml;\n",
              "        element.appendChild(docLink);\n",
              "      }\n",
              "    </script>\n",
              "  </div>\n",
              "\n",
              "\n",
              "<div id=\"df-2ddac842-5669-4ebb-aaf4-7497d370fe2d\">\n",
              "  <button class=\"colab-df-quickchart\" onclick=\"quickchart('df-2ddac842-5669-4ebb-aaf4-7497d370fe2d')\"\n",
              "            title=\"Suggest charts\"\n",
              "            style=\"display:none;\">\n",
              "\n",
              "<svg xmlns=\"http://www.w3.org/2000/svg\" height=\"24px\"viewBox=\"0 0 24 24\"\n",
              "     width=\"24px\">\n",
              "    <g>\n",
              "        <path d=\"M19 3H5c-1.1 0-2 .9-2 2v14c0 1.1.9 2 2 2h14c1.1 0 2-.9 2-2V5c0-1.1-.9-2-2-2zM9 17H7v-7h2v7zm4 0h-2V7h2v10zm4 0h-2v-4h2v4z\"/>\n",
              "    </g>\n",
              "</svg>\n",
              "  </button>\n",
              "\n",
              "<style>\n",
              "  .colab-df-quickchart {\n",
              "      --bg-color: #E8F0FE;\n",
              "      --fill-color: #1967D2;\n",
              "      --hover-bg-color: #E2EBFA;\n",
              "      --hover-fill-color: #174EA6;\n",
              "      --disabled-fill-color: #AAA;\n",
              "      --disabled-bg-color: #DDD;\n",
              "  }\n",
              "\n",
              "  [theme=dark] .colab-df-quickchart {\n",
              "      --bg-color: #3B4455;\n",
              "      --fill-color: #D2E3FC;\n",
              "      --hover-bg-color: #434B5C;\n",
              "      --hover-fill-color: #FFFFFF;\n",
              "      --disabled-bg-color: #3B4455;\n",
              "      --disabled-fill-color: #666;\n",
              "  }\n",
              "\n",
              "  .colab-df-quickchart {\n",
              "    background-color: var(--bg-color);\n",
              "    border: none;\n",
              "    border-radius: 50%;\n",
              "    cursor: pointer;\n",
              "    display: none;\n",
              "    fill: var(--fill-color);\n",
              "    height: 32px;\n",
              "    padding: 0;\n",
              "    width: 32px;\n",
              "  }\n",
              "\n",
              "  .colab-df-quickchart:hover {\n",
              "    background-color: var(--hover-bg-color);\n",
              "    box-shadow: 0 1px 2px rgba(60, 64, 67, 0.3), 0 1px 3px 1px rgba(60, 64, 67, 0.15);\n",
              "    fill: var(--button-hover-fill-color);\n",
              "  }\n",
              "\n",
              "  .colab-df-quickchart-complete:disabled,\n",
              "  .colab-df-quickchart-complete:disabled:hover {\n",
              "    background-color: var(--disabled-bg-color);\n",
              "    fill: var(--disabled-fill-color);\n",
              "    box-shadow: none;\n",
              "  }\n",
              "\n",
              "  .colab-df-spinner {\n",
              "    border: 2px solid var(--fill-color);\n",
              "    border-color: transparent;\n",
              "    border-bottom-color: var(--fill-color);\n",
              "    animation:\n",
              "      spin 1s steps(1) infinite;\n",
              "  }\n",
              "\n",
              "  @keyframes spin {\n",
              "    0% {\n",
              "      border-color: transparent;\n",
              "      border-bottom-color: var(--fill-color);\n",
              "      border-left-color: var(--fill-color);\n",
              "    }\n",
              "    20% {\n",
              "      border-color: transparent;\n",
              "      border-left-color: var(--fill-color);\n",
              "      border-top-color: var(--fill-color);\n",
              "    }\n",
              "    30% {\n",
              "      border-color: transparent;\n",
              "      border-left-color: var(--fill-color);\n",
              "      border-top-color: var(--fill-color);\n",
              "      border-right-color: var(--fill-color);\n",
              "    }\n",
              "    40% {\n",
              "      border-color: transparent;\n",
              "      border-right-color: var(--fill-color);\n",
              "      border-top-color: var(--fill-color);\n",
              "    }\n",
              "    60% {\n",
              "      border-color: transparent;\n",
              "      border-right-color: var(--fill-color);\n",
              "    }\n",
              "    80% {\n",
              "      border-color: transparent;\n",
              "      border-right-color: var(--fill-color);\n",
              "      border-bottom-color: var(--fill-color);\n",
              "    }\n",
              "    90% {\n",
              "      border-color: transparent;\n",
              "      border-bottom-color: var(--fill-color);\n",
              "    }\n",
              "  }\n",
              "</style>\n",
              "\n",
              "  <script>\n",
              "    async function quickchart(key) {\n",
              "      const quickchartButtonEl =\n",
              "        document.querySelector('#' + key + ' button');\n",
              "      quickchartButtonEl.disabled = true;  // To prevent multiple clicks.\n",
              "      quickchartButtonEl.classList.add('colab-df-spinner');\n",
              "      try {\n",
              "        const charts = await google.colab.kernel.invokeFunction(\n",
              "            'suggestCharts', [key], {});\n",
              "      } catch (error) {\n",
              "        console.error('Error during call to suggestCharts:', error);\n",
              "      }\n",
              "      quickchartButtonEl.classList.remove('colab-df-spinner');\n",
              "      quickchartButtonEl.classList.add('colab-df-quickchart-complete');\n",
              "    }\n",
              "    (() => {\n",
              "      let quickchartButtonEl =\n",
              "        document.querySelector('#df-2ddac842-5669-4ebb-aaf4-7497d370fe2d button');\n",
              "      quickchartButtonEl.style.display =\n",
              "        google.colab.kernel.accessAllowed ? 'block' : 'none';\n",
              "    })();\n",
              "  </script>\n",
              "</div>\n",
              "\n",
              "    </div>\n",
              "  </div>\n"
            ],
            "application/vnd.google.colaboratory.intrinsic+json": {
              "type": "dataframe",
              "variable_name": "df",
              "summary": "{\n  \"name\": \"df\",\n  \"rows\": 299,\n  \"fields\": [\n    {\n      \"column\": \"id\",\n      \"properties\": {\n        \"dtype\": \"number\",\n        \"std\": 86,\n        \"min\": 0,\n        \"max\": 298,\n        \"num_unique_values\": 299,\n        \"samples\": [\n          281,\n          265,\n          164\n        ],\n        \"semantic_type\": \"\",\n        \"description\": \"\"\n      }\n    },\n    {\n      \"column\": \"file_name\",\n      \"properties\": {\n        \"dtype\": \"category\",\n        \"num_unique_values\": 128,\n        \"samples\": [\n          \"106.txt\",\n          \"67.txt\",\n          \"120.txt\"\n        ],\n        \"semantic_type\": \"\",\n        \"description\": \"\"\n      }\n    },\n    {\n      \"column\": \"text\",\n      \"properties\": {\n        \"dtype\": \"string\",\n        \"num_unique_values\": 292,\n        \"samples\": [\n          \"We analyze the problem of computing the minimal labels for a network of temporal relations in the Point Algebra. van Beek proposes an algorithm for accomplishing this task which takes $O(max(n^3,n^2\\\\cdot m))$ time (for $n$ points and $m$ $\\\\neq$-relations). We show that the proof of the correctness of this algorithm given by van Beek and Cohen is faulty, and we provide a new proof showing that the algorithm is indeed correct.\",\n          \"We note that for each k \\\\in {0,1,2, ...} the following holds: NE has (nonuniform) ACC^k circuits if and only if NE has P^{NE}-uniform ACC^k circuits. And we mention how to get analogous results for other circuit and complexity classes\",\n          \"Supervised, neural network, learning algorithms have proven very successful at solving a variety of learning problems. However, they suffer from a common problem of requiring explicit output labels. This requirement makes such algorithms implausible as biological models. In this paper, it is shown that pattern classification can be achieved in a multi-layered, feed-forward neural network, without requiring explicit output labels, by a process of supervised self-organization. The class projection is achieved by optimizing appropriate within-class uniformity and between-class discernibility criteria. The mapping function and the class labels are developed together iteratively using the derived self-organizing back-propagation algorithm. The ability of the self-organizing network to generalize on unseen data is also experimentally evaluated on real data sets, and compares favorably with the traditional labeled supervision with neural networks. However, interesting features emerge out of the proposed self-organizing supervision that are absent in conventional approaches. The further implications of self-organizing supervision with neural networks are also discussed.\"\n        ],\n        \"semantic_type\": \"\",\n        \"description\": \"\"\n      }\n    },\n    {\n      \"column\": \"class\",\n      \"properties\": {\n        \"dtype\": \"category\",\n        \"num_unique_values\": 4,\n        \"samples\": [\n          \"Robotics\",\n          \"Theory\",\n          \"ArtificiallIntelligence\"\n        ],\n        \"semantic_type\": \"\",\n        \"description\": \"\"\n      }\n    },\n    {\n      \"column\": \"keyphrase2\",\n      \"properties\": {\n        \"dtype\": \"object\",\n        \"semantic_type\": \"\",\n        \"description\": \"\"\n      }\n    },\n    {\n      \"column\": \"keyphrase3\",\n      \"properties\": {\n        \"dtype\": \"object\",\n        \"semantic_type\": \"\",\n        \"description\": \"\"\n      }\n    },\n    {\n      \"column\": \"keyphrase23\",\n      \"properties\": {\n        \"dtype\": \"object\",\n        \"semantic_type\": \"\",\n        \"description\": \"\"\n      }\n    },\n    {\n      \"column\": \"text_embeddings\",\n      \"properties\": {\n        \"dtype\": \"object\",\n        \"semantic_type\": \"\",\n        \"description\": \"\"\n      }\n    },\n    {\n      \"column\": \"keyphrase2_embeddings\",\n      \"properties\": {\n        \"dtype\": \"object\",\n        \"semantic_type\": \"\",\n        \"description\": \"\"\n      }\n    },\n    {\n      \"column\": \"keyphrase3_embeddings\",\n      \"properties\": {\n        \"dtype\": \"object\",\n        \"semantic_type\": \"\",\n        \"description\": \"\"\n      }\n    },\n    {\n      \"column\": \"keyphrase23_embeddings\",\n      \"properties\": {\n        \"dtype\": \"object\",\n        \"semantic_type\": \"\",\n        \"description\": \"\"\n      }\n    },\n    {\n      \"column\": \"sentences_embeddings\",\n      \"properties\": {\n        \"dtype\": \"object\",\n        \"semantic_type\": \"\",\n        \"description\": \"\"\n      }\n    }\n  ]\n}"
            }
          },
          "metadata": {},
          "execution_count": 9
        }
      ],
      "source": [
        "df.head()"
      ]
    },
    {
      "cell_type": "code",
      "execution_count": null,
      "metadata": {
        "colab": {
          "base_uri": "https://localhost:8080/"
        },
        "id": "jJr_ichpblpj",
        "outputId": "3252c0b3-550a-40e4-ad37-b881d1c89597"
      },
      "outputs": [
        {
          "output_type": "stream",
          "name": "stdout",
          "text": [
            "['ArtificiallIntelligence' 'Robotics' 'Systems' 'Theory']\n",
            "4\n"
          ]
        }
      ],
      "source": [
        "classes = df[\"class\"].unique()\n",
        "print(classes)\n",
        "class_number = len(classes)\n",
        "print(class_number)"
      ]
    },
    {
      "cell_type": "markdown",
      "metadata": {
        "id": "eJMw5L-g4BQ8"
      },
      "source": [
        "# Functions\n"
      ]
    },
    {
      "cell_type": "code",
      "execution_count": null,
      "metadata": {
        "id": "T91r4QQz4EhP"
      },
      "outputs": [],
      "source": [
        "def define_graph(model_name,rotulated,iteration):\n",
        "    if (rotulated != 80):\n",
        "        with open('/content/drive/MyDrive/Mestrado_Grafos/processed_datasets/'+dataset_name+'/masks/mask_rot'+str(rotulated)+'_'+str(iteration)+'.pkl', 'rb') as f:\n",
        "            aux = pickle.load(f)\n",
        "            train_mask, val_mask, test_mask = aux[0],aux[1],aux[2]\n",
        "    else:\n",
        "        with open('/content/drive/MyDrive/Mestrado_Grafos/processed_datasets/'+dataset_name+'/masks/mask_rot'+str(rotulated)+'%_'+str(iteration)+'.pkl', 'rb') as f:\n",
        "            aux = pickle.load(f)\n",
        "            train_mask, val_mask, test_mask = aux[0],aux[1],aux[2]\n",
        "\n",
        "    # Novo objeto para representar edges\n",
        "    new_edges = np.copy(edges)\n",
        "\n",
        "    # A conversion on vertices is needed:\n",
        "    # we must add documents and contexts nodes in the same integer sequence\n",
        "    # since the coarcening algorithm does not diferentiate nodes by their bipartide placement\n",
        "    number_doc_nodes = len(document_nodes)\n",
        "    new_edges[1] = new_edges[1] + number_doc_nodes\n",
        "\n",
        "    # Selecting training instances to be excluded from coarsening\n",
        "    mask_excluding_array = [i for i,x in enumerate(train_mask) if x==True]\n",
        "\n",
        "    # adjustion new_egdges representation\n",
        "    new_edges = new_edges.T\n",
        "\n",
        "    # excluindo as mascaras\n",
        "    exc_edges = np.array([[0,0]])\n",
        "    for exc in mask_excluding_array:\n",
        "        # Exclui a linha que possui um valor expecifico em sua coluna\n",
        "        # col -> coluna para verificar o valor que queremos exluir\n",
        "        # val -> valor que desejamos excluir\n",
        "        # out = arr[~(arr[:,col] == val),:]\n",
        "        exc_edges = np.concatenate((exc_edges, np.array(new_edges[(new_edges[:,0] == exc),:])), axis=0)\n",
        "        new_edges = new_edges[~(new_edges[:,0] == exc),:]\n",
        "    exc_edges = np.delete(exc_edges, 0, 0)\n",
        "\n",
        "    # saving first file\n",
        "    json_dict = {\"edges\":len(new_edges),\"vertices\":[len(document_nodes),len(context_nodes)]}\n",
        "    json_object = json.dumps(json_dict, indent=4)\n",
        "\n",
        "\n",
        "    # saving second file the .ncol\n",
        "    lines = [str(tupla[0])+' '+str(tupla[1])+' '+'1.0\\n' for tupla in new_edges]\n",
        "\n",
        "\n",
        "    # Saving separetly for easy downloads\n",
        "    with open(\"/content/drive/MyDrive/mestrado_v2/processed_datasets/\"+dataset_name+\"/easy_download/\"+model_name+\"_\"+str(rotulated)+'_'+str(iteration)+\".json\", 'w') as f:\n",
        "        f.write(json_object)\n",
        "        f.close()\n",
        "\n",
        "    with open(\"/content/drive/MyDrive/mestrado_v2/processed_datasets/\"+dataset_name+\"/easy_download/\"+model_name+\"_\"+str(rotulated)+'_'+str(iteration)+\".ncol\", 'w') as f:\n",
        "        f.writelines(lines)\n",
        "        f.close()\n",
        "\n",
        "    # Saving excluded edges for later reading them to the graph\n",
        "    with open(\"/content/drive/MyDrive/mestrado_v2/processed_datasets/\"+dataset_name+'/'+keyphrase+\"/graphs_rotulated_\"+str(rotulated)+\"/exc_edges_\"+model_name+\"_\"+str(rotulated)+'_'+str(iteration), 'wb') as handle:\n",
        "        pickle.dump(exc_edges, handle)"
      ]
    },
    {
      "cell_type": "code",
      "execution_count": null,
      "metadata": {
        "id": "dDMlstborSVG"
      },
      "outputs": [],
      "source": [
        "#Without easy downloads\n",
        "# with open(\"/content/drive/MyDrive/mestrado_v2/processed_datasets/\"+dataset_name+'/'+keyphrase+\"/graphs_rotulated_\"+str(rotulated)+\"/\"+model_name+\"_\"+str(rotulated)+'_'+str(iteration)+\".json\", 'w') as f:\n",
        "#     f.write(json_object)\n",
        "#     f.close()\n",
        "\n",
        "# with open(\"/content/drive/MyDrive/mestrado_v2/processed_datasets/\"+dataset_name+'/'+keyphrase+\"/graphs_rotulated_\"+str(rotulated)+\"/\"+model_name+\"_\"+str(rotulated)+'_'+str(iteration)+\".ncol\", 'w') as f:\n",
        "#     f.writelines(lines)\n",
        "#     f.close()"
      ]
    },
    {
      "cell_type": "markdown",
      "metadata": {
        "id": "9o5zWewOblpe"
      },
      "source": [
        "--------------------------------------\n",
        "# Hetrogenous Graph for Keyphrase = 2\n",
        "--------------------------------------"
      ]
    },
    {
      "cell_type": "code",
      "execution_count": null,
      "metadata": {
        "id": "o-mFtVemblpj"
      },
      "outputs": [],
      "source": [
        "# Change here to change wich keypharse to use\n",
        "keyphrase = \"keyphrase2\"\n",
        "\n",
        "model_name = dataset_name+\"_\"+keyphrase"
      ]
    },
    {
      "cell_type": "markdown",
      "metadata": {
        "id": "0T1oDBmUblpj"
      },
      "source": [
        "## Creating the Graph"
      ]
    },
    {
      "cell_type": "markdown",
      "metadata": {
        "id": "wNNme2C1blpj"
      },
      "source": [
        "### Defining Graph Nodes and Edges 👀\n",
        "\n",
        "- `Nodes` - documents and contexts\n",
        "- `Edges`\n",
        "  - document <- has -> context\n",
        "- `Labels` - documents classes\n"
      ]
    },
    {
      "cell_type": "markdown",
      "metadata": {
        "id": "YPIbdnNjblpj"
      },
      "source": [
        "#### Nodes and Edges 👀"
      ]
    },
    {
      "cell_type": "markdown",
      "metadata": {
        "id": "Hv0pHHWIblpj"
      },
      "source": [
        "##### Defining Docmuent nodes, Context nodes and edges between them"
      ]
    },
    {
      "cell_type": "code",
      "execution_count": null,
      "metadata": {
        "id": "LhE29x5yblpj"
      },
      "outputs": [],
      "source": [
        "all_contexts_list =[]\n",
        "edges1,edges2 = [],[]\n",
        "cont = 0\n",
        "new_edge_cont = 0\n",
        "\n",
        "# graph nodes (in embedded format)\n",
        "document_nodes = []\n",
        "context_nodes = []\n",
        "# nodes' texts saved for identification in the coarsening method\n",
        "document_nodes_text = []\n",
        "context_nodes_text = []\n",
        "\n",
        "edges_tuple = []\n",
        "\n",
        "sentences = []\n",
        "cont_sentences = 0\n",
        "dit_sentences = {}\n",
        "\n",
        "# Creating graph nodes and edges\n",
        "for i in range(len(df)):\n",
        "    # adding document nodes for every doc in df\n",
        "    document_nodes.append(df[\"text_embeddings\"][i])\n",
        "    document_nodes_text.append(df[\"text\"][i])\n",
        "\n",
        "    # adding context node and edges:\n",
        "    aux = df[keyphrase][i]\n",
        "    for j,key in enumerate(aux):\n",
        "        # testing if keyphrase was already detected in df\n",
        "        if key[0] not in all_contexts_list: # if NOT\n",
        "            # add a new context node for every new keyphrase in df\n",
        "            context_nodes.append(df[keyphrase+\"_embeddings\"][i][j])\n",
        "            context_nodes_text.append(df[keyphrase][i][j][0])\n",
        "            # add a new edge between doc and new context\n",
        "            edges1.append(df[\"id\"][i])\n",
        "            edges2.append(new_edge_cont)\n",
        "            edges_tuple.append((df[\"id\"][i],new_edge_cont))\n",
        "            # update existing contexts list\n",
        "            all_contexts_list.append(key[0])\n",
        "            new_edge_cont += 1\n",
        "        else: # if YES\n",
        "            # we do NOT add context node and (already exists)\n",
        "            # add a new edge between doc and old context\n",
        "            edges1.append(df[\"id\"][i])\n",
        "            edges2.append(all_contexts_list.index(key[0]))\n",
        "            edges_tuple.append((df[\"id\"][i],all_contexts_list.index(key[0])))\n",
        "            cont+=1\n",
        "\n",
        "    # organize sentences, sentences_embeddings, and a dict with the corresponding document for each sentence\n",
        "    aux = df['sentences_embeddings'][i]\n",
        "    for j,key in enumerate(aux):\n",
        "        sentences.append(key)\n",
        "        dit_sentences[cont_sentences] = df[\"id\"][i]\n",
        "        cont_sentences += 1\n",
        "\n",
        "\n",
        "document_nodes = np.array(document_nodes)\n",
        "context_nodes = np.array(context_nodes)"
      ]
    },
    {
      "cell_type": "code",
      "execution_count": null,
      "metadata": {
        "colab": {
          "base_uri": "https://localhost:8080/"
        },
        "id": "zbnGK4npblpj",
        "outputId": "115a5507-91f4-4f6c-87ac-76c44eacee9b"
      },
      "outputs": [
        {
          "output_type": "stream",
          "name": "stdout",
          "text": [
            "number of document nodes: 299\n",
            "number of context nodes: 1314\n",
            "number of shared contexts: 181\n",
            "number of direct edges (first dimension): 1495\n",
            "number of direct edges (second dimension): 1495\n"
          ]
        }
      ],
      "source": [
        "print(\"number of document nodes:\",len(document_nodes))\n",
        "print(\"number of context nodes:\",len(context_nodes))\n",
        "print(\"number of shared contexts:\",cont)\n",
        "print(\"number of direct edges (first dimension):\",len(edges1))\n",
        "print(\"number of direct edges (second dimension):\",len(edges2))"
      ]
    },
    {
      "cell_type": "code",
      "execution_count": null,
      "metadata": {
        "id": "FufZJ-mcblpj"
      },
      "outputs": [],
      "source": [
        "nbrs = NearestNeighbors(n_neighbors=15, metric='cosine').fit(context_nodes)\n",
        "\n",
        "neighbors_list = nbrs.kneighbors(sentences, return_distance=False)\n",
        "\n",
        "# cria aresta para cada vizinho encontrado\n",
        "for i,neighbors in enumerate(neighbors_list):\n",
        "        for n in neighbors:\n",
        "            edges1.append(dit_sentences[i])\n",
        "            edges2.append(n)\n",
        "            edges_tuple.append((dit_sentences[i],n))"
      ]
    },
    {
      "cell_type": "markdown",
      "metadata": {
        "id": "0RCul7wQblpj"
      },
      "source": [
        "##### Ajusting everything to Tensor Objects"
      ]
    },
    {
      "cell_type": "code",
      "execution_count": null,
      "metadata": {
        "id": "38kjryRGblpj"
      },
      "outputs": [],
      "source": [
        "# transforms egdes to tensor\n",
        "edges = np.array([edges1,edges2])\n",
        "edges = torch.tensor(edges)"
      ]
    },
    {
      "cell_type": "code",
      "execution_count": null,
      "metadata": {
        "id": "HD5RbnNjblpj"
      },
      "outputs": [],
      "source": [
        "# transforms nodes to tensor\n",
        "document_nodes = np.array(document_nodes)\n",
        "document_nodes = torch.tensor(document_nodes)\n",
        "context_nodes = np.array(context_nodes)\n",
        "context_nodes = torch.tensor(context_nodes)"
      ]
    },
    {
      "cell_type": "code",
      "execution_count": null,
      "metadata": {
        "colab": {
          "base_uri": "https://localhost:8080/"
        },
        "id": "f24kO6EBblpk",
        "outputId": "7150eba0-fa12-48a0-d658-f590e9261640"
      },
      "outputs": [
        {
          "output_type": "execute_result",
          "data": {
            "text/plain": [
              "tensor([[-0.0220,  0.0231, -0.0769,  ...,  0.1419,  0.1079, -0.0344],\n",
              "        [ 0.0746, -0.0071,  0.0518,  ...,  0.0495,  0.0877,  0.0238],\n",
              "        [-0.0144, -0.0775,  0.0839,  ...,  0.0047,  0.0209,  0.0116],\n",
              "        ...,\n",
              "        [ 0.0063, -0.0461,  0.0246,  ...,  0.0435, -0.0737, -0.0371],\n",
              "        [-0.0916,  0.0071, -0.0406,  ...,  0.0551,  0.0544, -0.0292],\n",
              "        [-0.0790,  0.0077, -0.0081,  ...,  0.0168,  0.0037,  0.0190]])"
            ]
          },
          "metadata": {},
          "execution_count": 19
        }
      ],
      "source": [
        "# Show documents nodes\n",
        "document_nodes"
      ]
    },
    {
      "cell_type": "code",
      "execution_count": null,
      "metadata": {
        "colab": {
          "base_uri": "https://localhost:8080/"
        },
        "id": "ghJHzwMRblpk",
        "outputId": "dafb5932-61ee-479c-caaf-ba3597c82a4c"
      },
      "outputs": [
        {
          "output_type": "execute_result",
          "data": {
            "text/plain": [
              "299"
            ]
          },
          "metadata": {},
          "execution_count": 20
        }
      ],
      "source": [
        "# Quantity of document nodes\n",
        "len(document_nodes)"
      ]
    },
    {
      "cell_type": "code",
      "execution_count": null,
      "metadata": {
        "colab": {
          "base_uri": "https://localhost:8080/"
        },
        "id": "pF3Ofv4Oblpk",
        "outputId": "637f6cdd-914c-4aea-c204-f7185f464a55"
      },
      "outputs": [
        {
          "output_type": "execute_result",
          "data": {
            "text/plain": [
              "tensor([[ 0.0059,  0.0400,  0.0011,  ...,  0.0658,  0.0987, -0.1089],\n",
              "        [-0.0788, -0.0112, -0.0691,  ...,  0.0927,  0.0427, -0.0612],\n",
              "        [ 0.0232,  0.0165, -0.0164,  ...,  0.1524,  0.0515, -0.0367],\n",
              "        ...,\n",
              "        [ 0.0433, -0.0433, -0.0125,  ...,  0.0168,  0.0225, -0.0429],\n",
              "        [-0.0242,  0.0415,  0.0377,  ...,  0.0636,  0.0278, -0.0133],\n",
              "        [-0.0937,  0.0558,  0.0037,  ...,  0.0429,  0.0639,  0.0129]])"
            ]
          },
          "metadata": {},
          "execution_count": 21
        }
      ],
      "source": [
        "# Show context nodes\n",
        "context_nodes"
      ]
    },
    {
      "cell_type": "code",
      "execution_count": null,
      "metadata": {
        "colab": {
          "base_uri": "https://localhost:8080/"
        },
        "id": "So1oRKtEblpk",
        "outputId": "eca7bc5b-543e-4601-ca71-1c363d89d12d"
      },
      "outputs": [
        {
          "output_type": "execute_result",
          "data": {
            "text/plain": [
              "1314"
            ]
          },
          "metadata": {},
          "execution_count": 22
        }
      ],
      "source": [
        "# Quantity of context nodes\n",
        "len(context_nodes)"
      ]
    },
    {
      "cell_type": "code",
      "execution_count": null,
      "metadata": {
        "colab": {
          "base_uri": "https://localhost:8080/"
        },
        "id": "mbl-BDY5blpk",
        "outputId": "cad6f38b-59eb-4f62-edf6-9253facde52f"
      },
      "outputs": [
        {
          "output_type": "stream",
          "name": "stdout",
          "text": [
            "34630\n",
            "34630\n"
          ]
        }
      ],
      "source": [
        "# Quantity of edges\n",
        "print(len(edges[0]))\n",
        "print(len(edges[1]))"
      ]
    },
    {
      "cell_type": "code",
      "execution_count": null,
      "metadata": {
        "colab": {
          "base_uri": "https://localhost:8080/"
        },
        "id": "MDj1GeXIblpk",
        "outputId": "6ad2d25e-70f2-4970-e133-1d0e7baac5b5"
      },
      "outputs": [
        {
          "output_type": "stream",
          "name": "stdout",
          "text": [
            "tensor([[   0,    0,    0,  ...,  298,  298,  298],\n",
            "        [   0,    1,    2,  ..., 1148, 1251, 1232]])\n"
          ]
        }
      ],
      "source": [
        "# showing edges\n",
        "print(edges)"
      ]
    },
    {
      "cell_type": "markdown",
      "metadata": {
        "id": "t6ILovoGblpk"
      },
      "source": [
        "#### Class Labels"
      ]
    },
    {
      "cell_type": "code",
      "execution_count": null,
      "metadata": {
        "colab": {
          "base_uri": "https://localhost:8080/"
        },
        "id": "AlUUcBxUblpk",
        "outputId": "5d006ec5-759a-4dfb-f3cd-168f87c0194d"
      },
      "outputs": [
        {
          "output_type": "stream",
          "name": "stdout",
          "text": [
            "['ArtificiallIntelligence' 'Robotics' 'Systems' 'Theory']\n"
          ]
        }
      ],
      "source": [
        "# All different classes\n",
        "print(df[\"class\"].unique())"
      ]
    },
    {
      "cell_type": "code",
      "execution_count": null,
      "metadata": {
        "colab": {
          "base_uri": "https://localhost:8080/"
        },
        "id": "NZJ5cNLNblpk",
        "outputId": "6ae33484-6e47-432c-9f72-c92eb3a59f7c"
      },
      "outputs": [
        {
          "output_type": "stream",
          "name": "stdout",
          "text": [
            "{'ArtificiallIntelligence': 0, 'Robotics': 1, 'Systems': 2, 'Theory': 3} \n",
            "\n"
          ]
        },
        {
          "output_type": "stream",
          "name": "stderr",
          "text": [
            "<ipython-input-26-a018e46c97dd>:12: SettingWithCopyWarning: \n",
            "A value is trying to be set on a copy of a slice from a DataFrame\n",
            "\n",
            "See the caveats in the documentation: https://pandas.pydata.org/pandas-docs/stable/user_guide/indexing.html#returning-a-view-versus-a-copy\n",
            "  labels[\"class\"][i] = dit[labels[\"class\"][i]]\n"
          ]
        },
        {
          "output_type": "execute_result",
          "data": {
            "text/plain": [
              "  class\n",
              "0     0\n",
              "1     0\n",
              "2     0\n",
              "3     0\n",
              "4     0"
            ],
            "text/html": [
              "\n",
              "  <div id=\"df-7729bd8b-0ff7-409f-9c1c-fa1a46120069\" class=\"colab-df-container\">\n",
              "    <div>\n",
              "<style scoped>\n",
              "    .dataframe tbody tr th:only-of-type {\n",
              "        vertical-align: middle;\n",
              "    }\n",
              "\n",
              "    .dataframe tbody tr th {\n",
              "        vertical-align: top;\n",
              "    }\n",
              "\n",
              "    .dataframe thead th {\n",
              "        text-align: right;\n",
              "    }\n",
              "</style>\n",
              "<table border=\"1\" class=\"dataframe\">\n",
              "  <thead>\n",
              "    <tr style=\"text-align: right;\">\n",
              "      <th></th>\n",
              "      <th>class</th>\n",
              "    </tr>\n",
              "  </thead>\n",
              "  <tbody>\n",
              "    <tr>\n",
              "      <th>0</th>\n",
              "      <td>0</td>\n",
              "    </tr>\n",
              "    <tr>\n",
              "      <th>1</th>\n",
              "      <td>0</td>\n",
              "    </tr>\n",
              "    <tr>\n",
              "      <th>2</th>\n",
              "      <td>0</td>\n",
              "    </tr>\n",
              "    <tr>\n",
              "      <th>3</th>\n",
              "      <td>0</td>\n",
              "    </tr>\n",
              "    <tr>\n",
              "      <th>4</th>\n",
              "      <td>0</td>\n",
              "    </tr>\n",
              "  </tbody>\n",
              "</table>\n",
              "</div>\n",
              "    <div class=\"colab-df-buttons\">\n",
              "\n",
              "  <div class=\"colab-df-container\">\n",
              "    <button class=\"colab-df-convert\" onclick=\"convertToInteractive('df-7729bd8b-0ff7-409f-9c1c-fa1a46120069')\"\n",
              "            title=\"Convert this dataframe to an interactive table.\"\n",
              "            style=\"display:none;\">\n",
              "\n",
              "  <svg xmlns=\"http://www.w3.org/2000/svg\" height=\"24px\" viewBox=\"0 -960 960 960\">\n",
              "    <path d=\"M120-120v-720h720v720H120Zm60-500h600v-160H180v160Zm220 220h160v-160H400v160Zm0 220h160v-160H400v160ZM180-400h160v-160H180v160Zm440 0h160v-160H620v160ZM180-180h160v-160H180v160Zm440 0h160v-160H620v160Z\"/>\n",
              "  </svg>\n",
              "    </button>\n",
              "\n",
              "  <style>\n",
              "    .colab-df-container {\n",
              "      display:flex;\n",
              "      gap: 12px;\n",
              "    }\n",
              "\n",
              "    .colab-df-convert {\n",
              "      background-color: #E8F0FE;\n",
              "      border: none;\n",
              "      border-radius: 50%;\n",
              "      cursor: pointer;\n",
              "      display: none;\n",
              "      fill: #1967D2;\n",
              "      height: 32px;\n",
              "      padding: 0 0 0 0;\n",
              "      width: 32px;\n",
              "    }\n",
              "\n",
              "    .colab-df-convert:hover {\n",
              "      background-color: #E2EBFA;\n",
              "      box-shadow: 0px 1px 2px rgba(60, 64, 67, 0.3), 0px 1px 3px 1px rgba(60, 64, 67, 0.15);\n",
              "      fill: #174EA6;\n",
              "    }\n",
              "\n",
              "    .colab-df-buttons div {\n",
              "      margin-bottom: 4px;\n",
              "    }\n",
              "\n",
              "    [theme=dark] .colab-df-convert {\n",
              "      background-color: #3B4455;\n",
              "      fill: #D2E3FC;\n",
              "    }\n",
              "\n",
              "    [theme=dark] .colab-df-convert:hover {\n",
              "      background-color: #434B5C;\n",
              "      box-shadow: 0px 1px 3px 1px rgba(0, 0, 0, 0.15);\n",
              "      filter: drop-shadow(0px 1px 2px rgba(0, 0, 0, 0.3));\n",
              "      fill: #FFFFFF;\n",
              "    }\n",
              "  </style>\n",
              "\n",
              "    <script>\n",
              "      const buttonEl =\n",
              "        document.querySelector('#df-7729bd8b-0ff7-409f-9c1c-fa1a46120069 button.colab-df-convert');\n",
              "      buttonEl.style.display =\n",
              "        google.colab.kernel.accessAllowed ? 'block' : 'none';\n",
              "\n",
              "      async function convertToInteractive(key) {\n",
              "        const element = document.querySelector('#df-7729bd8b-0ff7-409f-9c1c-fa1a46120069');\n",
              "        const dataTable =\n",
              "          await google.colab.kernel.invokeFunction('convertToInteractive',\n",
              "                                                    [key], {});\n",
              "        if (!dataTable) return;\n",
              "\n",
              "        const docLinkHtml = 'Like what you see? Visit the ' +\n",
              "          '<a target=\"_blank\" href=https://colab.research.google.com/notebooks/data_table.ipynb>data table notebook</a>'\n",
              "          + ' to learn more about interactive tables.';\n",
              "        element.innerHTML = '';\n",
              "        dataTable['output_type'] = 'display_data';\n",
              "        await google.colab.output.renderOutput(dataTable, element);\n",
              "        const docLink = document.createElement('div');\n",
              "        docLink.innerHTML = docLinkHtml;\n",
              "        element.appendChild(docLink);\n",
              "      }\n",
              "    </script>\n",
              "  </div>\n",
              "\n",
              "\n",
              "<div id=\"df-f7af6fdc-e9a2-465d-a833-ed2dc5d75406\">\n",
              "  <button class=\"colab-df-quickchart\" onclick=\"quickchart('df-f7af6fdc-e9a2-465d-a833-ed2dc5d75406')\"\n",
              "            title=\"Suggest charts\"\n",
              "            style=\"display:none;\">\n",
              "\n",
              "<svg xmlns=\"http://www.w3.org/2000/svg\" height=\"24px\"viewBox=\"0 0 24 24\"\n",
              "     width=\"24px\">\n",
              "    <g>\n",
              "        <path d=\"M19 3H5c-1.1 0-2 .9-2 2v14c0 1.1.9 2 2 2h14c1.1 0 2-.9 2-2V5c0-1.1-.9-2-2-2zM9 17H7v-7h2v7zm4 0h-2V7h2v10zm4 0h-2v-4h2v4z\"/>\n",
              "    </g>\n",
              "</svg>\n",
              "  </button>\n",
              "\n",
              "<style>\n",
              "  .colab-df-quickchart {\n",
              "      --bg-color: #E8F0FE;\n",
              "      --fill-color: #1967D2;\n",
              "      --hover-bg-color: #E2EBFA;\n",
              "      --hover-fill-color: #174EA6;\n",
              "      --disabled-fill-color: #AAA;\n",
              "      --disabled-bg-color: #DDD;\n",
              "  }\n",
              "\n",
              "  [theme=dark] .colab-df-quickchart {\n",
              "      --bg-color: #3B4455;\n",
              "      --fill-color: #D2E3FC;\n",
              "      --hover-bg-color: #434B5C;\n",
              "      --hover-fill-color: #FFFFFF;\n",
              "      --disabled-bg-color: #3B4455;\n",
              "      --disabled-fill-color: #666;\n",
              "  }\n",
              "\n",
              "  .colab-df-quickchart {\n",
              "    background-color: var(--bg-color);\n",
              "    border: none;\n",
              "    border-radius: 50%;\n",
              "    cursor: pointer;\n",
              "    display: none;\n",
              "    fill: var(--fill-color);\n",
              "    height: 32px;\n",
              "    padding: 0;\n",
              "    width: 32px;\n",
              "  }\n",
              "\n",
              "  .colab-df-quickchart:hover {\n",
              "    background-color: var(--hover-bg-color);\n",
              "    box-shadow: 0 1px 2px rgba(60, 64, 67, 0.3), 0 1px 3px 1px rgba(60, 64, 67, 0.15);\n",
              "    fill: var(--button-hover-fill-color);\n",
              "  }\n",
              "\n",
              "  .colab-df-quickchart-complete:disabled,\n",
              "  .colab-df-quickchart-complete:disabled:hover {\n",
              "    background-color: var(--disabled-bg-color);\n",
              "    fill: var(--disabled-fill-color);\n",
              "    box-shadow: none;\n",
              "  }\n",
              "\n",
              "  .colab-df-spinner {\n",
              "    border: 2px solid var(--fill-color);\n",
              "    border-color: transparent;\n",
              "    border-bottom-color: var(--fill-color);\n",
              "    animation:\n",
              "      spin 1s steps(1) infinite;\n",
              "  }\n",
              "\n",
              "  @keyframes spin {\n",
              "    0% {\n",
              "      border-color: transparent;\n",
              "      border-bottom-color: var(--fill-color);\n",
              "      border-left-color: var(--fill-color);\n",
              "    }\n",
              "    20% {\n",
              "      border-color: transparent;\n",
              "      border-left-color: var(--fill-color);\n",
              "      border-top-color: var(--fill-color);\n",
              "    }\n",
              "    30% {\n",
              "      border-color: transparent;\n",
              "      border-left-color: var(--fill-color);\n",
              "      border-top-color: var(--fill-color);\n",
              "      border-right-color: var(--fill-color);\n",
              "    }\n",
              "    40% {\n",
              "      border-color: transparent;\n",
              "      border-right-color: var(--fill-color);\n",
              "      border-top-color: var(--fill-color);\n",
              "    }\n",
              "    60% {\n",
              "      border-color: transparent;\n",
              "      border-right-color: var(--fill-color);\n",
              "    }\n",
              "    80% {\n",
              "      border-color: transparent;\n",
              "      border-right-color: var(--fill-color);\n",
              "      border-bottom-color: var(--fill-color);\n",
              "    }\n",
              "    90% {\n",
              "      border-color: transparent;\n",
              "      border-bottom-color: var(--fill-color);\n",
              "    }\n",
              "  }\n",
              "</style>\n",
              "\n",
              "  <script>\n",
              "    async function quickchart(key) {\n",
              "      const quickchartButtonEl =\n",
              "        document.querySelector('#' + key + ' button');\n",
              "      quickchartButtonEl.disabled = true;  // To prevent multiple clicks.\n",
              "      quickchartButtonEl.classList.add('colab-df-spinner');\n",
              "      try {\n",
              "        const charts = await google.colab.kernel.invokeFunction(\n",
              "            'suggestCharts', [key], {});\n",
              "      } catch (error) {\n",
              "        console.error('Error during call to suggestCharts:', error);\n",
              "      }\n",
              "      quickchartButtonEl.classList.remove('colab-df-spinner');\n",
              "      quickchartButtonEl.classList.add('colab-df-quickchart-complete');\n",
              "    }\n",
              "    (() => {\n",
              "      let quickchartButtonEl =\n",
              "        document.querySelector('#df-f7af6fdc-e9a2-465d-a833-ed2dc5d75406 button');\n",
              "      quickchartButtonEl.style.display =\n",
              "        google.colab.kernel.accessAllowed ? 'block' : 'none';\n",
              "    })();\n",
              "  </script>\n",
              "</div>\n",
              "\n",
              "    </div>\n",
              "  </div>\n"
            ],
            "application/vnd.google.colaboratory.intrinsic+json": {
              "type": "dataframe",
              "variable_name": "labels",
              "summary": "{\n  \"name\": \"labels\",\n  \"rows\": 299,\n  \"fields\": [\n    {\n      \"column\": \"class\",\n      \"properties\": {\n        \"dtype\": \"date\",\n        \"min\": 0,\n        \"max\": 3,\n        \"num_unique_values\": 4,\n        \"samples\": [\n          1,\n          3,\n          0\n        ],\n        \"semantic_type\": \"\",\n        \"description\": \"\"\n      }\n    }\n  ]\n}"
            }
          },
          "metadata": {},
          "execution_count": 26
        }
      ],
      "source": [
        "# Creating labels for classification\n",
        "# the dictionary is a numeric representation for each possible \"document\" class\n",
        "\n",
        "dit = {}\n",
        "for i,classe in enumerate(df[\"class\"].unique()):\n",
        "  dit[classe] = i\n",
        "\n",
        "print(dit,'\\n')\n",
        "\n",
        "labels = df[[\"class\"]]\n",
        "for i in range(len(df[[\"class\"]])):\n",
        "    labels[\"class\"][i] = dit[labels[\"class\"][i]]\n",
        "labels.head()"
      ]
    },
    {
      "cell_type": "code",
      "execution_count": null,
      "metadata": {
        "colab": {
          "base_uri": "https://localhost:8080/"
        },
        "id": "U-34LGb6blpk",
        "outputId": "c2268235-70c4-4de5-aa5a-257271d35972"
      },
      "outputs": [
        {
          "output_type": "execute_result",
          "data": {
            "text/plain": [
              "tensor([0, 0, 0, 0, 0, 0, 0, 0, 0, 0, 0, 0, 0, 0, 0, 0, 0, 0, 0, 0, 0, 0, 0, 0,\n",
              "        0, 0, 0, 0, 0, 0, 0, 0, 0, 0, 0, 0, 0, 0, 0, 0, 0, 0, 0, 0, 0, 0, 0, 0,\n",
              "        0, 0, 0, 0, 0, 0, 0, 0, 0, 0, 0, 0, 0, 0, 0, 0, 0, 0, 0, 0, 0, 0, 0, 0,\n",
              "        0, 0, 0, 0, 0, 0, 0, 0, 0, 0, 0, 0, 0, 0, 0, 0, 0, 0, 0, 0, 0, 0, 0, 0,\n",
              "        0, 0, 0, 0, 0, 0, 0, 0, 0, 0, 0, 0, 0, 0, 0, 0, 0, 0, 0, 0, 0, 0, 0, 0,\n",
              "        0, 0, 0, 0, 0, 0, 0, 0, 1, 1, 1, 1, 1, 1, 1, 1, 1, 1, 1, 1, 1, 1, 1, 1,\n",
              "        1, 1, 1, 1, 1, 1, 1, 1, 1, 1, 1, 1, 1, 1, 1, 1, 1, 1, 1, 1, 1, 1, 1, 1,\n",
              "        1, 1, 1, 1, 1, 1, 1, 1, 1, 1, 1, 1, 1, 1, 1, 1, 1, 1, 1, 1, 1, 1, 1, 1,\n",
              "        1, 1, 1, 1, 1, 1, 1, 1, 1, 1, 1, 1, 1, 1, 1, 1, 1, 1, 1, 1, 1, 1, 1, 1,\n",
              "        1, 1, 1, 1, 1, 1, 1, 1, 1, 1, 1, 1, 2, 2, 2, 2, 2, 2, 2, 2, 2, 2, 2, 2,\n",
              "        2, 2, 2, 2, 2, 2, 2, 2, 2, 2, 2, 2, 2, 3, 3, 3, 3, 3, 3, 3, 3, 3, 3, 3,\n",
              "        3, 3, 3, 3, 3, 3, 3, 3, 3, 3, 3, 3, 3, 3, 3, 3, 3, 3, 3, 3, 3, 3, 3, 3,\n",
              "        3, 3, 3, 3, 3, 3, 3, 3, 3, 3, 3])"
            ]
          },
          "metadata": {},
          "execution_count": 27
        }
      ],
      "source": [
        "# tranfors class dataframe into tensor\n",
        "y = labels[\"class\"].tolist()\n",
        "y = x_np = torch.tensor(y)\n",
        "y"
      ]
    },
    {
      "cell_type": "code",
      "execution_count": null,
      "metadata": {
        "colab": {
          "base_uri": "https://localhost:8080/"
        },
        "id": "C1P0qdULblpk",
        "outputId": "cc382275-7878-496c-a244-a942c6d3e03c"
      },
      "outputs": [
        {
          "output_type": "execute_result",
          "data": {
            "text/plain": [
              "299"
            ]
          },
          "metadata": {},
          "execution_count": 28
        }
      ],
      "source": [
        "len(y)"
      ]
    },
    {
      "cell_type": "markdown",
      "metadata": {
        "id": "t0i-Jker93qQ"
      },
      "source": [
        "## Saving graph"
      ]
    },
    {
      "cell_type": "code",
      "execution_count": null,
      "metadata": {
        "id": "zkukQwnsf3la"
      },
      "outputs": [],
      "source": [
        " # cria diretorio para keypharse\n",
        "try:\n",
        "    os.makedirs(\"/content/drive/MyDrive/mestrado_v2/processed_datasets/\"+dataset_name+'/'+keyphrase)\n",
        "except OSError as e:\n",
        "    if e.errno != errno.EEXIST:\n",
        "        raise"
      ]
    },
    {
      "cell_type": "code",
      "execution_count": null,
      "metadata": {
        "id": "oMU_qjCN998Y"
      },
      "outputs": [],
      "source": [
        "with open('/content/drive/MyDrive/mestrado_v2/processed_datasets/'+dataset_name+'/'+keyphrase+'/graph.pkl', 'wb') as f:\n",
        "    aux = [document_nodes_text,context_nodes_text,y,class_number,classes]\n",
        "    pickle.dump(aux, f)"
      ]
    },
    {
      "cell_type": "code",
      "execution_count": null,
      "metadata": {
        "id": "GRTn-_DiHhxX"
      },
      "outputs": [],
      "source": [
        " # cria diretorio para keypharse\n",
        "try:\n",
        "    os.makedirs(\"/content/drive/MyDrive/mestrado_v2/processed_datasets/\"+dataset_name+\"/easy_download\")\n",
        "except OSError as e:\n",
        "    if e.errno != errno.EEXIST:\n",
        "        raise"
      ]
    },
    {
      "cell_type": "code",
      "execution_count": null,
      "metadata": {
        "id": "w49DOcGQS9ZC"
      },
      "outputs": [],
      "source": [
        " # cria diretorio para keypharse\n",
        "try:\n",
        "    os.makedirs(\"/content/drive/MyDrive/mestrado_v2/processed_datasets/\"+dataset_name+\"/drop_and_move\")\n",
        "except OSError as e:\n",
        "    if e.errno != errno.EEXIST:\n",
        "        raise"
      ]
    },
    {
      "cell_type": "markdown",
      "metadata": {
        "id": "zGjH7mM5blpk"
      },
      "source": [
        "## Removing Masks"
      ]
    },
    {
      "cell_type": "markdown",
      "metadata": {
        "id": "mcZr0lEMblpl"
      },
      "source": [
        "### rotulated base = 1 ❎"
      ]
    },
    {
      "cell_type": "code",
      "execution_count": null,
      "metadata": {
        "id": "g7oshy8PHOIh"
      },
      "outputs": [],
      "source": [
        "rotulated = 1\n",
        " # cria dirrotio para o grafo especifico\n",
        "try:\n",
        "    os.makedirs(\"/content/drive/MyDrive/mestrado_v2/processed_datasets/\"+dataset_name+'/'+keyphrase+\"/graphs_rotulated_\"+str(rotulated))\n",
        "except OSError as e:\n",
        "    if e.errno != errno.EEXIST:\n",
        "        raise"
      ]
    },
    {
      "cell_type": "code",
      "execution_count": null,
      "metadata": {
        "id": "fROHMYizb-u3",
        "colab": {
          "base_uri": "https://localhost:8080/"
        },
        "outputId": "8f77b8bb-b354-41b6-91d1-30a33705e929"
      },
      "outputs": [
        {
          "output_type": "stream",
          "name": "stderr",
          "text": [
            "/usr/local/lib/python3.10/dist-packages/torch/storage.py:414: FutureWarning: You are using `torch.load` with `weights_only=False` (the current default value), which uses the default pickle module implicitly. It is possible to construct malicious pickle data which will execute arbitrary code during unpickling (See https://github.com/pytorch/pytorch/blob/main/SECURITY.md#untrusted-models for more details). In a future release, the default value for `weights_only` will be flipped to `True`. This limits the functions that could be executed during unpickling. Arbitrary objects will no longer be allowed to be loaded via this mode unless they are explicitly allowlisted by the user via `torch.serialization.add_safe_globals`. We recommend you start setting `weights_only=True` for any use case where you don't have full control of the loaded file. Please open an issue on GitHub for any issues related to this experimental feature.\n",
            "  return torch.load(io.BytesIO(b))\n"
          ]
        }
      ],
      "source": [
        "for iteration in range(10):\n",
        "    define_graph(model_name,rotulated,iteration)"
      ]
    },
    {
      "cell_type": "markdown",
      "metadata": {
        "id": "O1S2wtanblpl"
      },
      "source": [
        "### rotulated base = 5 ❎"
      ]
    },
    {
      "cell_type": "code",
      "execution_count": null,
      "metadata": {
        "id": "lqlOxnvX-7zb"
      },
      "outputs": [],
      "source": [
        "rotulated = 5\n",
        " # cria dirrotio para o grafo especifico\n",
        "try:\n",
        "    os.makedirs(\"/content/drive/MyDrive/mestrado_v2/processed_datasets/\"+dataset_name+'/'+keyphrase+\"/graphs_rotulated_\"+str(rotulated))\n",
        "except OSError as e:\n",
        "    if e.errno != errno.EEXIST:\n",
        "        raise"
      ]
    },
    {
      "cell_type": "code",
      "execution_count": null,
      "metadata": {
        "id": "M0piHZm--7zb"
      },
      "outputs": [],
      "source": [
        "for iteration in range(10):\n",
        "    define_graph(model_name,rotulated,iteration)"
      ]
    },
    {
      "cell_type": "markdown",
      "metadata": {
        "id": "IbRULGY2blpl"
      },
      "source": [
        "### rotulated base = 10 ❎"
      ]
    },
    {
      "cell_type": "code",
      "execution_count": null,
      "metadata": {
        "id": "rBsuKMqS-9nD"
      },
      "outputs": [],
      "source": [
        "rotulated = 10\n",
        " # cria dirrotio para o grafo especifico\n",
        "try:\n",
        "    os.makedirs(\"/content/drive/MyDrive/mestrado_v2/processed_datasets/\"+dataset_name+'/'+keyphrase+\"/graphs_rotulated_\"+str(rotulated))\n",
        "except OSError as e:\n",
        "    if e.errno != errno.EEXIST:\n",
        "        raise"
      ]
    },
    {
      "cell_type": "code",
      "execution_count": null,
      "metadata": {
        "id": "Ra-_eEqx-9nH"
      },
      "outputs": [],
      "source": [
        "for iteration in range(10):\n",
        "    define_graph(model_name,rotulated,iteration)"
      ]
    },
    {
      "cell_type": "markdown",
      "metadata": {
        "id": "45GHi9mwblpl"
      },
      "source": [
        "### rotulated base = 20 ❎"
      ]
    },
    {
      "cell_type": "code",
      "execution_count": null,
      "metadata": {
        "id": "8ytuWsaa--H1"
      },
      "outputs": [],
      "source": [
        "rotulated = 20\n",
        " # cria dirrotio para o grafo especifico\n",
        "try:\n",
        "    os.makedirs(\"/content/drive/MyDrive/mestrado_v2/processed_datasets/\"+dataset_name+'/'+keyphrase+\"/graphs_rotulated_\"+str(rotulated))\n",
        "except OSError as e:\n",
        "    if e.errno != errno.EEXIST:\n",
        "        raise"
      ]
    },
    {
      "cell_type": "code",
      "execution_count": null,
      "metadata": {
        "id": "UBFvQeEP--H1"
      },
      "outputs": [],
      "source": [
        "for iteration in range(10):\n",
        "    define_graph(model_name,rotulated,iteration)"
      ]
    },
    {
      "cell_type": "markdown",
      "metadata": {
        "id": "m0B4MdUQblpl"
      },
      "source": [
        "### rotulated base = 30 ❎"
      ]
    },
    {
      "cell_type": "code",
      "execution_count": null,
      "metadata": {
        "id": "yvIcB5ku--ht"
      },
      "outputs": [],
      "source": [
        "rotulated = 30\n",
        " # cria dirrotio para o grafo especifico\n",
        "try:\n",
        "    os.makedirs(\"/content/drive/MyDrive/mestrado_v2/processed_datasets/\"+dataset_name+'/'+keyphrase+\"/graphs_rotulated_\"+str(rotulated))\n",
        "except OSError as e:\n",
        "    if e.errno != errno.EEXIST:\n",
        "        raise"
      ]
    },
    {
      "cell_type": "code",
      "execution_count": null,
      "metadata": {
        "id": "rqRXYFR_--hu"
      },
      "outputs": [],
      "source": [
        "for iteration in range(10):\n",
        "    define_graph(model_name,rotulated,iteration)"
      ]
    },
    {
      "cell_type": "markdown",
      "metadata": {
        "id": "hbyLFKjljH5V"
      },
      "source": [
        "--------------------------------------\n",
        "# Hetrogenous Graph for Keyphrase = 3\n",
        "--------------------------------------"
      ]
    },
    {
      "cell_type": "code",
      "execution_count": null,
      "metadata": {
        "id": "ZVud0Zt7jH5V"
      },
      "outputs": [],
      "source": [
        "# Change here to change wich keypharse to use\n",
        "keyphrase = \"keyphrase3\"\n",
        "\n",
        "model_name = dataset_name+\"_\"+keyphrase"
      ]
    },
    {
      "cell_type": "markdown",
      "metadata": {
        "id": "4W0JjtPKjH5W"
      },
      "source": [
        "## Creating the Graph"
      ]
    },
    {
      "cell_type": "markdown",
      "metadata": {
        "id": "usXVYoWsjH5W"
      },
      "source": [
        "### Defining Graph Nodes and Edges 👀\n",
        "\n",
        "- `Nodes` - documents and contexts\n",
        "- `Edges`\n",
        "  - document <- has -> context\n",
        "- `Labels` - documents classes\n"
      ]
    },
    {
      "cell_type": "markdown",
      "metadata": {
        "id": "Q_WYdbcjjH5W"
      },
      "source": [
        "#### Nodes and Edges 👀"
      ]
    },
    {
      "cell_type": "markdown",
      "metadata": {
        "id": "BlGY0kcBjH5W"
      },
      "source": [
        "##### Defining Docmuent nodes, Context nodes and edges between them"
      ]
    },
    {
      "cell_type": "code",
      "execution_count": null,
      "metadata": {
        "id": "XP0huhjQjH5W"
      },
      "outputs": [],
      "source": [
        "all_contexts_list =[]\n",
        "edges1,edges2 = [],[]\n",
        "cont = 0\n",
        "new_edge_cont = 0\n",
        "\n",
        "# graph nodes (in embedded format)\n",
        "document_nodes = []\n",
        "context_nodes = []\n",
        "# nodes' texts saved for identification in the coarsening method\n",
        "document_nodes_text = []\n",
        "context_nodes_text = []\n",
        "\n",
        "edges_tuple = []\n",
        "\n",
        "sentences = []\n",
        "cont_sentences = 0\n",
        "dit_sentences = {}\n",
        "\n",
        "# Creating graph nodes and edges\n",
        "for i in range(len(df)):\n",
        "    # adding document nodes for every doc in df\n",
        "    document_nodes.append(df[\"text_embeddings\"][i])\n",
        "    document_nodes_text.append(df[\"text\"][i])\n",
        "\n",
        "    # adding context node and edges:\n",
        "    aux = df[keyphrase][i]\n",
        "    for j,key in enumerate(aux):\n",
        "        # testing if keyphrase was already detected in df\n",
        "        if key[0] not in all_contexts_list: # if NOT\n",
        "            # add a new context node for every new keyphrase in df\n",
        "            context_nodes.append(df[keyphrase+\"_embeddings\"][i][j])\n",
        "            context_nodes_text.append(df[keyphrase][i][j][0])\n",
        "            # add a new edge between doc and new context\n",
        "            edges1.append(df[\"id\"][i])\n",
        "            edges2.append(new_edge_cont)\n",
        "            edges_tuple.append((df[\"id\"][i],new_edge_cont))\n",
        "            # update existing contexts list\n",
        "            all_contexts_list.append(key[0])\n",
        "            new_edge_cont += 1\n",
        "        else: # if YES\n",
        "            # we do NOT add context node and (already exists)\n",
        "            # add a new edge between doc and old context\n",
        "            edges1.append(df[\"id\"][i])\n",
        "            edges2.append(all_contexts_list.index(key[0]))\n",
        "            edges_tuple.append((df[\"id\"][i],all_contexts_list.index(key[0])))\n",
        "            cont+=1\n",
        "\n",
        "    # organize sentences, sentences_embeddings, and a dict with the corresponding document for each sentence\n",
        "    aux = df['sentences_embeddings'][i]\n",
        "    for j,key in enumerate(aux):\n",
        "        sentences.append(key)\n",
        "        dit_sentences[cont_sentences] = df[\"id\"][i]\n",
        "        cont_sentences += 1\n",
        "\n",
        "\n",
        "document_nodes = np.array(document_nodes)\n",
        "context_nodes = np.array(context_nodes)"
      ]
    },
    {
      "cell_type": "code",
      "execution_count": null,
      "metadata": {
        "id": "Fn4l3OiJjH5W",
        "colab": {
          "base_uri": "https://localhost:8080/"
        },
        "outputId": "fee16acf-35e1-4179-cbb4-3f2e12508cf2"
      },
      "outputs": [
        {
          "output_type": "stream",
          "name": "stdout",
          "text": [
            "number of document nodes: 299\n",
            "number of context nodes: 1422\n",
            "number of shared contexts: 73\n",
            "number of direct edges (first dimension): 1495\n",
            "number of direct edges (second dimension): 1495\n"
          ]
        }
      ],
      "source": [
        "print(\"number of document nodes:\",len(document_nodes))\n",
        "print(\"number of context nodes:\",len(context_nodes))\n",
        "print(\"number of shared contexts:\",cont)\n",
        "print(\"number of direct edges (first dimension):\",len(edges1))\n",
        "print(\"number of direct edges (second dimension):\",len(edges2))"
      ]
    },
    {
      "cell_type": "code",
      "execution_count": null,
      "metadata": {
        "id": "pB8unsTqjH5W"
      },
      "outputs": [],
      "source": [
        "nbrs = NearestNeighbors(n_neighbors=15, metric='cosine').fit(context_nodes)\n",
        "\n",
        "neighbors_list = nbrs.kneighbors(sentences, return_distance=False)\n",
        "\n",
        "# cria aresta para cada vizinho encontrado\n",
        "for i,neighbors in enumerate(neighbors_list):\n",
        "        for n in neighbors:\n",
        "            edges1.append(dit_sentences[i])\n",
        "            edges2.append(n)\n",
        "            edges_tuple.append((dit_sentences[i],n))"
      ]
    },
    {
      "cell_type": "markdown",
      "metadata": {
        "id": "x6jhL9GFjH5W"
      },
      "source": [
        "##### Ajusting everything to Tensor Objects"
      ]
    },
    {
      "cell_type": "code",
      "execution_count": null,
      "metadata": {
        "id": "EZTLBiBcjH5W"
      },
      "outputs": [],
      "source": [
        "# transforms egdes to tensor\n",
        "edges = np.array([edges1,edges2])\n",
        "edges = torch.tensor(edges)"
      ]
    },
    {
      "cell_type": "code",
      "execution_count": null,
      "metadata": {
        "id": "1SQlo-QwjH5W"
      },
      "outputs": [],
      "source": [
        "# transforms nodes to tensor\n",
        "document_nodes = np.array(document_nodes)\n",
        "document_nodes = torch.tensor(document_nodes)\n",
        "context_nodes = np.array(context_nodes)\n",
        "context_nodes = torch.tensor(context_nodes)"
      ]
    },
    {
      "cell_type": "code",
      "execution_count": null,
      "metadata": {
        "id": "6vd3eQK_jH5W",
        "colab": {
          "base_uri": "https://localhost:8080/"
        },
        "outputId": "0ca3852a-1ccf-4028-d779-22d45b7729b5"
      },
      "outputs": [
        {
          "output_type": "execute_result",
          "data": {
            "text/plain": [
              "tensor([[-0.0220,  0.0231, -0.0769,  ...,  0.1419,  0.1079, -0.0344],\n",
              "        [ 0.0746, -0.0071,  0.0518,  ...,  0.0495,  0.0877,  0.0238],\n",
              "        [-0.0144, -0.0775,  0.0839,  ...,  0.0047,  0.0209,  0.0116],\n",
              "        ...,\n",
              "        [ 0.0063, -0.0461,  0.0246,  ...,  0.0435, -0.0737, -0.0371],\n",
              "        [-0.0916,  0.0071, -0.0406,  ...,  0.0551,  0.0544, -0.0292],\n",
              "        [-0.0790,  0.0077, -0.0081,  ...,  0.0168,  0.0037,  0.0190]])"
            ]
          },
          "metadata": {},
          "execution_count": 47
        }
      ],
      "source": [
        "# Show documents nodes\n",
        "document_nodes"
      ]
    },
    {
      "cell_type": "code",
      "execution_count": null,
      "metadata": {
        "colab": {
          "base_uri": "https://localhost:8080/"
        },
        "id": "jg6taKnijH5X",
        "outputId": "0a1e0900-52df-4d91-98c1-83bd8b1c1c58"
      },
      "outputs": [
        {
          "output_type": "execute_result",
          "data": {
            "text/plain": [
              "299"
            ]
          },
          "metadata": {},
          "execution_count": 48
        }
      ],
      "source": [
        "# Quantity of document nodes\n",
        "len(document_nodes)"
      ]
    },
    {
      "cell_type": "code",
      "execution_count": null,
      "metadata": {
        "colab": {
          "base_uri": "https://localhost:8080/"
        },
        "id": "DrNiy_HhjH5X",
        "outputId": "9f43fe3c-3b05-4290-96af-4704efed8866"
      },
      "outputs": [
        {
          "output_type": "execute_result",
          "data": {
            "text/plain": [
              "tensor([[-0.0460,  0.0379, -0.0279,  ...,  0.1318,  0.0712, -0.0755],\n",
              "        [-0.0522, -0.0016, -0.0994,  ...,  0.0759,  0.0378, -0.0089],\n",
              "        [ 0.0388, -0.0221,  0.0033,  ...,  0.1689,  0.0871, -0.0248],\n",
              "        ...,\n",
              "        [-0.0145,  0.0006,  0.0273,  ...,  0.0439,  0.0060, -0.0276],\n",
              "        [ 0.0247, -0.0422, -0.0180,  ...,  0.0323,  0.0403, -0.0162],\n",
              "        [-0.0344,  0.0151, -0.0252,  ..., -0.0531,  0.0236,  0.0178]])"
            ]
          },
          "metadata": {},
          "execution_count": 49
        }
      ],
      "source": [
        "# Show context nodes\n",
        "context_nodes"
      ]
    },
    {
      "cell_type": "code",
      "execution_count": null,
      "metadata": {
        "colab": {
          "base_uri": "https://localhost:8080/"
        },
        "id": "5bkV69tAjH5X",
        "outputId": "120cd7e8-e5e3-4bc1-cc1e-e0004f9b0fc1"
      },
      "outputs": [
        {
          "output_type": "execute_result",
          "data": {
            "text/plain": [
              "1422"
            ]
          },
          "metadata": {},
          "execution_count": 50
        }
      ],
      "source": [
        "# Quantity of context nodes\n",
        "len(context_nodes)"
      ]
    },
    {
      "cell_type": "code",
      "execution_count": null,
      "metadata": {
        "colab": {
          "base_uri": "https://localhost:8080/"
        },
        "id": "rWxe7FEbjH5X",
        "outputId": "377db624-28d9-465b-8f58-2b033edc96b3"
      },
      "outputs": [
        {
          "output_type": "stream",
          "name": "stdout",
          "text": [
            "34630\n",
            "34630\n"
          ]
        }
      ],
      "source": [
        "# Quantity of edges\n",
        "print(len(edges[0]))\n",
        "print(len(edges[1]))"
      ]
    },
    {
      "cell_type": "code",
      "execution_count": null,
      "metadata": {
        "colab": {
          "base_uri": "https://localhost:8080/"
        },
        "id": "U9SmJO3jjH5X",
        "outputId": "999b6a29-8045-4569-86c0-092b2dbff544"
      },
      "outputs": [
        {
          "output_type": "stream",
          "name": "stdout",
          "text": [
            "tensor([[   0,    0,    0,  ...,  298,  298,  298],\n",
            "        [   0,    1,    2,  ..., 1298, 1244, 1373]])\n"
          ]
        }
      ],
      "source": [
        "# showing edges\n",
        "print(edges)"
      ]
    },
    {
      "cell_type": "markdown",
      "metadata": {
        "id": "p70r4iNUjH5X"
      },
      "source": [
        "#### Class Labels"
      ]
    },
    {
      "cell_type": "code",
      "execution_count": null,
      "metadata": {
        "colab": {
          "base_uri": "https://localhost:8080/"
        },
        "id": "bx4deIQ3jH5X",
        "outputId": "56d3c4e8-ebc9-4302-d7aa-3fac8d8e6f04"
      },
      "outputs": [
        {
          "output_type": "stream",
          "name": "stdout",
          "text": [
            "['ArtificiallIntelligence' 'Robotics' 'Systems' 'Theory']\n"
          ]
        }
      ],
      "source": [
        "# All different classes\n",
        "print(df[\"class\"].unique())"
      ]
    },
    {
      "cell_type": "code",
      "execution_count": null,
      "metadata": {
        "colab": {
          "base_uri": "https://localhost:8080/"
        },
        "id": "Zrm03LuCjH5X",
        "outputId": "dd69a7fa-911d-46c4-c2cb-7c379b1faccb"
      },
      "outputs": [
        {
          "output_type": "stream",
          "name": "stdout",
          "text": [
            "{'ArtificiallIntelligence': 0, 'Robotics': 1, 'Systems': 2, 'Theory': 3} \n",
            "\n"
          ]
        },
        {
          "output_type": "stream",
          "name": "stderr",
          "text": [
            "<ipython-input-54-a018e46c97dd>:12: SettingWithCopyWarning: \n",
            "A value is trying to be set on a copy of a slice from a DataFrame\n",
            "\n",
            "See the caveats in the documentation: https://pandas.pydata.org/pandas-docs/stable/user_guide/indexing.html#returning-a-view-versus-a-copy\n",
            "  labels[\"class\"][i] = dit[labels[\"class\"][i]]\n"
          ]
        },
        {
          "output_type": "execute_result",
          "data": {
            "text/plain": [
              "  class\n",
              "0     0\n",
              "1     0\n",
              "2     0\n",
              "3     0\n",
              "4     0"
            ],
            "text/html": [
              "\n",
              "  <div id=\"df-b2ba2742-7046-4921-9d40-8216755f625c\" class=\"colab-df-container\">\n",
              "    <div>\n",
              "<style scoped>\n",
              "    .dataframe tbody tr th:only-of-type {\n",
              "        vertical-align: middle;\n",
              "    }\n",
              "\n",
              "    .dataframe tbody tr th {\n",
              "        vertical-align: top;\n",
              "    }\n",
              "\n",
              "    .dataframe thead th {\n",
              "        text-align: right;\n",
              "    }\n",
              "</style>\n",
              "<table border=\"1\" class=\"dataframe\">\n",
              "  <thead>\n",
              "    <tr style=\"text-align: right;\">\n",
              "      <th></th>\n",
              "      <th>class</th>\n",
              "    </tr>\n",
              "  </thead>\n",
              "  <tbody>\n",
              "    <tr>\n",
              "      <th>0</th>\n",
              "      <td>0</td>\n",
              "    </tr>\n",
              "    <tr>\n",
              "      <th>1</th>\n",
              "      <td>0</td>\n",
              "    </tr>\n",
              "    <tr>\n",
              "      <th>2</th>\n",
              "      <td>0</td>\n",
              "    </tr>\n",
              "    <tr>\n",
              "      <th>3</th>\n",
              "      <td>0</td>\n",
              "    </tr>\n",
              "    <tr>\n",
              "      <th>4</th>\n",
              "      <td>0</td>\n",
              "    </tr>\n",
              "  </tbody>\n",
              "</table>\n",
              "</div>\n",
              "    <div class=\"colab-df-buttons\">\n",
              "\n",
              "  <div class=\"colab-df-container\">\n",
              "    <button class=\"colab-df-convert\" onclick=\"convertToInteractive('df-b2ba2742-7046-4921-9d40-8216755f625c')\"\n",
              "            title=\"Convert this dataframe to an interactive table.\"\n",
              "            style=\"display:none;\">\n",
              "\n",
              "  <svg xmlns=\"http://www.w3.org/2000/svg\" height=\"24px\" viewBox=\"0 -960 960 960\">\n",
              "    <path d=\"M120-120v-720h720v720H120Zm60-500h600v-160H180v160Zm220 220h160v-160H400v160Zm0 220h160v-160H400v160ZM180-400h160v-160H180v160Zm440 0h160v-160H620v160ZM180-180h160v-160H180v160Zm440 0h160v-160H620v160Z\"/>\n",
              "  </svg>\n",
              "    </button>\n",
              "\n",
              "  <style>\n",
              "    .colab-df-container {\n",
              "      display:flex;\n",
              "      gap: 12px;\n",
              "    }\n",
              "\n",
              "    .colab-df-convert {\n",
              "      background-color: #E8F0FE;\n",
              "      border: none;\n",
              "      border-radius: 50%;\n",
              "      cursor: pointer;\n",
              "      display: none;\n",
              "      fill: #1967D2;\n",
              "      height: 32px;\n",
              "      padding: 0 0 0 0;\n",
              "      width: 32px;\n",
              "    }\n",
              "\n",
              "    .colab-df-convert:hover {\n",
              "      background-color: #E2EBFA;\n",
              "      box-shadow: 0px 1px 2px rgba(60, 64, 67, 0.3), 0px 1px 3px 1px rgba(60, 64, 67, 0.15);\n",
              "      fill: #174EA6;\n",
              "    }\n",
              "\n",
              "    .colab-df-buttons div {\n",
              "      margin-bottom: 4px;\n",
              "    }\n",
              "\n",
              "    [theme=dark] .colab-df-convert {\n",
              "      background-color: #3B4455;\n",
              "      fill: #D2E3FC;\n",
              "    }\n",
              "\n",
              "    [theme=dark] .colab-df-convert:hover {\n",
              "      background-color: #434B5C;\n",
              "      box-shadow: 0px 1px 3px 1px rgba(0, 0, 0, 0.15);\n",
              "      filter: drop-shadow(0px 1px 2px rgba(0, 0, 0, 0.3));\n",
              "      fill: #FFFFFF;\n",
              "    }\n",
              "  </style>\n",
              "\n",
              "    <script>\n",
              "      const buttonEl =\n",
              "        document.querySelector('#df-b2ba2742-7046-4921-9d40-8216755f625c button.colab-df-convert');\n",
              "      buttonEl.style.display =\n",
              "        google.colab.kernel.accessAllowed ? 'block' : 'none';\n",
              "\n",
              "      async function convertToInteractive(key) {\n",
              "        const element = document.querySelector('#df-b2ba2742-7046-4921-9d40-8216755f625c');\n",
              "        const dataTable =\n",
              "          await google.colab.kernel.invokeFunction('convertToInteractive',\n",
              "                                                    [key], {});\n",
              "        if (!dataTable) return;\n",
              "\n",
              "        const docLinkHtml = 'Like what you see? Visit the ' +\n",
              "          '<a target=\"_blank\" href=https://colab.research.google.com/notebooks/data_table.ipynb>data table notebook</a>'\n",
              "          + ' to learn more about interactive tables.';\n",
              "        element.innerHTML = '';\n",
              "        dataTable['output_type'] = 'display_data';\n",
              "        await google.colab.output.renderOutput(dataTable, element);\n",
              "        const docLink = document.createElement('div');\n",
              "        docLink.innerHTML = docLinkHtml;\n",
              "        element.appendChild(docLink);\n",
              "      }\n",
              "    </script>\n",
              "  </div>\n",
              "\n",
              "\n",
              "<div id=\"df-1bc0588c-a1ed-4b5d-8cb1-69026f7a3754\">\n",
              "  <button class=\"colab-df-quickchart\" onclick=\"quickchart('df-1bc0588c-a1ed-4b5d-8cb1-69026f7a3754')\"\n",
              "            title=\"Suggest charts\"\n",
              "            style=\"display:none;\">\n",
              "\n",
              "<svg xmlns=\"http://www.w3.org/2000/svg\" height=\"24px\"viewBox=\"0 0 24 24\"\n",
              "     width=\"24px\">\n",
              "    <g>\n",
              "        <path d=\"M19 3H5c-1.1 0-2 .9-2 2v14c0 1.1.9 2 2 2h14c1.1 0 2-.9 2-2V5c0-1.1-.9-2-2-2zM9 17H7v-7h2v7zm4 0h-2V7h2v10zm4 0h-2v-4h2v4z\"/>\n",
              "    </g>\n",
              "</svg>\n",
              "  </button>\n",
              "\n",
              "<style>\n",
              "  .colab-df-quickchart {\n",
              "      --bg-color: #E8F0FE;\n",
              "      --fill-color: #1967D2;\n",
              "      --hover-bg-color: #E2EBFA;\n",
              "      --hover-fill-color: #174EA6;\n",
              "      --disabled-fill-color: #AAA;\n",
              "      --disabled-bg-color: #DDD;\n",
              "  }\n",
              "\n",
              "  [theme=dark] .colab-df-quickchart {\n",
              "      --bg-color: #3B4455;\n",
              "      --fill-color: #D2E3FC;\n",
              "      --hover-bg-color: #434B5C;\n",
              "      --hover-fill-color: #FFFFFF;\n",
              "      --disabled-bg-color: #3B4455;\n",
              "      --disabled-fill-color: #666;\n",
              "  }\n",
              "\n",
              "  .colab-df-quickchart {\n",
              "    background-color: var(--bg-color);\n",
              "    border: none;\n",
              "    border-radius: 50%;\n",
              "    cursor: pointer;\n",
              "    display: none;\n",
              "    fill: var(--fill-color);\n",
              "    height: 32px;\n",
              "    padding: 0;\n",
              "    width: 32px;\n",
              "  }\n",
              "\n",
              "  .colab-df-quickchart:hover {\n",
              "    background-color: var(--hover-bg-color);\n",
              "    box-shadow: 0 1px 2px rgba(60, 64, 67, 0.3), 0 1px 3px 1px rgba(60, 64, 67, 0.15);\n",
              "    fill: var(--button-hover-fill-color);\n",
              "  }\n",
              "\n",
              "  .colab-df-quickchart-complete:disabled,\n",
              "  .colab-df-quickchart-complete:disabled:hover {\n",
              "    background-color: var(--disabled-bg-color);\n",
              "    fill: var(--disabled-fill-color);\n",
              "    box-shadow: none;\n",
              "  }\n",
              "\n",
              "  .colab-df-spinner {\n",
              "    border: 2px solid var(--fill-color);\n",
              "    border-color: transparent;\n",
              "    border-bottom-color: var(--fill-color);\n",
              "    animation:\n",
              "      spin 1s steps(1) infinite;\n",
              "  }\n",
              "\n",
              "  @keyframes spin {\n",
              "    0% {\n",
              "      border-color: transparent;\n",
              "      border-bottom-color: var(--fill-color);\n",
              "      border-left-color: var(--fill-color);\n",
              "    }\n",
              "    20% {\n",
              "      border-color: transparent;\n",
              "      border-left-color: var(--fill-color);\n",
              "      border-top-color: var(--fill-color);\n",
              "    }\n",
              "    30% {\n",
              "      border-color: transparent;\n",
              "      border-left-color: var(--fill-color);\n",
              "      border-top-color: var(--fill-color);\n",
              "      border-right-color: var(--fill-color);\n",
              "    }\n",
              "    40% {\n",
              "      border-color: transparent;\n",
              "      border-right-color: var(--fill-color);\n",
              "      border-top-color: var(--fill-color);\n",
              "    }\n",
              "    60% {\n",
              "      border-color: transparent;\n",
              "      border-right-color: var(--fill-color);\n",
              "    }\n",
              "    80% {\n",
              "      border-color: transparent;\n",
              "      border-right-color: var(--fill-color);\n",
              "      border-bottom-color: var(--fill-color);\n",
              "    }\n",
              "    90% {\n",
              "      border-color: transparent;\n",
              "      border-bottom-color: var(--fill-color);\n",
              "    }\n",
              "  }\n",
              "</style>\n",
              "\n",
              "  <script>\n",
              "    async function quickchart(key) {\n",
              "      const quickchartButtonEl =\n",
              "        document.querySelector('#' + key + ' button');\n",
              "      quickchartButtonEl.disabled = true;  // To prevent multiple clicks.\n",
              "      quickchartButtonEl.classList.add('colab-df-spinner');\n",
              "      try {\n",
              "        const charts = await google.colab.kernel.invokeFunction(\n",
              "            'suggestCharts', [key], {});\n",
              "      } catch (error) {\n",
              "        console.error('Error during call to suggestCharts:', error);\n",
              "      }\n",
              "      quickchartButtonEl.classList.remove('colab-df-spinner');\n",
              "      quickchartButtonEl.classList.add('colab-df-quickchart-complete');\n",
              "    }\n",
              "    (() => {\n",
              "      let quickchartButtonEl =\n",
              "        document.querySelector('#df-1bc0588c-a1ed-4b5d-8cb1-69026f7a3754 button');\n",
              "      quickchartButtonEl.style.display =\n",
              "        google.colab.kernel.accessAllowed ? 'block' : 'none';\n",
              "    })();\n",
              "  </script>\n",
              "</div>\n",
              "\n",
              "    </div>\n",
              "  </div>\n"
            ],
            "application/vnd.google.colaboratory.intrinsic+json": {
              "type": "dataframe",
              "variable_name": "labels",
              "summary": "{\n  \"name\": \"labels\",\n  \"rows\": 299,\n  \"fields\": [\n    {\n      \"column\": \"class\",\n      \"properties\": {\n        \"dtype\": \"date\",\n        \"min\": 0,\n        \"max\": 3,\n        \"num_unique_values\": 4,\n        \"samples\": [\n          1,\n          3,\n          0\n        ],\n        \"semantic_type\": \"\",\n        \"description\": \"\"\n      }\n    }\n  ]\n}"
            }
          },
          "metadata": {},
          "execution_count": 54
        }
      ],
      "source": [
        "# Creating labels for classification\n",
        "# the dictionary is a numeric representation for each possible \"document\" class\n",
        "\n",
        "dit = {}\n",
        "for i,classe in enumerate(df[\"class\"].unique()):\n",
        "  dit[classe] = i\n",
        "\n",
        "print(dit,'\\n')\n",
        "\n",
        "labels = df[[\"class\"]]\n",
        "for i in range(len(df[[\"class\"]])):\n",
        "    labels[\"class\"][i] = dit[labels[\"class\"][i]]\n",
        "labels.head()"
      ]
    },
    {
      "cell_type": "code",
      "execution_count": null,
      "metadata": {
        "colab": {
          "base_uri": "https://localhost:8080/"
        },
        "id": "NmhQ-0K2jH5X",
        "outputId": "84c5d193-f2d6-4230-bc3d-5c8d5ce2106c"
      },
      "outputs": [
        {
          "output_type": "execute_result",
          "data": {
            "text/plain": [
              "tensor([0, 0, 0, 0, 0, 0, 0, 0, 0, 0, 0, 0, 0, 0, 0, 0, 0, 0, 0, 0, 0, 0, 0, 0,\n",
              "        0, 0, 0, 0, 0, 0, 0, 0, 0, 0, 0, 0, 0, 0, 0, 0, 0, 0, 0, 0, 0, 0, 0, 0,\n",
              "        0, 0, 0, 0, 0, 0, 0, 0, 0, 0, 0, 0, 0, 0, 0, 0, 0, 0, 0, 0, 0, 0, 0, 0,\n",
              "        0, 0, 0, 0, 0, 0, 0, 0, 0, 0, 0, 0, 0, 0, 0, 0, 0, 0, 0, 0, 0, 0, 0, 0,\n",
              "        0, 0, 0, 0, 0, 0, 0, 0, 0, 0, 0, 0, 0, 0, 0, 0, 0, 0, 0, 0, 0, 0, 0, 0,\n",
              "        0, 0, 0, 0, 0, 0, 0, 0, 1, 1, 1, 1, 1, 1, 1, 1, 1, 1, 1, 1, 1, 1, 1, 1,\n",
              "        1, 1, 1, 1, 1, 1, 1, 1, 1, 1, 1, 1, 1, 1, 1, 1, 1, 1, 1, 1, 1, 1, 1, 1,\n",
              "        1, 1, 1, 1, 1, 1, 1, 1, 1, 1, 1, 1, 1, 1, 1, 1, 1, 1, 1, 1, 1, 1, 1, 1,\n",
              "        1, 1, 1, 1, 1, 1, 1, 1, 1, 1, 1, 1, 1, 1, 1, 1, 1, 1, 1, 1, 1, 1, 1, 1,\n",
              "        1, 1, 1, 1, 1, 1, 1, 1, 1, 1, 1, 1, 2, 2, 2, 2, 2, 2, 2, 2, 2, 2, 2, 2,\n",
              "        2, 2, 2, 2, 2, 2, 2, 2, 2, 2, 2, 2, 2, 3, 3, 3, 3, 3, 3, 3, 3, 3, 3, 3,\n",
              "        3, 3, 3, 3, 3, 3, 3, 3, 3, 3, 3, 3, 3, 3, 3, 3, 3, 3, 3, 3, 3, 3, 3, 3,\n",
              "        3, 3, 3, 3, 3, 3, 3, 3, 3, 3, 3])"
            ]
          },
          "metadata": {},
          "execution_count": 55
        }
      ],
      "source": [
        "# tranfors class dataframe into tensor\n",
        "y = labels[\"class\"].tolist()\n",
        "y = x_np = torch.tensor(y)\n",
        "y"
      ]
    },
    {
      "cell_type": "code",
      "execution_count": null,
      "metadata": {
        "colab": {
          "base_uri": "https://localhost:8080/"
        },
        "id": "wptVUWjDjH5X",
        "outputId": "e4a25afa-3f14-41b8-daa7-7826bd5ec03a"
      },
      "outputs": [
        {
          "output_type": "execute_result",
          "data": {
            "text/plain": [
              "299"
            ]
          },
          "metadata": {},
          "execution_count": 56
        }
      ],
      "source": [
        "len(y)"
      ]
    },
    {
      "cell_type": "markdown",
      "metadata": {
        "id": "LSyw7scejH5X"
      },
      "source": [
        "## Saving graph"
      ]
    },
    {
      "cell_type": "code",
      "execution_count": null,
      "metadata": {
        "id": "RPGUGuN7kPF6"
      },
      "outputs": [],
      "source": [
        " # cria dirrotio para keyphrase\n",
        "try:\n",
        "    os.makedirs(\"/content/drive/MyDrive/mestrado_v2/processed_datasets/\"+dataset_name+'/'+keyphrase)\n",
        "except OSError as e:\n",
        "    if e.errno != errno.EEXIST:\n",
        "        raise"
      ]
    },
    {
      "cell_type": "code",
      "execution_count": null,
      "metadata": {
        "id": "D8ja9PKKjH5X"
      },
      "outputs": [],
      "source": [
        "with open('/content/drive/MyDrive/mestrado_v2/processed_datasets/'+dataset_name+'/'+keyphrase+'/graph.pkl', 'wb') as f:\n",
        "    aux = [document_nodes_text,context_nodes_text,y,class_number,classes]\n",
        "    pickle.dump(aux, f)"
      ]
    },
    {
      "cell_type": "code",
      "execution_count": null,
      "metadata": {
        "id": "iOT89znhjH5X"
      },
      "outputs": [],
      "source": [
        " # cria dirrotio para o grafo especifico\n",
        "try:\n",
        "    os.makedirs(\"/content/drive/MyDrive/mestrado_v2/processed_datasets/\"+dataset_name+\"/easy_download\")\n",
        "except OSError as e:\n",
        "    if e.errno != errno.EEXIST:\n",
        "        raise"
      ]
    },
    {
      "cell_type": "code",
      "execution_count": null,
      "metadata": {
        "id": "YhN9ZpIvTDOh"
      },
      "outputs": [],
      "source": [
        " # cria diretorio para keypharse\n",
        "try:\n",
        "    os.makedirs(\"/content/drive/MyDrive/mestrado_v2/processed_datasets/\"+dataset_name+\"/drop_and_move\")\n",
        "except OSError as e:\n",
        "    if e.errno != errno.EEXIST:\n",
        "        raise"
      ]
    },
    {
      "cell_type": "markdown",
      "metadata": {
        "id": "z55paCjSe793"
      },
      "source": [
        "## Removing Masks"
      ]
    },
    {
      "cell_type": "markdown",
      "metadata": {
        "id": "OWNs9Vbwe793"
      },
      "source": [
        "### rotulated base = 1 ❎"
      ]
    },
    {
      "cell_type": "code",
      "execution_count": null,
      "metadata": {
        "id": "4le9HsAJe793"
      },
      "outputs": [],
      "source": [
        "rotulated = 1\n",
        " # cria dirrotio para o grafo especifico\n",
        "try:\n",
        "    os.makedirs(\"/content/drive/MyDrive/mestrado_v2/processed_datasets/\"+dataset_name+'/'+keyphrase+\"/graphs_rotulated_\"+str(rotulated))\n",
        "except OSError as e:\n",
        "    if e.errno != errno.EEXIST:\n",
        "        raise"
      ]
    },
    {
      "cell_type": "code",
      "execution_count": null,
      "metadata": {
        "id": "kS_RtC0Se793",
        "colab": {
          "base_uri": "https://localhost:8080/"
        },
        "outputId": "dade3b35-a223-43df-eded-fddaf0eafc1a"
      },
      "outputs": [
        {
          "output_type": "stream",
          "name": "stderr",
          "text": [
            "/usr/local/lib/python3.10/dist-packages/torch/storage.py:414: FutureWarning: You are using `torch.load` with `weights_only=False` (the current default value), which uses the default pickle module implicitly. It is possible to construct malicious pickle data which will execute arbitrary code during unpickling (See https://github.com/pytorch/pytorch/blob/main/SECURITY.md#untrusted-models for more details). In a future release, the default value for `weights_only` will be flipped to `True`. This limits the functions that could be executed during unpickling. Arbitrary objects will no longer be allowed to be loaded via this mode unless they are explicitly allowlisted by the user via `torch.serialization.add_safe_globals`. We recommend you start setting `weights_only=True` for any use case where you don't have full control of the loaded file. Please open an issue on GitHub for any issues related to this experimental feature.\n",
            "  return torch.load(io.BytesIO(b))\n"
          ]
        }
      ],
      "source": [
        "for iteration in range(10):\n",
        "    define_graph(model_name,rotulated,iteration)"
      ]
    },
    {
      "cell_type": "markdown",
      "metadata": {
        "id": "nPGWxFExe794"
      },
      "source": [
        "### rotulated base = 5 ❎"
      ]
    },
    {
      "cell_type": "code",
      "execution_count": null,
      "metadata": {
        "id": "dnp1MoIye794"
      },
      "outputs": [],
      "source": [
        "rotulated = 5\n",
        " # cria dirrotio para o grafo especifico\n",
        "try:\n",
        "    os.makedirs(\"/content/drive/MyDrive/mestrado_v2/processed_datasets/\"+dataset_name+'/'+keyphrase+\"/graphs_rotulated_\"+str(rotulated))\n",
        "except OSError as e:\n",
        "    if e.errno != errno.EEXIST:\n",
        "        raise"
      ]
    },
    {
      "cell_type": "code",
      "execution_count": null,
      "metadata": {
        "id": "WQqyG27We794"
      },
      "outputs": [],
      "source": [
        "for iteration in range(10):\n",
        "    define_graph(model_name,rotulated,iteration)"
      ]
    },
    {
      "cell_type": "markdown",
      "metadata": {
        "id": "rW1xiXk0e794"
      },
      "source": [
        "### rotulated base = 10 ❎"
      ]
    },
    {
      "cell_type": "code",
      "execution_count": null,
      "metadata": {
        "id": "8fL_0iy3e794"
      },
      "outputs": [],
      "source": [
        "rotulated = 10\n",
        " # cria dirrotio para o grafo especifico\n",
        "try:\n",
        "    os.makedirs(\"/content/drive/MyDrive/mestrado_v2/processed_datasets/\"+dataset_name+'/'+keyphrase+\"/graphs_rotulated_\"+str(rotulated))\n",
        "except OSError as e:\n",
        "    if e.errno != errno.EEXIST:\n",
        "        raise"
      ]
    },
    {
      "cell_type": "code",
      "execution_count": null,
      "metadata": {
        "id": "5-ou9Zxae794"
      },
      "outputs": [],
      "source": [
        "for iteration in range(10):\n",
        "    define_graph(model_name,rotulated,iteration)"
      ]
    },
    {
      "cell_type": "markdown",
      "metadata": {
        "id": "IUZ8bFV-e794"
      },
      "source": [
        "### rotulated base = 20 ❎"
      ]
    },
    {
      "cell_type": "code",
      "execution_count": null,
      "metadata": {
        "id": "G8Ye5Lxce794"
      },
      "outputs": [],
      "source": [
        "rotulated = 20\n",
        " # cria dirrotio para o grafo especifico\n",
        "try:\n",
        "    os.makedirs(\"/content/drive/MyDrive/mestrado_v2/processed_datasets/\"+dataset_name+'/'+keyphrase+\"/graphs_rotulated_\"+str(rotulated))\n",
        "except OSError as e:\n",
        "    if e.errno != errno.EEXIST:\n",
        "        raise"
      ]
    },
    {
      "cell_type": "code",
      "execution_count": null,
      "metadata": {
        "id": "u9Q_607Le794"
      },
      "outputs": [],
      "source": [
        "for iteration in range(10):\n",
        "    define_graph(model_name,rotulated,iteration)"
      ]
    },
    {
      "cell_type": "markdown",
      "metadata": {
        "id": "jvmI0PYfe794"
      },
      "source": [
        "### rotulated base = 30 ❎"
      ]
    },
    {
      "cell_type": "code",
      "execution_count": null,
      "metadata": {
        "id": "HtL61WOoe794"
      },
      "outputs": [],
      "source": [
        "rotulated = 30\n",
        " # cria dirrotio para o grafo especifico\n",
        "try:\n",
        "    os.makedirs(\"/content/drive/MyDrive/mestrado_v2/processed_datasets/\"+dataset_name+'/'+keyphrase+\"/graphs_rotulated_\"+str(rotulated))\n",
        "except OSError as e:\n",
        "    if e.errno != errno.EEXIST:\n",
        "        raise"
      ]
    },
    {
      "cell_type": "code",
      "execution_count": null,
      "metadata": {
        "id": "k9i6cg96e794"
      },
      "outputs": [],
      "source": [
        "for iteration in range(10):\n",
        "    define_graph(model_name,rotulated,iteration)"
      ]
    },
    {
      "cell_type": "markdown",
      "metadata": {
        "id": "EnkFfOq7jIOm"
      },
      "source": [
        "--------------------------------------\n",
        "# Hetrogenous Graph for Keyphrase = 23\n",
        "--------------------------------------"
      ]
    },
    {
      "cell_type": "code",
      "execution_count": null,
      "metadata": {
        "id": "zeyH4gezjIOn"
      },
      "outputs": [],
      "source": [
        "# Change here to change wich keypharse to use\n",
        "keyphrase = \"keyphrase23\"\n",
        "\n",
        "model_name = dataset_name+\"_\"+keyphrase"
      ]
    },
    {
      "cell_type": "markdown",
      "metadata": {
        "id": "yVNC2KIWjIOn"
      },
      "source": [
        "## Creating the Graph"
      ]
    },
    {
      "cell_type": "markdown",
      "metadata": {
        "id": "dz-mefaRjIOn"
      },
      "source": [
        "### Defining Graph Nodes and Edges 👀\n",
        "\n",
        "- `Nodes` - documents and contexts\n",
        "- `Edges`\n",
        "  - document <- has -> context\n",
        "- `Labels` - documents classes\n"
      ]
    },
    {
      "cell_type": "markdown",
      "metadata": {
        "id": "D8sM1rxPjIOn"
      },
      "source": [
        "#### Nodes and Edges 👀"
      ]
    },
    {
      "cell_type": "markdown",
      "metadata": {
        "id": "dSsMiz2_jIOn"
      },
      "source": [
        "##### Defining Docmuent nodes, Context nodes and edges between them"
      ]
    },
    {
      "cell_type": "code",
      "execution_count": null,
      "metadata": {
        "id": "v2eqvCGqjIOn"
      },
      "outputs": [],
      "source": [
        "all_contexts_list =[]\n",
        "edges1,edges2 = [],[]\n",
        "cont = 0\n",
        "new_edge_cont = 0\n",
        "\n",
        "# graph nodes (in embedded format)\n",
        "document_nodes = []\n",
        "context_nodes = []\n",
        "# nodes' texts saved for identification in the coarsening method\n",
        "document_nodes_text = []\n",
        "context_nodes_text = []\n",
        "\n",
        "edges_tuple = []\n",
        "\n",
        "sentences = []\n",
        "cont_sentences = 0\n",
        "dit_sentences = {}\n",
        "\n",
        "# Creating graph nodes and edges\n",
        "for i in range(len(df)):\n",
        "    # adding document nodes for every doc in df\n",
        "    document_nodes.append(df[\"text_embeddings\"][i])\n",
        "    document_nodes_text.append(df[\"text\"][i])\n",
        "\n",
        "    # adding context node and edges:\n",
        "    aux = df[keyphrase][i]\n",
        "    for j,key in enumerate(aux):\n",
        "        # testing if keyphrase was already detected in df\n",
        "        if key[0] not in all_contexts_list: # if NOT\n",
        "            # add a new context node for every new keyphrase in df\n",
        "            context_nodes.append(df[keyphrase+\"_embeddings\"][i][j])\n",
        "            context_nodes_text.append(df[keyphrase][i][j][0])\n",
        "            # add a new edge between doc and new context\n",
        "            edges1.append(df[\"id\"][i])\n",
        "            edges2.append(new_edge_cont)\n",
        "            edges_tuple.append((df[\"id\"][i],new_edge_cont))\n",
        "            # update existing contexts list\n",
        "            all_contexts_list.append(key[0])\n",
        "            new_edge_cont += 1\n",
        "        else: # if YES\n",
        "            # we do NOT add context node and (already exists)\n",
        "            # add a new edge between doc and old context\n",
        "            edges1.append(df[\"id\"][i])\n",
        "            edges2.append(all_contexts_list.index(key[0]))\n",
        "            edges_tuple.append((df[\"id\"][i],all_contexts_list.index(key[0])))\n",
        "            cont+=1\n",
        "\n",
        "    # organize sentences, sentences_embeddings, and a dict with the corresponding document for each sentence\n",
        "    aux = df['sentences_embeddings'][i]\n",
        "    for j,key in enumerate(aux):\n",
        "        sentences.append(key)\n",
        "        dit_sentences[cont_sentences] = df[\"id\"][i]\n",
        "        cont_sentences += 1\n",
        "\n",
        "\n",
        "document_nodes = np.array(document_nodes)\n",
        "context_nodes = np.array(context_nodes)"
      ]
    },
    {
      "cell_type": "code",
      "execution_count": null,
      "metadata": {
        "colab": {
          "base_uri": "https://localhost:8080/"
        },
        "id": "fh1LT9s6jIOn",
        "outputId": "5f9f0908-d80b-4cff-b5d7-2ede247f3664"
      },
      "outputs": [
        {
          "output_type": "stream",
          "name": "stdout",
          "text": [
            "number of document nodes: 299\n",
            "number of context nodes: 1392\n",
            "number of shared contexts: 103\n",
            "number of direct edges (first dimension): 1495\n",
            "number of direct edges (second dimension): 1495\n"
          ]
        }
      ],
      "source": [
        "print(\"number of document nodes:\",len(document_nodes))\n",
        "print(\"number of context nodes:\",len(context_nodes))\n",
        "print(\"number of shared contexts:\",cont)\n",
        "print(\"number of direct edges (first dimension):\",len(edges1))\n",
        "print(\"number of direct edges (second dimension):\",len(edges2))"
      ]
    },
    {
      "cell_type": "code",
      "execution_count": null,
      "metadata": {
        "id": "aA7j8wEPjIOn"
      },
      "outputs": [],
      "source": [
        "nbrs = NearestNeighbors(n_neighbors=15, metric='cosine').fit(context_nodes)\n",
        "\n",
        "neighbors_list = nbrs.kneighbors(sentences, return_distance=False)\n",
        "\n",
        "# cria aresta para cada vizinho encontrado\n",
        "for i,neighbors in enumerate(neighbors_list):\n",
        "        for n in neighbors:\n",
        "            edges1.append(dit_sentences[i])\n",
        "            edges2.append(n)\n",
        "            edges_tuple.append((dit_sentences[i],n))"
      ]
    },
    {
      "cell_type": "markdown",
      "metadata": {
        "id": "kNsgb_-0jIOn"
      },
      "source": [
        "##### Ajusting everything to Tensor Objects"
      ]
    },
    {
      "cell_type": "code",
      "execution_count": null,
      "metadata": {
        "id": "LH_mAMIQjIOn"
      },
      "outputs": [],
      "source": [
        "# transforms egdes to tensor\n",
        "edges = np.array([edges1,edges2])\n",
        "edges = torch.tensor(edges)"
      ]
    },
    {
      "cell_type": "code",
      "execution_count": null,
      "metadata": {
        "id": "y-ZQGP72jIOn"
      },
      "outputs": [],
      "source": [
        "# transforms nodes to tensor\n",
        "document_nodes = np.array(document_nodes)\n",
        "document_nodes = torch.tensor(document_nodes)\n",
        "context_nodes = np.array(context_nodes)\n",
        "context_nodes = torch.tensor(context_nodes)"
      ]
    },
    {
      "cell_type": "code",
      "execution_count": null,
      "metadata": {
        "colab": {
          "base_uri": "https://localhost:8080/"
        },
        "id": "6ORThUzEjIOn",
        "outputId": "c842299d-6a80-4b10-c843-1845b535bbc9"
      },
      "outputs": [
        {
          "output_type": "execute_result",
          "data": {
            "text/plain": [
              "tensor([[-0.0220,  0.0231, -0.0769,  ...,  0.1419,  0.1079, -0.0344],\n",
              "        [ 0.0746, -0.0071,  0.0518,  ...,  0.0495,  0.0877,  0.0238],\n",
              "        [-0.0144, -0.0775,  0.0839,  ...,  0.0047,  0.0209,  0.0116],\n",
              "        ...,\n",
              "        [ 0.0063, -0.0461,  0.0246,  ...,  0.0435, -0.0737, -0.0371],\n",
              "        [-0.0916,  0.0071, -0.0406,  ...,  0.0551,  0.0544, -0.0292],\n",
              "        [-0.0790,  0.0077, -0.0081,  ...,  0.0168,  0.0037,  0.0190]])"
            ]
          },
          "metadata": {},
          "execution_count": 75
        }
      ],
      "source": [
        "# Show documents nodes\n",
        "document_nodes"
      ]
    },
    {
      "cell_type": "code",
      "execution_count": null,
      "metadata": {
        "colab": {
          "base_uri": "https://localhost:8080/"
        },
        "id": "z-iOmaifjIOn",
        "outputId": "8dc0ea3c-c220-495a-d76b-00d50f2bcfae"
      },
      "outputs": [
        {
          "output_type": "execute_result",
          "data": {
            "text/plain": [
              "299"
            ]
          },
          "metadata": {},
          "execution_count": 76
        }
      ],
      "source": [
        "# Quantity of document nodes\n",
        "len(document_nodes)"
      ]
    },
    {
      "cell_type": "code",
      "execution_count": null,
      "metadata": {
        "colab": {
          "base_uri": "https://localhost:8080/"
        },
        "id": "P-UJItDsjIOo",
        "outputId": "5777e26d-ba13-4a0f-bf75-d301db19078f"
      },
      "outputs": [
        {
          "output_type": "execute_result",
          "data": {
            "text/plain": [
              "tensor([[-0.0460,  0.0379, -0.0279,  ...,  0.1318,  0.0712, -0.0755],\n",
              "        [ 0.0059,  0.0400,  0.0011,  ...,  0.0658,  0.0987, -0.1089],\n",
              "        [-0.0788, -0.0112, -0.0691,  ...,  0.0927,  0.0427, -0.0612],\n",
              "        ...,\n",
              "        [-0.0145,  0.0006,  0.0273,  ...,  0.0439,  0.0060, -0.0276],\n",
              "        [-0.0154,  0.0035,  0.0364,  ...,  0.0337,  0.0217, -0.0218],\n",
              "        [ 0.0247, -0.0422, -0.0180,  ...,  0.0323,  0.0403, -0.0162]])"
            ]
          },
          "metadata": {},
          "execution_count": 77
        }
      ],
      "source": [
        "# Show context nodes\n",
        "context_nodes"
      ]
    },
    {
      "cell_type": "code",
      "execution_count": null,
      "metadata": {
        "colab": {
          "base_uri": "https://localhost:8080/"
        },
        "id": "BW5IkQMxjIOo",
        "outputId": "f5efc09b-10c6-4e58-8d56-eb7cc17d7ccb"
      },
      "outputs": [
        {
          "output_type": "execute_result",
          "data": {
            "text/plain": [
              "1392"
            ]
          },
          "metadata": {},
          "execution_count": 78
        }
      ],
      "source": [
        "# Quantity of context nodes\n",
        "len(context_nodes)"
      ]
    },
    {
      "cell_type": "code",
      "execution_count": null,
      "metadata": {
        "colab": {
          "base_uri": "https://localhost:8080/"
        },
        "id": "fl9-0zyrjIOo",
        "outputId": "1367fe40-2257-4149-cd54-5d4639eb1b51"
      },
      "outputs": [
        {
          "output_type": "stream",
          "name": "stdout",
          "text": [
            "34630\n",
            "34630\n"
          ]
        }
      ],
      "source": [
        "# Quantity of edges\n",
        "print(len(edges[0]))\n",
        "print(len(edges[1]))"
      ]
    },
    {
      "cell_type": "code",
      "execution_count": null,
      "metadata": {
        "colab": {
          "base_uri": "https://localhost:8080/"
        },
        "id": "rbAtJ-E1jIOo",
        "outputId": "4207c67b-bb0c-4274-8a3f-6a7164181072"
      },
      "outputs": [
        {
          "output_type": "stream",
          "name": "stdout",
          "text": [
            "tensor([[   0,    0,    0,  ...,  298,  298,  298],\n",
            "        [   0,    1,    2,  ..., 1207, 1270, 1219]])\n"
          ]
        }
      ],
      "source": [
        "# showing edges\n",
        "print(edges)"
      ]
    },
    {
      "cell_type": "markdown",
      "metadata": {
        "id": "Foys89BwjIOo"
      },
      "source": [
        "#### Class Labels"
      ]
    },
    {
      "cell_type": "code",
      "execution_count": null,
      "metadata": {
        "colab": {
          "base_uri": "https://localhost:8080/"
        },
        "id": "QgidufjijIOo",
        "outputId": "21ca8aa1-37d2-4923-9a0c-1d7c537c3bf7"
      },
      "outputs": [
        {
          "output_type": "stream",
          "name": "stdout",
          "text": [
            "['ArtificiallIntelligence' 'Robotics' 'Systems' 'Theory']\n"
          ]
        }
      ],
      "source": [
        "# All different classes\n",
        "print(df[\"class\"].unique())"
      ]
    },
    {
      "cell_type": "code",
      "execution_count": null,
      "metadata": {
        "colab": {
          "base_uri": "https://localhost:8080/"
        },
        "id": "SsuxQ-y7jIOo",
        "outputId": "14ced414-c3e8-4963-f668-55b4890fcc8f"
      },
      "outputs": [
        {
          "output_type": "stream",
          "name": "stdout",
          "text": [
            "{'ArtificiallIntelligence': 0, 'Robotics': 1, 'Systems': 2, 'Theory': 3} \n",
            "\n"
          ]
        },
        {
          "output_type": "stream",
          "name": "stderr",
          "text": [
            "<ipython-input-82-a018e46c97dd>:12: SettingWithCopyWarning: \n",
            "A value is trying to be set on a copy of a slice from a DataFrame\n",
            "\n",
            "See the caveats in the documentation: https://pandas.pydata.org/pandas-docs/stable/user_guide/indexing.html#returning-a-view-versus-a-copy\n",
            "  labels[\"class\"][i] = dit[labels[\"class\"][i]]\n"
          ]
        },
        {
          "output_type": "execute_result",
          "data": {
            "text/plain": [
              "  class\n",
              "0     0\n",
              "1     0\n",
              "2     0\n",
              "3     0\n",
              "4     0"
            ],
            "text/html": [
              "\n",
              "  <div id=\"df-e5b62b65-ec86-49c8-bd46-288d16a8a96a\" class=\"colab-df-container\">\n",
              "    <div>\n",
              "<style scoped>\n",
              "    .dataframe tbody tr th:only-of-type {\n",
              "        vertical-align: middle;\n",
              "    }\n",
              "\n",
              "    .dataframe tbody tr th {\n",
              "        vertical-align: top;\n",
              "    }\n",
              "\n",
              "    .dataframe thead th {\n",
              "        text-align: right;\n",
              "    }\n",
              "</style>\n",
              "<table border=\"1\" class=\"dataframe\">\n",
              "  <thead>\n",
              "    <tr style=\"text-align: right;\">\n",
              "      <th></th>\n",
              "      <th>class</th>\n",
              "    </tr>\n",
              "  </thead>\n",
              "  <tbody>\n",
              "    <tr>\n",
              "      <th>0</th>\n",
              "      <td>0</td>\n",
              "    </tr>\n",
              "    <tr>\n",
              "      <th>1</th>\n",
              "      <td>0</td>\n",
              "    </tr>\n",
              "    <tr>\n",
              "      <th>2</th>\n",
              "      <td>0</td>\n",
              "    </tr>\n",
              "    <tr>\n",
              "      <th>3</th>\n",
              "      <td>0</td>\n",
              "    </tr>\n",
              "    <tr>\n",
              "      <th>4</th>\n",
              "      <td>0</td>\n",
              "    </tr>\n",
              "  </tbody>\n",
              "</table>\n",
              "</div>\n",
              "    <div class=\"colab-df-buttons\">\n",
              "\n",
              "  <div class=\"colab-df-container\">\n",
              "    <button class=\"colab-df-convert\" onclick=\"convertToInteractive('df-e5b62b65-ec86-49c8-bd46-288d16a8a96a')\"\n",
              "            title=\"Convert this dataframe to an interactive table.\"\n",
              "            style=\"display:none;\">\n",
              "\n",
              "  <svg xmlns=\"http://www.w3.org/2000/svg\" height=\"24px\" viewBox=\"0 -960 960 960\">\n",
              "    <path d=\"M120-120v-720h720v720H120Zm60-500h600v-160H180v160Zm220 220h160v-160H400v160Zm0 220h160v-160H400v160ZM180-400h160v-160H180v160Zm440 0h160v-160H620v160ZM180-180h160v-160H180v160Zm440 0h160v-160H620v160Z\"/>\n",
              "  </svg>\n",
              "    </button>\n",
              "\n",
              "  <style>\n",
              "    .colab-df-container {\n",
              "      display:flex;\n",
              "      gap: 12px;\n",
              "    }\n",
              "\n",
              "    .colab-df-convert {\n",
              "      background-color: #E8F0FE;\n",
              "      border: none;\n",
              "      border-radius: 50%;\n",
              "      cursor: pointer;\n",
              "      display: none;\n",
              "      fill: #1967D2;\n",
              "      height: 32px;\n",
              "      padding: 0 0 0 0;\n",
              "      width: 32px;\n",
              "    }\n",
              "\n",
              "    .colab-df-convert:hover {\n",
              "      background-color: #E2EBFA;\n",
              "      box-shadow: 0px 1px 2px rgba(60, 64, 67, 0.3), 0px 1px 3px 1px rgba(60, 64, 67, 0.15);\n",
              "      fill: #174EA6;\n",
              "    }\n",
              "\n",
              "    .colab-df-buttons div {\n",
              "      margin-bottom: 4px;\n",
              "    }\n",
              "\n",
              "    [theme=dark] .colab-df-convert {\n",
              "      background-color: #3B4455;\n",
              "      fill: #D2E3FC;\n",
              "    }\n",
              "\n",
              "    [theme=dark] .colab-df-convert:hover {\n",
              "      background-color: #434B5C;\n",
              "      box-shadow: 0px 1px 3px 1px rgba(0, 0, 0, 0.15);\n",
              "      filter: drop-shadow(0px 1px 2px rgba(0, 0, 0, 0.3));\n",
              "      fill: #FFFFFF;\n",
              "    }\n",
              "  </style>\n",
              "\n",
              "    <script>\n",
              "      const buttonEl =\n",
              "        document.querySelector('#df-e5b62b65-ec86-49c8-bd46-288d16a8a96a button.colab-df-convert');\n",
              "      buttonEl.style.display =\n",
              "        google.colab.kernel.accessAllowed ? 'block' : 'none';\n",
              "\n",
              "      async function convertToInteractive(key) {\n",
              "        const element = document.querySelector('#df-e5b62b65-ec86-49c8-bd46-288d16a8a96a');\n",
              "        const dataTable =\n",
              "          await google.colab.kernel.invokeFunction('convertToInteractive',\n",
              "                                                    [key], {});\n",
              "        if (!dataTable) return;\n",
              "\n",
              "        const docLinkHtml = 'Like what you see? Visit the ' +\n",
              "          '<a target=\"_blank\" href=https://colab.research.google.com/notebooks/data_table.ipynb>data table notebook</a>'\n",
              "          + ' to learn more about interactive tables.';\n",
              "        element.innerHTML = '';\n",
              "        dataTable['output_type'] = 'display_data';\n",
              "        await google.colab.output.renderOutput(dataTable, element);\n",
              "        const docLink = document.createElement('div');\n",
              "        docLink.innerHTML = docLinkHtml;\n",
              "        element.appendChild(docLink);\n",
              "      }\n",
              "    </script>\n",
              "  </div>\n",
              "\n",
              "\n",
              "<div id=\"df-058ba29f-4205-4cc7-bdb6-de277f0072f9\">\n",
              "  <button class=\"colab-df-quickchart\" onclick=\"quickchart('df-058ba29f-4205-4cc7-bdb6-de277f0072f9')\"\n",
              "            title=\"Suggest charts\"\n",
              "            style=\"display:none;\">\n",
              "\n",
              "<svg xmlns=\"http://www.w3.org/2000/svg\" height=\"24px\"viewBox=\"0 0 24 24\"\n",
              "     width=\"24px\">\n",
              "    <g>\n",
              "        <path d=\"M19 3H5c-1.1 0-2 .9-2 2v14c0 1.1.9 2 2 2h14c1.1 0 2-.9 2-2V5c0-1.1-.9-2-2-2zM9 17H7v-7h2v7zm4 0h-2V7h2v10zm4 0h-2v-4h2v4z\"/>\n",
              "    </g>\n",
              "</svg>\n",
              "  </button>\n",
              "\n",
              "<style>\n",
              "  .colab-df-quickchart {\n",
              "      --bg-color: #E8F0FE;\n",
              "      --fill-color: #1967D2;\n",
              "      --hover-bg-color: #E2EBFA;\n",
              "      --hover-fill-color: #174EA6;\n",
              "      --disabled-fill-color: #AAA;\n",
              "      --disabled-bg-color: #DDD;\n",
              "  }\n",
              "\n",
              "  [theme=dark] .colab-df-quickchart {\n",
              "      --bg-color: #3B4455;\n",
              "      --fill-color: #D2E3FC;\n",
              "      --hover-bg-color: #434B5C;\n",
              "      --hover-fill-color: #FFFFFF;\n",
              "      --disabled-bg-color: #3B4455;\n",
              "      --disabled-fill-color: #666;\n",
              "  }\n",
              "\n",
              "  .colab-df-quickchart {\n",
              "    background-color: var(--bg-color);\n",
              "    border: none;\n",
              "    border-radius: 50%;\n",
              "    cursor: pointer;\n",
              "    display: none;\n",
              "    fill: var(--fill-color);\n",
              "    height: 32px;\n",
              "    padding: 0;\n",
              "    width: 32px;\n",
              "  }\n",
              "\n",
              "  .colab-df-quickchart:hover {\n",
              "    background-color: var(--hover-bg-color);\n",
              "    box-shadow: 0 1px 2px rgba(60, 64, 67, 0.3), 0 1px 3px 1px rgba(60, 64, 67, 0.15);\n",
              "    fill: var(--button-hover-fill-color);\n",
              "  }\n",
              "\n",
              "  .colab-df-quickchart-complete:disabled,\n",
              "  .colab-df-quickchart-complete:disabled:hover {\n",
              "    background-color: var(--disabled-bg-color);\n",
              "    fill: var(--disabled-fill-color);\n",
              "    box-shadow: none;\n",
              "  }\n",
              "\n",
              "  .colab-df-spinner {\n",
              "    border: 2px solid var(--fill-color);\n",
              "    border-color: transparent;\n",
              "    border-bottom-color: var(--fill-color);\n",
              "    animation:\n",
              "      spin 1s steps(1) infinite;\n",
              "  }\n",
              "\n",
              "  @keyframes spin {\n",
              "    0% {\n",
              "      border-color: transparent;\n",
              "      border-bottom-color: var(--fill-color);\n",
              "      border-left-color: var(--fill-color);\n",
              "    }\n",
              "    20% {\n",
              "      border-color: transparent;\n",
              "      border-left-color: var(--fill-color);\n",
              "      border-top-color: var(--fill-color);\n",
              "    }\n",
              "    30% {\n",
              "      border-color: transparent;\n",
              "      border-left-color: var(--fill-color);\n",
              "      border-top-color: var(--fill-color);\n",
              "      border-right-color: var(--fill-color);\n",
              "    }\n",
              "    40% {\n",
              "      border-color: transparent;\n",
              "      border-right-color: var(--fill-color);\n",
              "      border-top-color: var(--fill-color);\n",
              "    }\n",
              "    60% {\n",
              "      border-color: transparent;\n",
              "      border-right-color: var(--fill-color);\n",
              "    }\n",
              "    80% {\n",
              "      border-color: transparent;\n",
              "      border-right-color: var(--fill-color);\n",
              "      border-bottom-color: var(--fill-color);\n",
              "    }\n",
              "    90% {\n",
              "      border-color: transparent;\n",
              "      border-bottom-color: var(--fill-color);\n",
              "    }\n",
              "  }\n",
              "</style>\n",
              "\n",
              "  <script>\n",
              "    async function quickchart(key) {\n",
              "      const quickchartButtonEl =\n",
              "        document.querySelector('#' + key + ' button');\n",
              "      quickchartButtonEl.disabled = true;  // To prevent multiple clicks.\n",
              "      quickchartButtonEl.classList.add('colab-df-spinner');\n",
              "      try {\n",
              "        const charts = await google.colab.kernel.invokeFunction(\n",
              "            'suggestCharts', [key], {});\n",
              "      } catch (error) {\n",
              "        console.error('Error during call to suggestCharts:', error);\n",
              "      }\n",
              "      quickchartButtonEl.classList.remove('colab-df-spinner');\n",
              "      quickchartButtonEl.classList.add('colab-df-quickchart-complete');\n",
              "    }\n",
              "    (() => {\n",
              "      let quickchartButtonEl =\n",
              "        document.querySelector('#df-058ba29f-4205-4cc7-bdb6-de277f0072f9 button');\n",
              "      quickchartButtonEl.style.display =\n",
              "        google.colab.kernel.accessAllowed ? 'block' : 'none';\n",
              "    })();\n",
              "  </script>\n",
              "</div>\n",
              "\n",
              "    </div>\n",
              "  </div>\n"
            ],
            "application/vnd.google.colaboratory.intrinsic+json": {
              "type": "dataframe",
              "variable_name": "labels",
              "summary": "{\n  \"name\": \"labels\",\n  \"rows\": 299,\n  \"fields\": [\n    {\n      \"column\": \"class\",\n      \"properties\": {\n        \"dtype\": \"date\",\n        \"min\": 0,\n        \"max\": 3,\n        \"num_unique_values\": 4,\n        \"samples\": [\n          1,\n          3,\n          0\n        ],\n        \"semantic_type\": \"\",\n        \"description\": \"\"\n      }\n    }\n  ]\n}"
            }
          },
          "metadata": {},
          "execution_count": 82
        }
      ],
      "source": [
        "# Creating labels for classification\n",
        "# the dictionary is a numeric representation for each possible \"document\" class\n",
        "\n",
        "dit = {}\n",
        "for i,classe in enumerate(df[\"class\"].unique()):\n",
        "  dit[classe] = i\n",
        "\n",
        "print(dit,'\\n')\n",
        "\n",
        "labels = df[[\"class\"]]\n",
        "for i in range(len(df[[\"class\"]])):\n",
        "    labels[\"class\"][i] = dit[labels[\"class\"][i]]\n",
        "labels.head()"
      ]
    },
    {
      "cell_type": "code",
      "execution_count": null,
      "metadata": {
        "colab": {
          "base_uri": "https://localhost:8080/"
        },
        "id": "9_n2pz6LjIOo",
        "outputId": "74a1ff47-ec33-4bc8-ae95-23c084f139ea"
      },
      "outputs": [
        {
          "output_type": "execute_result",
          "data": {
            "text/plain": [
              "tensor([0, 0, 0, 0, 0, 0, 0, 0, 0, 0, 0, 0, 0, 0, 0, 0, 0, 0, 0, 0, 0, 0, 0, 0,\n",
              "        0, 0, 0, 0, 0, 0, 0, 0, 0, 0, 0, 0, 0, 0, 0, 0, 0, 0, 0, 0, 0, 0, 0, 0,\n",
              "        0, 0, 0, 0, 0, 0, 0, 0, 0, 0, 0, 0, 0, 0, 0, 0, 0, 0, 0, 0, 0, 0, 0, 0,\n",
              "        0, 0, 0, 0, 0, 0, 0, 0, 0, 0, 0, 0, 0, 0, 0, 0, 0, 0, 0, 0, 0, 0, 0, 0,\n",
              "        0, 0, 0, 0, 0, 0, 0, 0, 0, 0, 0, 0, 0, 0, 0, 0, 0, 0, 0, 0, 0, 0, 0, 0,\n",
              "        0, 0, 0, 0, 0, 0, 0, 0, 1, 1, 1, 1, 1, 1, 1, 1, 1, 1, 1, 1, 1, 1, 1, 1,\n",
              "        1, 1, 1, 1, 1, 1, 1, 1, 1, 1, 1, 1, 1, 1, 1, 1, 1, 1, 1, 1, 1, 1, 1, 1,\n",
              "        1, 1, 1, 1, 1, 1, 1, 1, 1, 1, 1, 1, 1, 1, 1, 1, 1, 1, 1, 1, 1, 1, 1, 1,\n",
              "        1, 1, 1, 1, 1, 1, 1, 1, 1, 1, 1, 1, 1, 1, 1, 1, 1, 1, 1, 1, 1, 1, 1, 1,\n",
              "        1, 1, 1, 1, 1, 1, 1, 1, 1, 1, 1, 1, 2, 2, 2, 2, 2, 2, 2, 2, 2, 2, 2, 2,\n",
              "        2, 2, 2, 2, 2, 2, 2, 2, 2, 2, 2, 2, 2, 3, 3, 3, 3, 3, 3, 3, 3, 3, 3, 3,\n",
              "        3, 3, 3, 3, 3, 3, 3, 3, 3, 3, 3, 3, 3, 3, 3, 3, 3, 3, 3, 3, 3, 3, 3, 3,\n",
              "        3, 3, 3, 3, 3, 3, 3, 3, 3, 3, 3])"
            ]
          },
          "metadata": {},
          "execution_count": 83
        }
      ],
      "source": [
        "# tranfors class dataframe into tensor\n",
        "y = labels[\"class\"].tolist()\n",
        "y = x_np = torch.tensor(y)\n",
        "y"
      ]
    },
    {
      "cell_type": "code",
      "execution_count": null,
      "metadata": {
        "colab": {
          "base_uri": "https://localhost:8080/"
        },
        "id": "-pSZAkyljIOo",
        "outputId": "111928f0-a2b5-4944-ebe3-03a291dcf16e"
      },
      "outputs": [
        {
          "output_type": "execute_result",
          "data": {
            "text/plain": [
              "299"
            ]
          },
          "metadata": {},
          "execution_count": 84
        }
      ],
      "source": [
        "len(y)"
      ]
    },
    {
      "cell_type": "markdown",
      "metadata": {
        "id": "NxDZi2JFjIOo"
      },
      "source": [
        "## Saving graph"
      ]
    },
    {
      "cell_type": "code",
      "execution_count": null,
      "metadata": {
        "id": "7KVWkIxfkWci"
      },
      "outputs": [],
      "source": [
        " # cria diretorio para keyphrase\n",
        "try:\n",
        "    os.makedirs(\"/content/drive/MyDrive/mestrado_v2/processed_datasets/\"+dataset_name+'/'+keyphrase)\n",
        "except OSError as e:\n",
        "    if e.errno != errno.EEXIST:\n",
        "        raise"
      ]
    },
    {
      "cell_type": "code",
      "execution_count": null,
      "metadata": {
        "id": "Ikm0EnbYjIOo"
      },
      "outputs": [],
      "source": [
        "with open('/content/drive/MyDrive/mestrado_v2/processed_datasets/'+dataset_name+'/'+keyphrase+'/graph.pkl', 'wb') as f:\n",
        "    aux = [document_nodes_text,context_nodes_text,y,class_number,classes]\n",
        "    pickle.dump(aux, f)"
      ]
    },
    {
      "cell_type": "code",
      "execution_count": null,
      "metadata": {
        "id": "bwrPMspPjIOo"
      },
      "outputs": [],
      "source": [
        " # cria diretorio para o grafo especifico\n",
        "try:\n",
        "    os.makedirs(\"/content/drive/MyDrive/mestrado_v2/processed_datasets/\"+dataset_name+\"/easy_download\")\n",
        "except OSError as e:\n",
        "    if e.errno != errno.EEXIST:\n",
        "        raise"
      ]
    },
    {
      "cell_type": "code",
      "execution_count": null,
      "metadata": {
        "id": "Rt6cUQCkTFRf"
      },
      "outputs": [],
      "source": [
        " # cria diretorio para keypharse\n",
        "try:\n",
        "    os.makedirs(\"/content/drive/MyDrive/mestrado_v2/processed_datasets/\"+dataset_name+\"/drop_and_move\")\n",
        "except OSError as e:\n",
        "    if e.errno != errno.EEXIST:\n",
        "        raise"
      ]
    },
    {
      "cell_type": "markdown",
      "metadata": {
        "id": "HeYWuHlefCyi"
      },
      "source": [
        "## Removing Masks"
      ]
    },
    {
      "cell_type": "markdown",
      "metadata": {
        "id": "AF2RDFyIfCyi"
      },
      "source": [
        "### rotulated base = 1 ❎"
      ]
    },
    {
      "cell_type": "code",
      "execution_count": null,
      "metadata": {
        "id": "nsIRN_0_fCyi"
      },
      "outputs": [],
      "source": [
        "rotulated = 1\n",
        " # cria dirrotio para o grafo especifico\n",
        "try:\n",
        "    os.makedirs(\"/content/drive/MyDrive/mestrado_v2/processed_datasets/\"+dataset_name+'/'+keyphrase+\"/graphs_rotulated_\"+str(rotulated))\n",
        "except OSError as e:\n",
        "    if e.errno != errno.EEXIST:\n",
        "        raise"
      ]
    },
    {
      "cell_type": "code",
      "execution_count": null,
      "metadata": {
        "id": "5igVyTabfCyi",
        "colab": {
          "base_uri": "https://localhost:8080/"
        },
        "outputId": "3f30d7b8-736b-498d-ad80-ed82c8569cb2"
      },
      "outputs": [
        {
          "output_type": "stream",
          "name": "stderr",
          "text": [
            "/usr/local/lib/python3.10/dist-packages/torch/storage.py:414: FutureWarning: You are using `torch.load` with `weights_only=False` (the current default value), which uses the default pickle module implicitly. It is possible to construct malicious pickle data which will execute arbitrary code during unpickling (See https://github.com/pytorch/pytorch/blob/main/SECURITY.md#untrusted-models for more details). In a future release, the default value for `weights_only` will be flipped to `True`. This limits the functions that could be executed during unpickling. Arbitrary objects will no longer be allowed to be loaded via this mode unless they are explicitly allowlisted by the user via `torch.serialization.add_safe_globals`. We recommend you start setting `weights_only=True` for any use case where you don't have full control of the loaded file. Please open an issue on GitHub for any issues related to this experimental feature.\n",
            "  return torch.load(io.BytesIO(b))\n"
          ]
        }
      ],
      "source": [
        "for iteration in range(10):\n",
        "    define_graph(model_name,rotulated,iteration)"
      ]
    },
    {
      "cell_type": "markdown",
      "metadata": {
        "id": "DZ83WQQufCyi"
      },
      "source": [
        "### rotulated base = 5 ❎"
      ]
    },
    {
      "cell_type": "code",
      "execution_count": null,
      "metadata": {
        "id": "niWOa_gsfCyi"
      },
      "outputs": [],
      "source": [
        "rotulated = 5\n",
        " # cria dirrotio para o grafo especifico\n",
        "try:\n",
        "    os.makedirs(\"/content/drive/MyDrive/mestrado_v2/processed_datasets/\"+dataset_name+'/'+keyphrase+\"/graphs_rotulated_\"+str(rotulated))\n",
        "except OSError as e:\n",
        "    if e.errno != errno.EEXIST:\n",
        "        raise"
      ]
    },
    {
      "cell_type": "code",
      "execution_count": null,
      "metadata": {
        "id": "ZYohdWzrfCyi"
      },
      "outputs": [],
      "source": [
        "for iteration in range(10):\n",
        "    define_graph(model_name,rotulated,iteration)"
      ]
    },
    {
      "cell_type": "markdown",
      "metadata": {
        "id": "J95m4oC6fCyj"
      },
      "source": [
        "### rotulated base = 10 ❎"
      ]
    },
    {
      "cell_type": "code",
      "execution_count": null,
      "metadata": {
        "id": "UwuRS276fCyj"
      },
      "outputs": [],
      "source": [
        "rotulated = 10\n",
        " # cria dirrotio para o grafo especifico\n",
        "try:\n",
        "    os.makedirs(\"/content/drive/MyDrive/mestrado_v2/processed_datasets/\"+dataset_name+'/'+keyphrase+\"/graphs_rotulated_\"+str(rotulated))\n",
        "except OSError as e:\n",
        "    if e.errno != errno.EEXIST:\n",
        "        raise"
      ]
    },
    {
      "cell_type": "code",
      "execution_count": null,
      "metadata": {
        "id": "yY711folfCyj"
      },
      "outputs": [],
      "source": [
        "for iteration in range(10):\n",
        "    define_graph(model_name,rotulated,iteration)"
      ]
    },
    {
      "cell_type": "markdown",
      "metadata": {
        "id": "0blqe0wifCyj"
      },
      "source": [
        "### rotulated base = 20 ❎"
      ]
    },
    {
      "cell_type": "code",
      "execution_count": null,
      "metadata": {
        "id": "Hyv9hl6mfCyj"
      },
      "outputs": [],
      "source": [
        "rotulated = 20\n",
        " # cria dirrotio para o grafo especifico\n",
        "try:\n",
        "    os.makedirs(\"/content/drive/MyDrive/mestrado_v2/processed_datasets/\"+dataset_name+'/'+keyphrase+\"/graphs_rotulated_\"+str(rotulated))\n",
        "except OSError as e:\n",
        "    if e.errno != errno.EEXIST:\n",
        "        raise"
      ]
    },
    {
      "cell_type": "code",
      "execution_count": null,
      "metadata": {
        "id": "ECAQQ1IufCyj"
      },
      "outputs": [],
      "source": [
        "for iteration in range(10):\n",
        "    define_graph(model_name,rotulated,iteration)"
      ]
    },
    {
      "cell_type": "markdown",
      "metadata": {
        "id": "1kz3RowYfCyj"
      },
      "source": [
        "### rotulated base = 30 ❎"
      ]
    },
    {
      "cell_type": "code",
      "execution_count": null,
      "metadata": {
        "id": "uwKcZUFAfCyj"
      },
      "outputs": [],
      "source": [
        "rotulated = 30\n",
        " # cria dirrotio para o grafo especifico\n",
        "try:\n",
        "    os.makedirs(\"/content/drive/MyDrive/mestrado_v2/processed_datasets/\"+dataset_name+'/'+keyphrase+\"/graphs_rotulated_\"+str(rotulated))\n",
        "except OSError as e:\n",
        "    if e.errno != errno.EEXIST:\n",
        "        raise"
      ]
    },
    {
      "cell_type": "code",
      "execution_count": null,
      "metadata": {
        "id": "DJWcXMjDfCyj"
      },
      "outputs": [],
      "source": [
        "for iteration in range(10):\n",
        "    define_graph(model_name,rotulated,iteration)"
      ]
    }
  ],
  "metadata": {
    "colab": {
      "collapsed_sections": [
        "Qtpe_CYHnTqU",
        "S-0aDh52nO-S",
        "eJMw5L-g4BQ8",
        "9o5zWewOblpe",
        "0T1oDBmUblpj",
        "wNNme2C1blpj",
        "YPIbdnNjblpj",
        "0RCul7wQblpj",
        "t6ILovoGblpk",
        "t0i-Jker93qQ",
        "mcZr0lEMblpl",
        "O1S2wtanblpl",
        "IbRULGY2blpl",
        "45GHi9mwblpl",
        "m0B4MdUQblpl",
        "hbyLFKjljH5V",
        "4W0JjtPKjH5W",
        "BlGY0kcBjH5W",
        "x6jhL9GFjH5W",
        "p70r4iNUjH5X",
        "LSyw7scejH5X",
        "z55paCjSe793",
        "OWNs9Vbwe793",
        "nPGWxFExe794",
        "rW1xiXk0e794",
        "IUZ8bFV-e794",
        "jvmI0PYfe794",
        "EnkFfOq7jIOm",
        "yVNC2KIWjIOn",
        "dz-mefaRjIOn",
        "dSsMiz2_jIOn",
        "NxDZi2JFjIOo",
        "AF2RDFyIfCyi",
        "DZ83WQQufCyi",
        "J95m4oC6fCyj",
        "0blqe0wifCyj",
        "1kz3RowYfCyj"
      ],
      "provenance": []
    },
    "kernelspec": {
      "display_name": "Python 3",
      "name": "python3"
    },
    "language_info": {
      "name": "python"
    }
  },
  "nbformat": 4,
  "nbformat_minor": 0
}